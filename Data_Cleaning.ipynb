{
 "cells": [
  {
   "cell_type": "code",
   "execution_count": 1,
   "metadata": {},
   "outputs": [],
   "source": [
    "import pandas as pd\n",
    "import numpy as np\n",
    "import matplotlib.pyplot as plt\n",
    "import seaborn as sns"
   ]
  },
  {
   "cell_type": "code",
   "execution_count": 2,
   "metadata": {},
   "outputs": [],
   "source": [
    "df1,df2,df3,df4,df5 = pd.read_csv('jobs'),pd.read_csv('jobs2'),pd.read_csv('jobs3'),pd.read_csv('jobs4'),pd.read_csv('jobs5')"
   ]
  },
  {
   "cell_type": "markdown",
   "metadata": {},
   "source": [
    "# Combining the dfs"
   ]
  },
  {
   "cell_type": "code",
   "execution_count": 3,
   "metadata": {},
   "outputs": [
    {
     "data": {
      "text/html": [
       "<div>\n",
       "<style scoped>\n",
       "    .dataframe tbody tr th:only-of-type {\n",
       "        vertical-align: middle;\n",
       "    }\n",
       "\n",
       "    .dataframe tbody tr th {\n",
       "        vertical-align: top;\n",
       "    }\n",
       "\n",
       "    .dataframe thead th {\n",
       "        text-align: right;\n",
       "    }\n",
       "</style>\n",
       "<table border=\"1\" class=\"dataframe\">\n",
       "  <thead>\n",
       "    <tr style=\"text-align: right;\">\n",
       "      <th></th>\n",
       "      <th>company_name</th>\n",
       "      <th>job_title</th>\n",
       "      <th>salary_estimate</th>\n",
       "      <th>location</th>\n",
       "      <th>rating</th>\n",
       "      <th>size</th>\n",
       "      <th>founded</th>\n",
       "      <th>type_of_ownership</th>\n",
       "      <th>industry</th>\n",
       "      <th>sector</th>\n",
       "      <th>revenue</th>\n",
       "    </tr>\n",
       "  </thead>\n",
       "  <tbody>\n",
       "    <tr>\n",
       "      <th>798</th>\n",
       "      <td>NaN</td>\n",
       "      <td>Sr Data Analyst</td>\n",
       "      <td>$72K - $124K (Glassdoor est.)</td>\n",
       "      <td>Indianapolis, IN</td>\n",
       "      <td>NaN</td>\n",
       "      <td>1 to 50 Employees</td>\n",
       "      <td>1985.0</td>\n",
       "      <td>Company - Private</td>\n",
       "      <td>Staffing &amp; Outsourcing</td>\n",
       "      <td>Business Services</td>\n",
       "      <td>$1 to $5 million (USD)</td>\n",
       "    </tr>\n",
       "  </tbody>\n",
       "</table>\n",
       "</div>"
      ],
      "text/plain": [
       "     company_name        job_title                salary_estimate  \\\n",
       "798           NaN  Sr Data Analyst  $72K - $124K (Glassdoor est.)   \n",
       "\n",
       "             location  rating               size  founded  type_of_ownership  \\\n",
       "798  Indianapolis, IN     NaN  1 to 50 Employees   1985.0  Company - Private   \n",
       "\n",
       "                   industry             sector                 revenue  \n",
       "798  Staffing & Outsourcing  Business Services  $1 to $5 million (USD)  "
      ]
     },
     "execution_count": 3,
     "metadata": {},
     "output_type": "execute_result"
    }
   ],
   "source": [
    "df1.sample()"
   ]
  },
  {
   "cell_type": "code",
   "execution_count": 4,
   "metadata": {},
   "outputs": [
    {
     "data": {
      "text/html": [
       "<div>\n",
       "<style scoped>\n",
       "    .dataframe tbody tr th:only-of-type {\n",
       "        vertical-align: middle;\n",
       "    }\n",
       "\n",
       "    .dataframe tbody tr th {\n",
       "        vertical-align: top;\n",
       "    }\n",
       "\n",
       "    .dataframe thead th {\n",
       "        text-align: right;\n",
       "    }\n",
       "</style>\n",
       "<table border=\"1\" class=\"dataframe\">\n",
       "  <thead>\n",
       "    <tr style=\"text-align: right;\">\n",
       "      <th></th>\n",
       "      <th>company_name</th>\n",
       "      <th>job_title</th>\n",
       "      <th>salary_estimate</th>\n",
       "      <th>location</th>\n",
       "      <th>rating</th>\n",
       "      <th>size</th>\n",
       "      <th>founded</th>\n",
       "      <th>type_of_ownership</th>\n",
       "      <th>industry</th>\n",
       "      <th>sector</th>\n",
       "      <th>revenue</th>\n",
       "    </tr>\n",
       "  </thead>\n",
       "  <tbody>\n",
       "    <tr>\n",
       "      <th>197</th>\n",
       "      <td>NaN</td>\n",
       "      <td>Survey Data Analyst &amp; Visualization (NASA)</td>\n",
       "      <td>NaN</td>\n",
       "      <td>Washington, DC</td>\n",
       "      <td>4.3</td>\n",
       "      <td>1001 to 5000 Employees</td>\n",
       "      <td>1961.0</td>\n",
       "      <td>Company - Private</td>\n",
       "      <td>Consulting</td>\n",
       "      <td>Business Services</td>\n",
       "      <td>$100 to $500 million (USD)</td>\n",
       "    </tr>\n",
       "  </tbody>\n",
       "</table>\n",
       "</div>"
      ],
      "text/plain": [
       "     company_name                                   job_title salary_estimate  \\\n",
       "197           NaN  Survey Data Analyst & Visualization (NASA)             NaN   \n",
       "\n",
       "           location  rating                    size  founded  \\\n",
       "197  Washington, DC     4.3  1001 to 5000 Employees   1961.0   \n",
       "\n",
       "     type_of_ownership    industry             sector  \\\n",
       "197  Company - Private  Consulting  Business Services   \n",
       "\n",
       "                        revenue  \n",
       "197  $100 to $500 million (USD)  "
      ]
     },
     "execution_count": 4,
     "metadata": {},
     "output_type": "execute_result"
    }
   ],
   "source": [
    "df2.sample()"
   ]
  },
  {
   "cell_type": "code",
   "execution_count": 5,
   "metadata": {},
   "outputs": [
    {
     "data": {
      "text/html": [
       "<div>\n",
       "<style scoped>\n",
       "    .dataframe tbody tr th:only-of-type {\n",
       "        vertical-align: middle;\n",
       "    }\n",
       "\n",
       "    .dataframe tbody tr th {\n",
       "        vertical-align: top;\n",
       "    }\n",
       "\n",
       "    .dataframe thead th {\n",
       "        text-align: right;\n",
       "    }\n",
       "</style>\n",
       "<table border=\"1\" class=\"dataframe\">\n",
       "  <thead>\n",
       "    <tr style=\"text-align: right;\">\n",
       "      <th></th>\n",
       "      <th>job_title</th>\n",
       "      <th>salary_estimate</th>\n",
       "      <th>location</th>\n",
       "      <th>rating</th>\n",
       "      <th>size</th>\n",
       "      <th>founded</th>\n",
       "      <th>type_of_ownership</th>\n",
       "      <th>industry</th>\n",
       "      <th>sector</th>\n",
       "      <th>revenue</th>\n",
       "    </tr>\n",
       "  </thead>\n",
       "  <tbody>\n",
       "    <tr>\n",
       "      <th>25</th>\n",
       "      <td>Data Product Analyst</td>\n",
       "      <td>NaN</td>\n",
       "      <td>Stevens Point, WI</td>\n",
       "      <td>4.3</td>\n",
       "      <td>1001 to 5000 Employees</td>\n",
       "      <td>1904.0</td>\n",
       "      <td>Company - Private</td>\n",
       "      <td>Insurance Carriers</td>\n",
       "      <td>Insurance</td>\n",
       "      <td>$2 to $5 billion (USD)</td>\n",
       "    </tr>\n",
       "  </tbody>\n",
       "</table>\n",
       "</div>"
      ],
      "text/plain": [
       "               job_title salary_estimate           location  rating  \\\n",
       "25  Data Product Analyst             NaN  Stevens Point, WI     4.3   \n",
       "\n",
       "                      size  founded  type_of_ownership            industry  \\\n",
       "25  1001 to 5000 Employees   1904.0  Company - Private  Insurance Carriers   \n",
       "\n",
       "       sector                 revenue  \n",
       "25  Insurance  $2 to $5 billion (USD)  "
      ]
     },
     "execution_count": 5,
     "metadata": {},
     "output_type": "execute_result"
    }
   ],
   "source": [
    "df3.sample()"
   ]
  },
  {
   "cell_type": "code",
   "execution_count": 6,
   "metadata": {},
   "outputs": [
    {
     "data": {
      "text/html": [
       "<div>\n",
       "<style scoped>\n",
       "    .dataframe tbody tr th:only-of-type {\n",
       "        vertical-align: middle;\n",
       "    }\n",
       "\n",
       "    .dataframe tbody tr th {\n",
       "        vertical-align: top;\n",
       "    }\n",
       "\n",
       "    .dataframe thead th {\n",
       "        text-align: right;\n",
       "    }\n",
       "</style>\n",
       "<table border=\"1\" class=\"dataframe\">\n",
       "  <thead>\n",
       "    <tr style=\"text-align: right;\">\n",
       "      <th></th>\n",
       "      <th>job_title</th>\n",
       "      <th>salary_estimate</th>\n",
       "      <th>location</th>\n",
       "      <th>rating</th>\n",
       "      <th>size</th>\n",
       "      <th>founded</th>\n",
       "      <th>type_of_ownership</th>\n",
       "      <th>industry</th>\n",
       "      <th>sector</th>\n",
       "      <th>revenue</th>\n",
       "    </tr>\n",
       "  </thead>\n",
       "  <tbody>\n",
       "    <tr>\n",
       "      <th>21</th>\n",
       "      <td>Crew Data Analyst</td>\n",
       "      <td>NaN</td>\n",
       "      <td>Memphis, TN</td>\n",
       "      <td>3.9</td>\n",
       "      <td>10000+ Employees</td>\n",
       "      <td>1971.0</td>\n",
       "      <td>Subsidiary or Business Segment</td>\n",
       "      <td>Express Delivery Services</td>\n",
       "      <td>Transportation &amp; Logistics</td>\n",
       "      <td>$10+ billion (USD)</td>\n",
       "    </tr>\n",
       "  </tbody>\n",
       "</table>\n",
       "</div>"
      ],
      "text/plain": [
       "            job_title salary_estimate     location  rating              size  \\\n",
       "21  Crew Data Analyst             NaN  Memphis, TN     3.9  10000+ Employees   \n",
       "\n",
       "    founded               type_of_ownership                   industry  \\\n",
       "21   1971.0  Subsidiary or Business Segment  Express Delivery Services   \n",
       "\n",
       "                        sector             revenue  \n",
       "21  Transportation & Logistics  $10+ billion (USD)  "
      ]
     },
     "execution_count": 6,
     "metadata": {},
     "output_type": "execute_result"
    }
   ],
   "source": [
    "df4.sample()"
   ]
  },
  {
   "cell_type": "code",
   "execution_count": 7,
   "metadata": {},
   "outputs": [
    {
     "data": {
      "text/html": [
       "<div>\n",
       "<style scoped>\n",
       "    .dataframe tbody tr th:only-of-type {\n",
       "        vertical-align: middle;\n",
       "    }\n",
       "\n",
       "    .dataframe tbody tr th {\n",
       "        vertical-align: top;\n",
       "    }\n",
       "\n",
       "    .dataframe thead th {\n",
       "        text-align: right;\n",
       "    }\n",
       "</style>\n",
       "<table border=\"1\" class=\"dataframe\">\n",
       "  <thead>\n",
       "    <tr style=\"text-align: right;\">\n",
       "      <th></th>\n",
       "      <th>job_title</th>\n",
       "      <th>salary_estimate</th>\n",
       "      <th>location</th>\n",
       "      <th>rating</th>\n",
       "      <th>size</th>\n",
       "      <th>founded</th>\n",
       "      <th>type_of_ownership</th>\n",
       "      <th>industry</th>\n",
       "      <th>sector</th>\n",
       "      <th>revenue</th>\n",
       "    </tr>\n",
       "  </thead>\n",
       "  <tbody>\n",
       "    <tr>\n",
       "      <th>26</th>\n",
       "      <td>Data Analyst</td>\n",
       "      <td>$46K - $75K (Glassdoor est.)</td>\n",
       "      <td>Dallas, TX</td>\n",
       "      <td>NaN</td>\n",
       "      <td>Unknown</td>\n",
       "      <td>NaN</td>\n",
       "      <td>NaN</td>\n",
       "      <td>NaN</td>\n",
       "      <td>NaN</td>\n",
       "      <td>NaN</td>\n",
       "    </tr>\n",
       "  </tbody>\n",
       "</table>\n",
       "</div>"
      ],
      "text/plain": [
       "       job_title               salary_estimate    location  rating     size  \\\n",
       "26  Data Analyst  $46K - $75K (Glassdoor est.)  Dallas, TX     NaN  Unknown   \n",
       "\n",
       "    founded type_of_ownership industry sector revenue  \n",
       "26      NaN               NaN      NaN    NaN     NaN  "
      ]
     },
     "execution_count": 7,
     "metadata": {},
     "output_type": "execute_result"
    }
   ],
   "source": [
    "df5.sample()"
   ]
  },
  {
   "cell_type": "markdown",
   "metadata": {},
   "source": [
    "First 2 dfs have company_name col which we need to drop to match the rest of the DFs"
   ]
  },
  {
   "cell_type": "code",
   "execution_count": 8,
   "metadata": {},
   "outputs": [],
   "source": [
    "df1.drop(['company_name'], axis=1, inplace=True)"
   ]
  },
  {
   "cell_type": "code",
   "execution_count": 9,
   "metadata": {},
   "outputs": [],
   "source": [
    "df2.drop(['company_name'], axis=1, inplace=True)"
   ]
  },
  {
   "cell_type": "code",
   "execution_count": 10,
   "metadata": {},
   "outputs": [],
   "source": [
    "# appending all dfs into one master df\n",
    "df = df1.append([df2,df3,df4,df5])"
   ]
  },
  {
   "cell_type": "code",
   "execution_count": 11,
   "metadata": {},
   "outputs": [],
   "source": [
    "# reset index after appending dfs \n",
    "df.reset_index(inplace=True)"
   ]
  },
  {
   "cell_type": "code",
   "execution_count": 12,
   "metadata": {},
   "outputs": [
    {
     "name": "stdout",
     "output_type": "stream",
     "text": [
      "<class 'pandas.core.frame.DataFrame'>\n",
      "RangeIndex: 1991 entries, 0 to 1990\n",
      "Data columns (total 11 columns):\n",
      " #   Column             Non-Null Count  Dtype  \n",
      "---  ------             --------------  -----  \n",
      " 0   index              1991 non-null   int64  \n",
      " 1   job_title          1991 non-null   object \n",
      " 2   salary_estimate    741 non-null    object \n",
      " 3   location           1991 non-null   object \n",
      " 4   rating             1850 non-null   float64\n",
      " 5   size               1991 non-null   object \n",
      " 6   founded            1561 non-null   float64\n",
      " 7   type_of_ownership  1883 non-null   object \n",
      " 8   industry           1713 non-null   object \n",
      " 9   sector             1717 non-null   object \n",
      " 10  revenue            1887 non-null   object \n",
      "dtypes: float64(2), int64(1), object(8)\n",
      "memory usage: 171.2+ KB\n"
     ]
    }
   ],
   "source": [
    "df.info()"
   ]
  },
  {
   "cell_type": "code",
   "execution_count": 13,
   "metadata": {},
   "outputs": [],
   "source": [
    "df.drop(['index'], axis=1, inplace=True)"
   ]
  },
  {
   "cell_type": "code",
   "execution_count": 14,
   "metadata": {},
   "outputs": [
    {
     "data": {
      "text/html": [
       "<div>\n",
       "<style scoped>\n",
       "    .dataframe tbody tr th:only-of-type {\n",
       "        vertical-align: middle;\n",
       "    }\n",
       "\n",
       "    .dataframe tbody tr th {\n",
       "        vertical-align: top;\n",
       "    }\n",
       "\n",
       "    .dataframe thead th {\n",
       "        text-align: right;\n",
       "    }\n",
       "</style>\n",
       "<table border=\"1\" class=\"dataframe\">\n",
       "  <thead>\n",
       "    <tr style=\"text-align: right;\">\n",
       "      <th></th>\n",
       "      <th>job_title</th>\n",
       "      <th>salary_estimate</th>\n",
       "      <th>location</th>\n",
       "      <th>rating</th>\n",
       "      <th>size</th>\n",
       "      <th>founded</th>\n",
       "      <th>type_of_ownership</th>\n",
       "      <th>industry</th>\n",
       "      <th>sector</th>\n",
       "      <th>revenue</th>\n",
       "    </tr>\n",
       "  </thead>\n",
       "  <tbody>\n",
       "    <tr>\n",
       "      <th>105</th>\n",
       "      <td>GBSD Sr Data Analyst – Systems Engineer</td>\n",
       "      <td>$64K - $82K (Glassdoor est.)</td>\n",
       "      <td>Roy, UT</td>\n",
       "      <td>4.0</td>\n",
       "      <td>10000+ Employees</td>\n",
       "      <td>1939.0</td>\n",
       "      <td>Company - Public</td>\n",
       "      <td>Aerospace &amp; Defense</td>\n",
       "      <td>Aerospace &amp; Defense</td>\n",
       "      <td>$10+ billion (USD)</td>\n",
       "    </tr>\n",
       "    <tr>\n",
       "      <th>110</th>\n",
       "      <td>Data Engineering Analyst</td>\n",
       "      <td>$67K - $131K (Glassdoor est.)</td>\n",
       "      <td>Waltham, MA</td>\n",
       "      <td>3.4</td>\n",
       "      <td>1001 to 5000 Employees</td>\n",
       "      <td>1841.0</td>\n",
       "      <td>Company - Public</td>\n",
       "      <td>IT Services</td>\n",
       "      <td>Information Technology</td>\n",
       "      <td>$1 to $2 billion (USD)</td>\n",
       "    </tr>\n",
       "    <tr>\n",
       "      <th>160</th>\n",
       "      <td>Marketing Data Analyst</td>\n",
       "      <td>NaN</td>\n",
       "      <td>Odessa, FL</td>\n",
       "      <td>NaN</td>\n",
       "      <td>Unknown</td>\n",
       "      <td>NaN</td>\n",
       "      <td>NaN</td>\n",
       "      <td>NaN</td>\n",
       "      <td>NaN</td>\n",
       "      <td>NaN</td>\n",
       "    </tr>\n",
       "    <tr>\n",
       "      <th>177</th>\n",
       "      <td>AML Data Analyst</td>\n",
       "      <td>NaN</td>\n",
       "      <td>Boston, MA</td>\n",
       "      <td>3.8</td>\n",
       "      <td>1001 to 5000 Employees</td>\n",
       "      <td>1983.0</td>\n",
       "      <td>Subsidiary or Business Segment</td>\n",
       "      <td>Staffing &amp; Outsourcing</td>\n",
       "      <td>Business Services</td>\n",
       "      <td>$2 to $5 billion (USD)</td>\n",
       "    </tr>\n",
       "    <tr>\n",
       "      <th>199</th>\n",
       "      <td>Data Governance Analyst</td>\n",
       "      <td>$38K - $68K (Glassdoor est.)</td>\n",
       "      <td>Kansas City, MO</td>\n",
       "      <td>3.7</td>\n",
       "      <td>10000+ Employees</td>\n",
       "      <td>1885.0</td>\n",
       "      <td>Company - Public</td>\n",
       "      <td>Computer Hardware &amp; Software</td>\n",
       "      <td>Information Technology</td>\n",
       "      <td>$10+ billion (USD)</td>\n",
       "    </tr>\n",
       "    <tr>\n",
       "      <th>...</th>\n",
       "      <td>...</td>\n",
       "      <td>...</td>\n",
       "      <td>...</td>\n",
       "      <td>...</td>\n",
       "      <td>...</td>\n",
       "      <td>...</td>\n",
       "      <td>...</td>\n",
       "      <td>...</td>\n",
       "      <td>...</td>\n",
       "      <td>...</td>\n",
       "    </tr>\n",
       "    <tr>\n",
       "      <th>1984</th>\n",
       "      <td>E-commerce Data Analyst</td>\n",
       "      <td>$44K - $79K (Glassdoor est.)</td>\n",
       "      <td>Chicago, IL</td>\n",
       "      <td>3.6</td>\n",
       "      <td>10000+ Employees</td>\n",
       "      <td>1912.0</td>\n",
       "      <td>Company - Public</td>\n",
       "      <td>Lending</td>\n",
       "      <td>Finance</td>\n",
       "      <td>Unknown / Non-Applicable</td>\n",
       "    </tr>\n",
       "    <tr>\n",
       "      <th>1985</th>\n",
       "      <td>Seat Services Data Analyst (Norfolk)</td>\n",
       "      <td>$49K - $55K (Glassdoor est.)</td>\n",
       "      <td>Norfolk, VA</td>\n",
       "      <td>3.8</td>\n",
       "      <td>10000+ Employees</td>\n",
       "      <td>1969.0</td>\n",
       "      <td>Company - Public</td>\n",
       "      <td>Aerospace &amp; Defense</td>\n",
       "      <td>Aerospace &amp; Defense</td>\n",
       "      <td>$10+ billion (USD)</td>\n",
       "    </tr>\n",
       "    <tr>\n",
       "      <th>1986</th>\n",
       "      <td>Digital Engagement Data Analyst/Admin</td>\n",
       "      <td>$50K - $59K (Glassdoor est.)</td>\n",
       "      <td>Ogden, UT</td>\n",
       "      <td>3.8</td>\n",
       "      <td>1001 to 5000 Employees</td>\n",
       "      <td>1939.0</td>\n",
       "      <td>Nonprofit Organization</td>\n",
       "      <td>Investment Banking &amp; Asset Management</td>\n",
       "      <td>Finance</td>\n",
       "      <td>$100 to $500 million (USD)</td>\n",
       "    </tr>\n",
       "    <tr>\n",
       "      <th>1988</th>\n",
       "      <td>Metrics &amp; Data Analytics Analyst</td>\n",
       "      <td>NaN</td>\n",
       "      <td>Washington, DC</td>\n",
       "      <td>3.8</td>\n",
       "      <td>10000+ Employees</td>\n",
       "      <td>1996.0</td>\n",
       "      <td>Subsidiary or Business Segment</td>\n",
       "      <td>IT Services</td>\n",
       "      <td>Information Technology</td>\n",
       "      <td>$10+ billion (USD)</td>\n",
       "    </tr>\n",
       "    <tr>\n",
       "      <th>1990</th>\n",
       "      <td>Data Analyst</td>\n",
       "      <td>NaN</td>\n",
       "      <td>Indianapolis, IN</td>\n",
       "      <td>3.1</td>\n",
       "      <td>51 to 200 Employees</td>\n",
       "      <td>1994.0</td>\n",
       "      <td>Company - Private</td>\n",
       "      <td>Consulting</td>\n",
       "      <td>Business Services</td>\n",
       "      <td>$100 to $500 million (USD)</td>\n",
       "    </tr>\n",
       "  </tbody>\n",
       "</table>\n",
       "<p>789 rows × 10 columns</p>\n",
       "</div>"
      ],
      "text/plain": [
       "                                    job_title                salary_estimate  \\\n",
       "105   GBSD Sr Data Analyst – Systems Engineer   $64K - $82K (Glassdoor est.)   \n",
       "110                  Data Engineering Analyst  $67K - $131K (Glassdoor est.)   \n",
       "160                    Marketing Data Analyst                            NaN   \n",
       "177                          AML Data Analyst                            NaN   \n",
       "199                   Data Governance Analyst   $38K - $68K (Glassdoor est.)   \n",
       "...                                       ...                            ...   \n",
       "1984                  E-commerce Data Analyst   $44K - $79K (Glassdoor est.)   \n",
       "1985     Seat Services Data Analyst (Norfolk)   $49K - $55K (Glassdoor est.)   \n",
       "1986    Digital Engagement Data Analyst/Admin   $50K - $59K (Glassdoor est.)   \n",
       "1988         Metrics & Data Analytics Analyst                            NaN   \n",
       "1990                             Data Analyst                            NaN   \n",
       "\n",
       "              location  rating                    size  founded  \\\n",
       "105            Roy, UT     4.0        10000+ Employees   1939.0   \n",
       "110        Waltham, MA     3.4  1001 to 5000 Employees   1841.0   \n",
       "160         Odessa, FL     NaN                 Unknown      NaN   \n",
       "177         Boston, MA     3.8  1001 to 5000 Employees   1983.0   \n",
       "199    Kansas City, MO     3.7        10000+ Employees   1885.0   \n",
       "...                ...     ...                     ...      ...   \n",
       "1984       Chicago, IL     3.6        10000+ Employees   1912.0   \n",
       "1985       Norfolk, VA     3.8        10000+ Employees   1969.0   \n",
       "1986         Ogden, UT     3.8  1001 to 5000 Employees   1939.0   \n",
       "1988    Washington, DC     3.8        10000+ Employees   1996.0   \n",
       "1990  Indianapolis, IN     3.1     51 to 200 Employees   1994.0   \n",
       "\n",
       "                   type_of_ownership                               industry  \\\n",
       "105                 Company - Public                    Aerospace & Defense   \n",
       "110                 Company - Public                            IT Services   \n",
       "160                              NaN                                    NaN   \n",
       "177   Subsidiary or Business Segment                 Staffing & Outsourcing   \n",
       "199                 Company - Public           Computer Hardware & Software   \n",
       "...                              ...                                    ...   \n",
       "1984                Company - Public                                Lending   \n",
       "1985                Company - Public                    Aerospace & Defense   \n",
       "1986          Nonprofit Organization  Investment Banking & Asset Management   \n",
       "1988  Subsidiary or Business Segment                            IT Services   \n",
       "1990               Company - Private                             Consulting   \n",
       "\n",
       "                      sector                     revenue  \n",
       "105      Aerospace & Defense          $10+ billion (USD)  \n",
       "110   Information Technology      $1 to $2 billion (USD)  \n",
       "160                      NaN                         NaN  \n",
       "177        Business Services      $2 to $5 billion (USD)  \n",
       "199   Information Technology          $10+ billion (USD)  \n",
       "...                      ...                         ...  \n",
       "1984                 Finance    Unknown / Non-Applicable  \n",
       "1985     Aerospace & Defense          $10+ billion (USD)  \n",
       "1986                 Finance  $100 to $500 million (USD)  \n",
       "1988  Information Technology          $10+ billion (USD)  \n",
       "1990       Business Services  $100 to $500 million (USD)  \n",
       "\n",
       "[789 rows x 10 columns]"
      ]
     },
     "execution_count": 14,
     "metadata": {},
     "output_type": "execute_result"
    }
   ],
   "source": [
    "# checking for duplicated jobs, none found\n",
    "df[df.duplicated()]"
   ]
  },
  {
   "cell_type": "code",
   "execution_count": 15,
   "metadata": {},
   "outputs": [],
   "source": [
    "# save master df \n",
    "df.to_csv('master', index=False)"
   ]
  },
  {
   "cell_type": "code",
   "execution_count": 16,
   "metadata": {},
   "outputs": [
    {
     "data": {
      "text/html": [
       "<div>\n",
       "<style scoped>\n",
       "    .dataframe tbody tr th:only-of-type {\n",
       "        vertical-align: middle;\n",
       "    }\n",
       "\n",
       "    .dataframe tbody tr th {\n",
       "        vertical-align: top;\n",
       "    }\n",
       "\n",
       "    .dataframe thead th {\n",
       "        text-align: right;\n",
       "    }\n",
       "</style>\n",
       "<table border=\"1\" class=\"dataframe\">\n",
       "  <thead>\n",
       "    <tr style=\"text-align: right;\">\n",
       "      <th></th>\n",
       "      <th>job_title</th>\n",
       "      <th>salary_estimate</th>\n",
       "      <th>location</th>\n",
       "      <th>rating</th>\n",
       "      <th>size</th>\n",
       "      <th>founded</th>\n",
       "      <th>type_of_ownership</th>\n",
       "      <th>industry</th>\n",
       "      <th>sector</th>\n",
       "      <th>revenue</th>\n",
       "    </tr>\n",
       "  </thead>\n",
       "  <tbody>\n",
       "    <tr>\n",
       "      <th>881</th>\n",
       "      <td>Banking, Capital Markets and Advisory (BCMA) -...</td>\n",
       "      <td>$72K - $93K (Glassdoor est.)</td>\n",
       "      <td>New York, NY</td>\n",
       "      <td>3.9</td>\n",
       "      <td>1001 to 5000 Employees</td>\n",
       "      <td>NaN</td>\n",
       "      <td>Company - Private</td>\n",
       "      <td>Lending</td>\n",
       "      <td>Finance</td>\n",
       "      <td>Unknown / Non-Applicable</td>\n",
       "    </tr>\n",
       "  </tbody>\n",
       "</table>\n",
       "</div>"
      ],
      "text/plain": [
       "                                             job_title  \\\n",
       "881  Banking, Capital Markets and Advisory (BCMA) -...   \n",
       "\n",
       "                  salary_estimate      location  rating  \\\n",
       "881  $72K - $93K (Glassdoor est.)  New York, NY     3.9   \n",
       "\n",
       "                       size  founded  type_of_ownership industry   sector  \\\n",
       "881  1001 to 5000 Employees      NaN  Company - Private  Lending  Finance   \n",
       "\n",
       "                      revenue  \n",
       "881  Unknown / Non-Applicable  "
      ]
     },
     "execution_count": 16,
     "metadata": {},
     "output_type": "execute_result"
    }
   ],
   "source": [
    "df.sample()"
   ]
  },
  {
   "cell_type": "markdown",
   "metadata": {},
   "source": [
    "# Data Wrangling"
   ]
  },
  {
   "cell_type": "markdown",
   "metadata": {},
   "source": [
    "- Parse `salary_estimate` and change its type\n",
    "- split `location` column into `state` and `city`\n",
    "- drop rows with no salary info \n",
    "- deal with **Unknown / Non-Applicable** values in `revenue` column\n",
    "- replace **Unknown** with NaN in `size` column\n",
    "- deal with duplicate rows\n",
    "- create column for average salary\n",
    "- some entries in `location` need to be cleaned\n",
    "- Drop unnecessary columns\n",
    "- calculate company age\n"
   ]
  },
  {
   "cell_type": "code",
   "execution_count": 17,
   "metadata": {},
   "outputs": [
    {
     "data": {
      "image/png": "[encoded data removed]",
      "text/plain": [
       "<Figure size 864x576 with 2 Axes>"
      ]
     },
     "metadata": {
      "needs_background": "light"
     },
     "output_type": "display_data"
    }
   ],
   "source": [
    "plt.figure(figsize = (12,8))\n",
    "sns.heatmap(df.notna())\n",
    "plt.show()"
   ]
  },
  {
   "cell_type": "markdown",
   "metadata": {},
   "source": [
    "Most of missing values are in `salary_estimate`"
   ]
  },
  {
   "cell_type": "code",
   "execution_count": 18,
   "metadata": {},
   "outputs": [
    {
     "data": {
      "text/plain": [
       "job_title            0.000000\n",
       "salary_estimate      0.627825\n",
       "location             0.000000\n",
       "rating               0.070819\n",
       "size                 0.000000\n",
       "founded              0.215972\n",
       "type_of_ownership    0.054244\n",
       "industry             0.139628\n",
       "sector               0.137619\n",
       "revenue              0.052235\n",
       "dtype: float64"
      ]
     },
     "execution_count": 18,
     "metadata": {},
     "output_type": "execute_result"
    }
   ],
   "source": [
    "df.isna().mean()"
   ]
  },
  {
   "cell_type": "markdown",
   "metadata": {},
   "source": [
    "around 63 percent of the values in `salary_estimate` are missing "
   ]
  },
  {
   "cell_type": "markdown",
   "metadata": {},
   "source": [
    "## Define"
   ]
  },
  {
   "cell_type": "markdown",
   "metadata": {},
   "source": [
    "Drop rows where salary_estimate is null"
   ]
  },
  {
   "cell_type": "markdown",
   "metadata": {},
   "source": [
    "## Code"
   ]
  },
  {
   "cell_type": "code",
   "execution_count": 19,
   "metadata": {},
   "outputs": [],
   "source": [
    "df.dropna(axis=0, subset=['salary_estimate'], inplace=True)"
   ]
  },
  {
   "cell_type": "markdown",
   "metadata": {},
   "source": [
    "## Test"
   ]
  },
  {
   "cell_type": "code",
   "execution_count": 20,
   "metadata": {},
   "outputs": [
    {
     "data": {
      "text/plain": [
       "job_title            0.000000\n",
       "salary_estimate      0.000000\n",
       "location             0.000000\n",
       "rating               0.052632\n",
       "size                 0.000000\n",
       "founded              0.197031\n",
       "type_of_ownership    0.040486\n",
       "industry             0.116059\n",
       "sector               0.116059\n",
       "revenue              0.040486\n",
       "dtype: float64"
      ]
     },
     "execution_count": 20,
     "metadata": {},
     "output_type": "execute_result"
    }
   ],
   "source": [
    "df.isna().mean()"
   ]
  },
  {
   "cell_type": "code",
   "execution_count": 21,
   "metadata": {},
   "outputs": [
    {
     "data": {
      "text/plain": [
       "(741, 10)"
      ]
     },
     "execution_count": 21,
     "metadata": {},
     "output_type": "execute_result"
    }
   ],
   "source": [
    "df.shape"
   ]
  },
  {
   "cell_type": "markdown",
   "metadata": {},
   "source": [
    "## Define"
   ]
  },
  {
   "cell_type": "markdown",
   "metadata": {},
   "source": [
    "remove 'Unknown / Non-Applicable' from `revenue` column"
   ]
  },
  {
   "cell_type": "markdown",
   "metadata": {},
   "source": [
    "## Code"
   ]
  },
  {
   "cell_type": "code",
   "execution_count": 22,
   "metadata": {},
   "outputs": [],
   "source": [
    "df.revenue.replace('Unknown / Non-Applicable', np.nan, inplace=True)"
   ]
  },
  {
   "cell_type": "markdown",
   "metadata": {},
   "source": [
    "## Test"
   ]
  },
  {
   "cell_type": "code",
   "execution_count": 23,
   "metadata": {},
   "outputs": [
    {
     "data": {
      "text/plain": [
       "$10+ billion (USD)                  136\n",
       "$100 to $500 million (USD)           88\n",
       "$1 to $2 billion (USD)               50\n",
       "$2 to $5 billion (USD)               47\n",
       "$500 million to $1 billion (USD)     38\n",
       "$50 to $100 million (USD)            37\n",
       "$25 to $50 million (USD)             31\n",
       "$5 to $10 billion (USD)              31\n",
       "$10 to $25 million (USD)             26\n",
       "$1 to $5 million (USD)               23\n",
       "$5 to $10 million (USD)              15\n",
       "Less than $1 million (USD)           10\n",
       "Name: revenue, dtype: int64"
      ]
     },
     "execution_count": 23,
     "metadata": {},
     "output_type": "execute_result"
    }
   ],
   "source": [
    "df.revenue.value_counts()"
   ]
  },
  {
   "cell_type": "markdown",
   "metadata": {},
   "source": [
    "## Define"
   ]
  },
  {
   "cell_type": "markdown",
   "metadata": {},
   "source": [
    "Replace **Unknown** with np.nan in `size` column"
   ]
  },
  {
   "cell_type": "markdown",
   "metadata": {},
   "source": [
    "## Code"
   ]
  },
  {
   "cell_type": "code",
   "execution_count": 24,
   "metadata": {},
   "outputs": [],
   "source": [
    "df['size'].replace('Unknown', np.nan, inplace=True)"
   ]
  },
  {
   "cell_type": "markdown",
   "metadata": {},
   "source": [
    "## Test"
   ]
  },
  {
   "cell_type": "code",
   "execution_count": 25,
   "metadata": {},
   "outputs": [
    {
     "data": {
      "text/plain": [
       "10000+ Employees           217\n",
       "1001 to 5000 Employees     139\n",
       "5001 to 10000 Employees     91\n",
       "51 to 200 Employees         70\n",
       "201 to 500 Employees        69\n",
       "501 to 1000 Employees       61\n",
       "1 to 50 Employees           58\n",
       "Name: size, dtype: int64"
      ]
     },
     "execution_count": 25,
     "metadata": {},
     "output_type": "execute_result"
    }
   ],
   "source": [
    "df['size'].value_counts()"
   ]
  },
  {
   "cell_type": "markdown",
   "metadata": {},
   "source": [
    "## Define"
   ]
  },
  {
   "cell_type": "markdown",
   "metadata": {},
   "source": [
    "Parse and clean salary_estimate column"
   ]
  },
  {
   "cell_type": "markdown",
   "metadata": {},
   "source": [
    "## Code"
   ]
  },
  {
   "cell_type": "code",
   "execution_count": 26,
   "metadata": {},
   "outputs": [],
   "source": [
    "df.salary_estimate = df.salary_estimate.apply(lambda x: x.split('(')[0])"
   ]
  },
  {
   "cell_type": "code",
   "execution_count": 27,
   "metadata": {},
   "outputs": [],
   "source": [
    "df.salary_estimate = df.salary_estimate.str.replace('$', '').str.replace('K', '').str.replace('Employer Provided Salary:', '').str.replace(' Per Hour', '')\n"
   ]
  },
  {
   "cell_type": "code",
   "execution_count": 28,
   "metadata": {},
   "outputs": [],
   "source": [
    "df['min_salary'] = df.salary_estimate.apply(lambda x: int(x.split('-')[0]))\n",
    "df['max_salary'] = df.salary_estimate.apply(lambda x: int(x.split('-')[-1]))\n"
   ]
  },
  {
   "cell_type": "markdown",
   "metadata": {},
   "source": [
    "## Test"
   ]
  },
  {
   "cell_type": "code",
   "execution_count": 29,
   "metadata": {},
   "outputs": [
    {
     "data": {
      "text/plain": [
       "1       40 - 74 \n",
       "4       48 - 82 \n",
       "5       65 - 79 \n",
       "6       32 - 57 \n",
       "7       38 - 69 \n",
       "          ...   \n",
       "1983    64 - 80 \n",
       "1984    44 - 79 \n",
       "1985    49 - 55 \n",
       "1986    50 - 59 \n",
       "1987    46 - 75 \n",
       "Name: salary_estimate, Length: 741, dtype: object"
      ]
     },
     "execution_count": 29,
     "metadata": {},
     "output_type": "execute_result"
    }
   ],
   "source": [
    "df.salary_estimate"
   ]
  },
  {
   "cell_type": "code",
   "execution_count": 30,
   "metadata": {},
   "outputs": [
    {
     "data": {
      "text/plain": [
       "60 - 90      11\n",
       "67 - 86       9\n",
       "44 - 79       8\n",
       "35 - 64       7\n",
       "80            7\n",
       "             ..\n",
       "48 - 85       1\n",
       "37 - 65       1\n",
       "31 - 38       1\n",
       "89 - 105      1\n",
       "58 - 102      1\n",
       "Name: salary_estimate, Length: 400, dtype: int64"
      ]
     },
     "execution_count": 30,
     "metadata": {},
     "output_type": "execute_result"
    }
   ],
   "source": [
    "df.salary_estimate.value_counts()"
   ]
  },
  {
   "cell_type": "code",
   "execution_count": 31,
   "metadata": {},
   "outputs": [
    {
     "data": {
      "text/html": [
       "<div>\n",
       "<style scoped>\n",
       "    .dataframe tbody tr th:only-of-type {\n",
       "        vertical-align: middle;\n",
       "    }\n",
       "\n",
       "    .dataframe tbody tr th {\n",
       "        vertical-align: top;\n",
       "    }\n",
       "\n",
       "    .dataframe thead th {\n",
       "        text-align: right;\n",
       "    }\n",
       "</style>\n",
       "<table border=\"1\" class=\"dataframe\">\n",
       "  <thead>\n",
       "    <tr style=\"text-align: right;\">\n",
       "      <th></th>\n",
       "      <th>job_title</th>\n",
       "      <th>salary_estimate</th>\n",
       "      <th>location</th>\n",
       "      <th>rating</th>\n",
       "      <th>size</th>\n",
       "      <th>founded</th>\n",
       "      <th>type_of_ownership</th>\n",
       "      <th>industry</th>\n",
       "      <th>sector</th>\n",
       "      <th>revenue</th>\n",
       "      <th>min_salary</th>\n",
       "      <th>max_salary</th>\n",
       "    </tr>\n",
       "  </thead>\n",
       "  <tbody>\n",
       "    <tr>\n",
       "      <th>654</th>\n",
       "      <td>City Research Scientist II / Data Analyst, Bur...</td>\n",
       "      <td>46 - 101</td>\n",
       "      <td>Queens Village, NY</td>\n",
       "      <td>3.5</td>\n",
       "      <td>5001 to 10000 Employees</td>\n",
       "      <td>NaN</td>\n",
       "      <td>Government</td>\n",
       "      <td>Municipal Governments</td>\n",
       "      <td>Government</td>\n",
       "      <td>NaN</td>\n",
       "      <td>46</td>\n",
       "      <td>101</td>\n",
       "    </tr>\n",
       "    <tr>\n",
       "      <th>411</th>\n",
       "      <td>IT Technical Data Analyst</td>\n",
       "      <td>42 - 75</td>\n",
       "      <td>Greensboro, NC</td>\n",
       "      <td>3.5</td>\n",
       "      <td>10000+ Employees</td>\n",
       "      <td>1917.0</td>\n",
       "      <td>Company - Public</td>\n",
       "      <td>Industrial Manufacturing</td>\n",
       "      <td>Manufacturing</td>\n",
       "      <td>$10+ billion (USD)</td>\n",
       "      <td>42</td>\n",
       "      <td>75</td>\n",
       "    </tr>\n",
       "    <tr>\n",
       "      <th>384</th>\n",
       "      <td>Data Analyst - New York Life Investments</td>\n",
       "      <td>46 - 81</td>\n",
       "      <td>Jersey City, NJ</td>\n",
       "      <td>4.0</td>\n",
       "      <td>10000+ Employees</td>\n",
       "      <td>1845.0</td>\n",
       "      <td>Company - Private</td>\n",
       "      <td>Insurance Agencies &amp; Brokerages</td>\n",
       "      <td>Insurance</td>\n",
       "      <td>$10+ billion (USD)</td>\n",
       "      <td>46</td>\n",
       "      <td>81</td>\n",
       "    </tr>\n",
       "  </tbody>\n",
       "</table>\n",
       "</div>"
      ],
      "text/plain": [
       "                                             job_title salary_estimate  \\\n",
       "654  City Research Scientist II / Data Analyst, Bur...       46 - 101    \n",
       "411                          IT Technical Data Analyst        42 - 75    \n",
       "384           Data Analyst - New York Life Investments        46 - 81    \n",
       "\n",
       "               location  rating                     size  founded  \\\n",
       "654  Queens Village, NY     3.5  5001 to 10000 Employees      NaN   \n",
       "411      Greensboro, NC     3.5         10000+ Employees   1917.0   \n",
       "384     Jersey City, NJ     4.0         10000+ Employees   1845.0   \n",
       "\n",
       "     type_of_ownership                         industry         sector  \\\n",
       "654         Government            Municipal Governments     Government   \n",
       "411   Company - Public         Industrial Manufacturing  Manufacturing   \n",
       "384  Company - Private  Insurance Agencies & Brokerages      Insurance   \n",
       "\n",
       "                revenue  min_salary  max_salary  \n",
       "654                 NaN          46         101  \n",
       "411  $10+ billion (USD)          42          75  \n",
       "384  $10+ billion (USD)          46          81  "
      ]
     },
     "execution_count": 31,
     "metadata": {},
     "output_type": "execute_result"
    }
   ],
   "source": [
    "df.sample(3)"
   ]
  },
  {
   "cell_type": "markdown",
   "metadata": {},
   "source": [
    "## Define"
   ]
  },
  {
   "cell_type": "markdown",
   "metadata": {},
   "source": [
    "create new column for average salary"
   ]
  },
  {
   "cell_type": "markdown",
   "metadata": {},
   "source": [
    "## Code"
   ]
  },
  {
   "cell_type": "code",
   "execution_count": 32,
   "metadata": {},
   "outputs": [],
   "source": [
    "df['avg_salary'] = (df.max_salary+df.min_salary)/2"
   ]
  },
  {
   "cell_type": "markdown",
   "metadata": {},
   "source": [
    "## Test"
   ]
  },
  {
   "cell_type": "code",
   "execution_count": 33,
   "metadata": {},
   "outputs": [
    {
     "data": {
      "text/html": [
       "<div>\n",
       "<style scoped>\n",
       "    .dataframe tbody tr th:only-of-type {\n",
       "        vertical-align: middle;\n",
       "    }\n",
       "\n",
       "    .dataframe tbody tr th {\n",
       "        vertical-align: top;\n",
       "    }\n",
       "\n",
       "    .dataframe thead th {\n",
       "        text-align: right;\n",
       "    }\n",
       "</style>\n",
       "<table border=\"1\" class=\"dataframe\">\n",
       "  <thead>\n",
       "    <tr style=\"text-align: right;\">\n",
       "      <th></th>\n",
       "      <th>job_title</th>\n",
       "      <th>salary_estimate</th>\n",
       "      <th>location</th>\n",
       "      <th>rating</th>\n",
       "      <th>size</th>\n",
       "      <th>founded</th>\n",
       "      <th>type_of_ownership</th>\n",
       "      <th>industry</th>\n",
       "      <th>sector</th>\n",
       "      <th>revenue</th>\n",
       "      <th>min_salary</th>\n",
       "      <th>max_salary</th>\n",
       "      <th>avg_salary</th>\n",
       "    </tr>\n",
       "  </thead>\n",
       "  <tbody>\n",
       "    <tr>\n",
       "      <th>937</th>\n",
       "      <td>Claims Data Analyst</td>\n",
       "      <td>43 - 79</td>\n",
       "      <td>Garden City, NY</td>\n",
       "      <td>4.0</td>\n",
       "      <td>1001 to 5000 Employees</td>\n",
       "      <td>1982.0</td>\n",
       "      <td>Company - Private</td>\n",
       "      <td>Insurance Carriers</td>\n",
       "      <td>Insurance</td>\n",
       "      <td>$10 to $25 million (USD)</td>\n",
       "      <td>43</td>\n",
       "      <td>79</td>\n",
       "      <td>61.0</td>\n",
       "    </tr>\n",
       "  </tbody>\n",
       "</table>\n",
       "</div>"
      ],
      "text/plain": [
       "               job_title salary_estimate         location  rating  \\\n",
       "937  Claims Data Analyst        43 - 79   Garden City, NY     4.0   \n",
       "\n",
       "                       size  founded  type_of_ownership            industry  \\\n",
       "937  1001 to 5000 Employees   1982.0  Company - Private  Insurance Carriers   \n",
       "\n",
       "        sector                   revenue  min_salary  max_salary  avg_salary  \n",
       "937  Insurance  $10 to $25 million (USD)          43          79        61.0  "
      ]
     },
     "execution_count": 33,
     "metadata": {},
     "output_type": "execute_result"
    }
   ],
   "source": [
    "df.sample(1)"
   ]
  },
  {
   "cell_type": "markdown",
   "metadata": {},
   "source": [
    "## Define"
   ]
  },
  {
   "cell_type": "markdown",
   "metadata": {},
   "source": [
    "split location into state and city"
   ]
  },
  {
   "cell_type": "markdown",
   "metadata": {},
   "source": [
    "## Code"
   ]
  },
  {
   "cell_type": "code",
   "execution_count": 34,
   "metadata": {},
   "outputs": [
    {
     "name": "stdout",
     "output_type": "stream",
     "text": [
      "New York, NY\n",
      "Chicago, IL\n",
      "Washington, DC\n",
      "Atlanta, GA\n",
      "Boston, MA\n",
      "Austin, TX\n",
      "Dallas, TX\n",
      "Philadelphia, PA\n",
      "San Francisco, CA\n",
      "Arlington, VA\n",
      "Nashville, TN\n",
      "Indianapolis, IN\n",
      "Remote\n",
      "Minneapolis, MN\n",
      "McLean, VA\n",
      "Tampa, FL\n",
      "United States\n",
      "Jersey City, NJ\n",
      "Richmond, VA\n",
      "Seattle, WA\n",
      "Waltham, MA\n",
      "Houston, TX\n",
      "San Diego, CA\n",
      "Denver, CO\n",
      "Englewood, CO\n",
      "Phoenix, AZ\n",
      "Miami Lakes, FL\n",
      "Saint Louis, MO\n",
      "Los Angeles, CA\n",
      "Birmingham, AL\n",
      "Stanford, CA\n",
      "Roy, UT\n",
      "Mountain View, CA\n",
      "Scottsdale, AZ\n",
      "Bethesda, MD\n",
      "East Boston, MA\n",
      "Fremont, CA\n",
      "Ogden, UT\n",
      "Quincy, MA\n",
      "Woodbury, MN\n",
      "Herndon, VA\n",
      "Charlotte, NC\n",
      "Tempe, AZ\n",
      "Palo Alto, CA\n",
      "Santa Cruz, CA\n",
      "College Station, TX\n",
      "Sacramento, CA\n",
      "Glendale, AZ\n",
      "Jacksonville, FL\n",
      "Wilmington, DE\n",
      "Ashburn, VA\n",
      "Pleasant Prairie, WI\n",
      "Parsippany, NJ\n",
      "Naples, FL\n",
      "Malden, MA\n",
      "Bloomington, MN\n",
      "Queens Village, NY\n",
      "Bronx, NY\n",
      "Pasadena, CA\n",
      "Anchorage, AK\n",
      "Baltimore, MD\n",
      "Huntsville, AL\n",
      "Danville, KY\n",
      "Woburn, MA\n",
      "Bellevue, WA\n",
      "West Palm Beach, FL\n",
      "Brooklyn, NY\n",
      "Northbrook, IL\n",
      "Norfolk, VA\n",
      "Irving, TX\n",
      "Durant, OK\n",
      "Garden Grove, CA\n",
      "Honolulu, HI\n",
      "Ankeny, IA\n",
      "Portsmouth, NH\n",
      "San Antonio, TX\n",
      "Springfield, MA\n",
      "Dallas, OR\n",
      "Wellesley, MA\n",
      "Cincinnati, OH\n",
      "Miami, FL\n",
      "Wilton, CT\n",
      "St Louis Park\n",
      "Milwaukee, WI\n",
      "Livingston, NJ\n",
      "Kansas City, MO\n",
      "Salt Lake City, UT\n",
      "Waterbury, VT\n",
      "New Haven, CT\n",
      "Detroit, MI\n",
      "North Canton, OH\n",
      "Fort Lauderdale, FL\n",
      "Medford, MA\n",
      "Oakland, CA\n",
      "Santa Barbara, CA\n",
      "Springfield, VA\n",
      "Oklahoma City, OK\n",
      "Omaha, NE\n",
      "Laramie, WY\n",
      "Bridgeton, MO\n",
      "Lisle, IL\n",
      "Arkadelphia, AR\n",
      "Loveland, CO\n",
      "Beaverton, OR\n",
      "Vienna, VA\n",
      "San Jose, CA\n",
      "Flint, MI\n",
      "Cambridge, MA\n",
      "Durham, NC\n",
      "Urbandale, IA\n",
      "Falls Church, VA\n",
      "Carmel, IN\n",
      "Florham Park, NJ\n",
      "Liverpool, NY\n",
      "Coral Gables, FL\n",
      "Madison, WI\n",
      "Memphis, TN\n",
      "Rancho Cucamonga, CA\n",
      "Warrenton, VA\n",
      "Riverwoods, IL\n",
      "Highland, CA\n",
      "Brentwood, TN\n",
      "Albany, NY\n",
      "Quantico, VA\n",
      "Plano, TX\n",
      "Leander, TX\n",
      "San Bernardino, CA\n",
      "Evansville, IN\n",
      "Pleasanton, CA\n",
      "South Plainfield, NJ\n",
      "Lake Mary, FL\n",
      "Raleigh, NC\n",
      "Brea, CA\n",
      "Saint Petersburg, FL\n",
      "Boulder, CO\n",
      "Deerfield, IL\n",
      "Stamford, CT\n",
      "Newport News, VA\n",
      "Bozeman, MT\n",
      "Worthington, OH\n",
      "Grand Rapids, MI\n",
      "Richardson, TX\n",
      "Normal, IL\n",
      "Fairport, NY\n",
      "Victorville, CA\n",
      "Brooklyn Heights, Cuyahoga, OH\n",
      "Hartford, CT\n",
      "Bala Cynwyd, PA\n",
      "Glendale, CA\n",
      "Wayne, PA\n",
      "Mundelein, IL\n",
      "Solon, OH\n",
      "Dublin, CA\n",
      "Greenville, SC\n",
      "Redwood City, CA\n",
      "Culver City, CA\n",
      "Palm Beach Gardens, FL\n",
      "Troy, OH\n",
      "Texas City, TX\n",
      "Bowie, MD\n",
      "West Valley City, UT\n",
      "Wake Forest, NC\n",
      "Rolling Meadows, IL\n",
      "Peabody, MA\n",
      "Chapel Hill, NC\n",
      "Virginia Beach, VA\n",
      "Sellersville, PA\n",
      "Las Vegas, NV\n",
      "Lafayette, IN\n",
      "Costa Mesa, CA\n",
      "Garden City, NY\n",
      "Industry, CA\n",
      "Princeton, NJ\n",
      "Roanoke, VA\n",
      "Mount Laurel, NJ\n",
      "Center Valley, PA\n",
      "Ann Arbor, MI\n",
      "Lowell, MA\n",
      "Westminster, CO\n",
      "Lakewood, OH\n",
      "Portland, OR\n",
      "Irvine, CA\n",
      "Long Beach, CA\n",
      "Eden Prairie, MN\n",
      "Winchester, VA\n",
      "Virginia\n",
      "Santa Monica, CA\n",
      "Gainesville, GA\n",
      "Plymouth, MN\n",
      "King of Prussia, PA\n",
      "Portland, ME\n",
      "Lancaster, PA\n",
      "Newark, NJ\n",
      "Roswell, GA\n",
      "Altamonte Springs, FL\n",
      "Ames, IA\n",
      "Tulsa, OK\n",
      "Saddle Brook, NJ\n",
      "Oklahoma\n",
      "Plymouth, MI\n",
      "Rosemont, IL\n",
      "Bonita Springs, FL\n",
      "Grand Prairie, TX\n",
      "Colchester, VT\n",
      "Carlsbad, CA\n",
      "Erie, PA\n",
      "Minnetonka, MN\n",
      "Arlington Heights, IL\n",
      "Columbia, MO\n",
      "Rockville, MD\n",
      "Eureka, CA\n",
      "Pittsburgh, PA\n",
      "Tigard, OR\n",
      "Vernon, CA\n",
      "San Marcos, TX\n",
      "Burlingame, CA\n",
      "California, MD\n",
      "Eugene, OR\n",
      "Largo, FL\n",
      "Carson, CA\n",
      "Sheldonville, MA\n",
      "Alameda, CA\n",
      "Covington, KY\n",
      "New Britain, CT\n",
      "Laurel, MD\n",
      "Ft Carson, CO\n",
      "Harrisburg, PA\n",
      "Gilbert, AZ\n",
      "Golden, CO\n",
      "Hayward, CA\n",
      "Greensboro, NC\n",
      "Tallahassee, FL\n",
      "Clarksburg, WV\n",
      "Somerset, NJ\n",
      "Ladera Ranch, CA\n",
      "Greenwood Village, CO\n",
      "Sycamore, IL\n",
      "Columbus, IN\n",
      "Fort Wayne, IN\n",
      "Reading, PA\n",
      "Reno, NV\n",
      "Perris, CA\n",
      "Louisville, KY\n",
      "Colorado Springs, CO\n",
      "Chaska, MN\n",
      "Mahwah, NJ\n",
      "Westlake Village, Los Angeles, CA\n",
      "Santa Clara, CA\n",
      "Provo, UT\n",
      "Orlando, FL\n",
      "Fort Worth, TX\n",
      "Lenexa, KS\n",
      "Bloomfield, NJ\n",
      "Colmar, PA\n",
      "Stevens Point, WI\n",
      "Chico, CA\n",
      "Rochester, MN\n",
      "Alexandria, VA\n"
     ]
    }
   ],
   "source": [
    "for place in df.location.value_counts().index:\n",
    "    print(place)"
   ]
  },
  {
   "cell_type": "code",
   "execution_count": 35,
   "metadata": {},
   "outputs": [
    {
     "data": {
      "text/html": [
       "<div>\n",
       "<style scoped>\n",
       "    .dataframe tbody tr th:only-of-type {\n",
       "        vertical-align: middle;\n",
       "    }\n",
       "\n",
       "    .dataframe tbody tr th {\n",
       "        vertical-align: top;\n",
       "    }\n",
       "\n",
       "    .dataframe thead th {\n",
       "        text-align: right;\n",
       "    }\n",
       "</style>\n",
       "<table border=\"1\" class=\"dataframe\">\n",
       "  <thead>\n",
       "    <tr style=\"text-align: right;\">\n",
       "      <th></th>\n",
       "      <th>job_title</th>\n",
       "      <th>salary_estimate</th>\n",
       "      <th>location</th>\n",
       "      <th>rating</th>\n",
       "      <th>size</th>\n",
       "      <th>founded</th>\n",
       "      <th>type_of_ownership</th>\n",
       "      <th>industry</th>\n",
       "      <th>sector</th>\n",
       "      <th>revenue</th>\n",
       "      <th>min_salary</th>\n",
       "      <th>max_salary</th>\n",
       "      <th>avg_salary</th>\n",
       "    </tr>\n",
       "  </thead>\n",
       "  <tbody>\n",
       "    <tr>\n",
       "      <th>571</th>\n",
       "      <td>Data Analyst II</td>\n",
       "      <td>61 - 103</td>\n",
       "      <td>St Louis Park</td>\n",
       "      <td>3.5</td>\n",
       "      <td>1001 to 5000 Employees</td>\n",
       "      <td>1940.0</td>\n",
       "      <td>Company - Public</td>\n",
       "      <td>Financial Transaction Processing</td>\n",
       "      <td>Finance</td>\n",
       "      <td>$1 to $2 billion (USD)</td>\n",
       "      <td>61</td>\n",
       "      <td>103</td>\n",
       "      <td>82.0</td>\n",
       "    </tr>\n",
       "    <tr>\n",
       "      <th>577</th>\n",
       "      <td>Data Analyst II</td>\n",
       "      <td>61 - 103</td>\n",
       "      <td>St Louis Park</td>\n",
       "      <td>3.5</td>\n",
       "      <td>1001 to 5000 Employees</td>\n",
       "      <td>1940.0</td>\n",
       "      <td>Company - Public</td>\n",
       "      <td>Financial Transaction Processing</td>\n",
       "      <td>Finance</td>\n",
       "      <td>$1 to $2 billion (USD)</td>\n",
       "      <td>61</td>\n",
       "      <td>103</td>\n",
       "      <td>82.0</td>\n",
       "    </tr>\n",
       "  </tbody>\n",
       "</table>\n",
       "</div>"
      ],
      "text/plain": [
       "           job_title salary_estimate       location  rating  \\\n",
       "571  Data Analyst II       61 - 103   St Louis Park     3.5   \n",
       "577  Data Analyst II       61 - 103   St Louis Park     3.5   \n",
       "\n",
       "                       size  founded type_of_ownership  \\\n",
       "571  1001 to 5000 Employees   1940.0  Company - Public   \n",
       "577  1001 to 5000 Employees   1940.0  Company - Public   \n",
       "\n",
       "                             industry   sector                 revenue  \\\n",
       "571  Financial Transaction Processing  Finance  $1 to $2 billion (USD)   \n",
       "577  Financial Transaction Processing  Finance  $1 to $2 billion (USD)   \n",
       "\n",
       "     min_salary  max_salary  avg_salary  \n",
       "571          61         103        82.0  \n",
       "577          61         103        82.0  "
      ]
     },
     "execution_count": 35,
     "metadata": {},
     "output_type": "execute_result"
    }
   ],
   "source": [
    "df[df.location == 'St Louis Park']"
   ]
  },
  {
   "cell_type": "code",
   "execution_count": 36,
   "metadata": {},
   "outputs": [],
   "source": [
    "df['city'] = df.location.apply(lambda x: x.split(',')[0])"
   ]
  },
  {
   "cell_type": "code",
   "execution_count": 37,
   "metadata": {},
   "outputs": [],
   "source": [
    "df['state'] = df.location.apply(lambda x: x.split(',')[-1])"
   ]
  },
  {
   "cell_type": "markdown",
   "metadata": {},
   "source": [
    "## Test"
   ]
  },
  {
   "cell_type": "code",
   "execution_count": 38,
   "metadata": {},
   "outputs": [
    {
     "data": {
      "text/html": [
       "<div>\n",
       "<style scoped>\n",
       "    .dataframe tbody tr th:only-of-type {\n",
       "        vertical-align: middle;\n",
       "    }\n",
       "\n",
       "    .dataframe tbody tr th {\n",
       "        vertical-align: top;\n",
       "    }\n",
       "\n",
       "    .dataframe thead th {\n",
       "        text-align: right;\n",
       "    }\n",
       "</style>\n",
       "<table border=\"1\" class=\"dataframe\">\n",
       "  <thead>\n",
       "    <tr style=\"text-align: right;\">\n",
       "      <th></th>\n",
       "      <th>job_title</th>\n",
       "      <th>salary_estimate</th>\n",
       "      <th>location</th>\n",
       "      <th>rating</th>\n",
       "      <th>size</th>\n",
       "      <th>founded</th>\n",
       "      <th>type_of_ownership</th>\n",
       "      <th>industry</th>\n",
       "      <th>sector</th>\n",
       "      <th>revenue</th>\n",
       "      <th>min_salary</th>\n",
       "      <th>max_salary</th>\n",
       "      <th>avg_salary</th>\n",
       "      <th>city</th>\n",
       "      <th>state</th>\n",
       "    </tr>\n",
       "  </thead>\n",
       "  <tbody>\n",
       "    <tr>\n",
       "      <th>563</th>\n",
       "      <td>Quantitative Analyst/Data Scientist</td>\n",
       "      <td>62 - 129</td>\n",
       "      <td>Charlotte, NC</td>\n",
       "      <td>4.5</td>\n",
       "      <td>1001 to 5000 Employees</td>\n",
       "      <td>1914.0</td>\n",
       "      <td>Nonprofit Organization</td>\n",
       "      <td>Banks &amp; Credit Unions</td>\n",
       "      <td>Finance</td>\n",
       "      <td>$5 to $10 billion (USD)</td>\n",
       "      <td>62</td>\n",
       "      <td>129</td>\n",
       "      <td>95.5</td>\n",
       "      <td>Charlotte</td>\n",
       "      <td>NC</td>\n",
       "    </tr>\n",
       "    <tr>\n",
       "      <th>1910</th>\n",
       "      <td>Scientific Data Analyst</td>\n",
       "      <td>49 - 90</td>\n",
       "      <td>Atlanta, GA</td>\n",
       "      <td>4.4</td>\n",
       "      <td>501 to 1000 Employees</td>\n",
       "      <td>1999.0</td>\n",
       "      <td>Company - Private</td>\n",
       "      <td>Consulting</td>\n",
       "      <td>Business Services</td>\n",
       "      <td>$25 to $50 million (USD)</td>\n",
       "      <td>49</td>\n",
       "      <td>90</td>\n",
       "      <td>69.5</td>\n",
       "      <td>Atlanta</td>\n",
       "      <td>GA</td>\n",
       "    </tr>\n",
       "    <tr>\n",
       "      <th>395</th>\n",
       "      <td>Marketing Data Analyst</td>\n",
       "      <td>44 - 86</td>\n",
       "      <td>New York, NY</td>\n",
       "      <td>3.8</td>\n",
       "      <td>51 to 200 Employees</td>\n",
       "      <td>2012.0</td>\n",
       "      <td>Company - Private</td>\n",
       "      <td>Financial Analytics &amp; Research</td>\n",
       "      <td>Finance</td>\n",
       "      <td>NaN</td>\n",
       "      <td>44</td>\n",
       "      <td>86</td>\n",
       "      <td>65.0</td>\n",
       "      <td>New York</td>\n",
       "      <td>NY</td>\n",
       "    </tr>\n",
       "    <tr>\n",
       "      <th>718</th>\n",
       "      <td>Pharmacy Data Analyst</td>\n",
       "      <td>27 - 50</td>\n",
       "      <td>Louisville, KY</td>\n",
       "      <td>2.8</td>\n",
       "      <td>501 to 1000 Employees</td>\n",
       "      <td>NaN</td>\n",
       "      <td>Company - Private</td>\n",
       "      <td>Biotech &amp; Pharmaceuticals</td>\n",
       "      <td>Biotech &amp; Pharmaceuticals</td>\n",
       "      <td>$100 to $500 million (USD)</td>\n",
       "      <td>27</td>\n",
       "      <td>50</td>\n",
       "      <td>38.5</td>\n",
       "      <td>Louisville</td>\n",
       "      <td>KY</td>\n",
       "    </tr>\n",
       "    <tr>\n",
       "      <th>39</th>\n",
       "      <td>Senior Data Analyst</td>\n",
       "      <td>64 - 111</td>\n",
       "      <td>Atlanta, GA</td>\n",
       "      <td>3.8</td>\n",
       "      <td>5001 to 10000 Employees</td>\n",
       "      <td>1848.0</td>\n",
       "      <td>Company - Public</td>\n",
       "      <td>Insurance Carriers</td>\n",
       "      <td>Insurance</td>\n",
       "      <td>$10+ billion (USD)</td>\n",
       "      <td>64</td>\n",
       "      <td>111</td>\n",
       "      <td>87.5</td>\n",
       "      <td>Atlanta</td>\n",
       "      <td>GA</td>\n",
       "    </tr>\n",
       "    <tr>\n",
       "      <th>597</th>\n",
       "      <td>Data Visualization &amp; Research Analyst</td>\n",
       "      <td>36 - 71</td>\n",
       "      <td>Scottsdale, AZ</td>\n",
       "      <td>3.2</td>\n",
       "      <td>501 to 1000 Employees</td>\n",
       "      <td>1996.0</td>\n",
       "      <td>College / University</td>\n",
       "      <td>Colleges &amp; Universities</td>\n",
       "      <td>Education</td>\n",
       "      <td>$10 to $25 million (USD)</td>\n",
       "      <td>36</td>\n",
       "      <td>71</td>\n",
       "      <td>53.5</td>\n",
       "      <td>Scottsdale</td>\n",
       "      <td>AZ</td>\n",
       "    </tr>\n",
       "    <tr>\n",
       "      <th>360</th>\n",
       "      <td>Fixed Term Junior Data Analyst</td>\n",
       "      <td>48 - 88</td>\n",
       "      <td>New York, NY</td>\n",
       "      <td>3.9</td>\n",
       "      <td>201 to 500 Employees</td>\n",
       "      <td>2001.0</td>\n",
       "      <td>Company - Private</td>\n",
       "      <td>Internet</td>\n",
       "      <td>Information Technology</td>\n",
       "      <td>$50 to $100 million (USD)</td>\n",
       "      <td>48</td>\n",
       "      <td>88</td>\n",
       "      <td>68.0</td>\n",
       "      <td>New York</td>\n",
       "      <td>NY</td>\n",
       "    </tr>\n",
       "    <tr>\n",
       "      <th>869</th>\n",
       "      <td>Data Center Analyst</td>\n",
       "      <td>26 - 36</td>\n",
       "      <td>Atlanta, GA</td>\n",
       "      <td>4.4</td>\n",
       "      <td>10000+ Employees</td>\n",
       "      <td>1970.0</td>\n",
       "      <td>Nonprofit Organization</td>\n",
       "      <td>Health Care Services &amp; Hospitals</td>\n",
       "      <td>Health Care</td>\n",
       "      <td>$100 to $500 million (USD)</td>\n",
       "      <td>26</td>\n",
       "      <td>36</td>\n",
       "      <td>31.0</td>\n",
       "      <td>Atlanta</td>\n",
       "      <td>GA</td>\n",
       "    </tr>\n",
       "    <tr>\n",
       "      <th>691</th>\n",
       "      <td>Technical Data Analyst -(Pharmacy/Healthcare i...</td>\n",
       "      <td>42 - 76</td>\n",
       "      <td>Florham Park, NJ</td>\n",
       "      <td>3.1</td>\n",
       "      <td>501 to 1000 Employees</td>\n",
       "      <td>2004.0</td>\n",
       "      <td>Company - Private</td>\n",
       "      <td>Biotech &amp; Pharmaceuticals</td>\n",
       "      <td>Biotech &amp; Pharmaceuticals</td>\n",
       "      <td>$5 to $10 million (USD)</td>\n",
       "      <td>42</td>\n",
       "      <td>76</td>\n",
       "      <td>59.0</td>\n",
       "      <td>Florham Park</td>\n",
       "      <td>NJ</td>\n",
       "    </tr>\n",
       "    <tr>\n",
       "      <th>917</th>\n",
       "      <td>Data Analyst</td>\n",
       "      <td>47 - 91</td>\n",
       "      <td>Boston, MA</td>\n",
       "      <td>2.7</td>\n",
       "      <td>201 to 500 Employees</td>\n",
       "      <td>1999.0</td>\n",
       "      <td>Company - Private</td>\n",
       "      <td>Video Games</td>\n",
       "      <td>Media</td>\n",
       "      <td>NaN</td>\n",
       "      <td>47</td>\n",
       "      <td>91</td>\n",
       "      <td>69.0</td>\n",
       "      <td>Boston</td>\n",
       "      <td>MA</td>\n",
       "    </tr>\n",
       "  </tbody>\n",
       "</table>\n",
       "</div>"
      ],
      "text/plain": [
       "                                              job_title salary_estimate  \\\n",
       "563                 Quantitative Analyst/Data Scientist       62 - 129    \n",
       "1910                            Scientific Data Analyst        49 - 90    \n",
       "395                              Marketing Data Analyst        44 - 86    \n",
       "718                               Pharmacy Data Analyst        27 - 50    \n",
       "39                                  Senior Data Analyst       64 - 111    \n",
       "597               Data Visualization & Research Analyst        36 - 71    \n",
       "360                      Fixed Term Junior Data Analyst        48 - 88    \n",
       "869                                 Data Center Analyst        26 - 36    \n",
       "691   Technical Data Analyst -(Pharmacy/Healthcare i...        42 - 76    \n",
       "917                                        Data Analyst        47 - 91    \n",
       "\n",
       "              location  rating                     size  founded  \\\n",
       "563      Charlotte, NC     4.5   1001 to 5000 Employees   1914.0   \n",
       "1910       Atlanta, GA     4.4    501 to 1000 Employees   1999.0   \n",
       "395       New York, NY     3.8      51 to 200 Employees   2012.0   \n",
       "718     Louisville, KY     2.8    501 to 1000 Employees      NaN   \n",
       "39         Atlanta, GA     3.8  5001 to 10000 Employees   1848.0   \n",
       "597     Scottsdale, AZ     3.2    501 to 1000 Employees   1996.0   \n",
       "360       New York, NY     3.9     201 to 500 Employees   2001.0   \n",
       "869        Atlanta, GA     4.4         10000+ Employees   1970.0   \n",
       "691   Florham Park, NJ     3.1    501 to 1000 Employees   2004.0   \n",
       "917         Boston, MA     2.7     201 to 500 Employees   1999.0   \n",
       "\n",
       "           type_of_ownership                          industry  \\\n",
       "563   Nonprofit Organization             Banks & Credit Unions   \n",
       "1910       Company - Private                        Consulting   \n",
       "395        Company - Private    Financial Analytics & Research   \n",
       "718        Company - Private         Biotech & Pharmaceuticals   \n",
       "39          Company - Public                Insurance Carriers   \n",
       "597     College / University           Colleges & Universities   \n",
       "360        Company - Private                          Internet   \n",
       "869   Nonprofit Organization  Health Care Services & Hospitals   \n",
       "691        Company - Private         Biotech & Pharmaceuticals   \n",
       "917        Company - Private                       Video Games   \n",
       "\n",
       "                         sector                     revenue  min_salary  \\\n",
       "563                     Finance     $5 to $10 billion (USD)          62   \n",
       "1910          Business Services    $25 to $50 million (USD)          49   \n",
       "395                     Finance                         NaN          44   \n",
       "718   Biotech & Pharmaceuticals  $100 to $500 million (USD)          27   \n",
       "39                    Insurance          $10+ billion (USD)          64   \n",
       "597                   Education    $10 to $25 million (USD)          36   \n",
       "360      Information Technology   $50 to $100 million (USD)          48   \n",
       "869                 Health Care  $100 to $500 million (USD)          26   \n",
       "691   Biotech & Pharmaceuticals     $5 to $10 million (USD)          42   \n",
       "917                       Media                         NaN          47   \n",
       "\n",
       "      max_salary  avg_salary          city state  \n",
       "563          129        95.5     Charlotte    NC  \n",
       "1910          90        69.5       Atlanta    GA  \n",
       "395           86        65.0      New York    NY  \n",
       "718           50        38.5    Louisville    KY  \n",
       "39           111        87.5       Atlanta    GA  \n",
       "597           71        53.5    Scottsdale    AZ  \n",
       "360           88        68.0      New York    NY  \n",
       "869           36        31.0       Atlanta    GA  \n",
       "691           76        59.0  Florham Park    NJ  \n",
       "917           91        69.0        Boston    MA  "
      ]
     },
     "execution_count": 38,
     "metadata": {},
     "output_type": "execute_result"
    }
   ],
   "source": [
    "df.sample(10)"
   ]
  },
  {
   "cell_type": "code",
   "execution_count": 39,
   "metadata": {},
   "outputs": [
    {
     "data": {
      "text/plain": [
       " CA              87\n",
       " NY              74\n",
       " IL              53\n",
       " TX              52\n",
       " MA              49\n",
       " VA              48\n",
       " DC              37\n",
       " FL              35\n",
       " NJ              23\n",
       " GA              21\n",
       " PA              21\n",
       " CO              19\n",
       " MN              19\n",
       " AZ              17\n",
       " IN              15\n",
       " UT              12\n",
       " TN              12\n",
       " MD              11\n",
       " NC              10\n",
       " WA              10\n",
       " MO              10\n",
       " OH               9\n",
       " AL               8\n",
       " WI               8\n",
       "Remote            8\n",
       " OR               7\n",
       "United States     7\n",
       " CT               7\n",
       " MI               7\n",
       " OK               5\n",
       " KY               5\n",
       " IA               5\n",
       " VT               3\n",
       " AK               3\n",
       " DE               3\n",
       " NE               2\n",
       " AR               2\n",
       " HI               2\n",
       "St Louis Park     2\n",
       " NH               2\n",
       " NV               2\n",
       " WY               2\n",
       "Virginia          1\n",
       "Oklahoma          1\n",
       " SC               1\n",
       " ME               1\n",
       " WV               1\n",
       " MT               1\n",
       " KS               1\n",
       "Name: state, dtype: int64"
      ]
     },
     "execution_count": 39,
     "metadata": {},
     "output_type": "execute_result"
    }
   ],
   "source": [
    "df.state.value_counts()"
   ]
  },
  {
   "cell_type": "code",
   "execution_count": 40,
   "metadata": {},
   "outputs": [],
   "source": [
    "df.state.replace('Remote', np.nan, inplace=True)\n",
    "df.state.replace('United States', np.nan, inplace=True)\n",
    "df.state.replace('Oklahoma', 'OK', inplace=True)\n",
    "df.state.replace('Virginia', 'VA', inplace=True)"
   ]
  },
  {
   "cell_type": "code",
   "execution_count": 41,
   "metadata": {},
   "outputs": [
    {
     "data": {
      "text/plain": [
       " CA              87\n",
       " NY              74\n",
       " IL              53\n",
       " TX              52\n",
       " MA              49\n",
       " VA              48\n",
       " DC              37\n",
       " FL              35\n",
       " NJ              23\n",
       " GA              21\n",
       " PA              21\n",
       " CO              19\n",
       " MN              19\n",
       " AZ              17\n",
       " IN              15\n",
       " TN              12\n",
       " UT              12\n",
       " MD              11\n",
       " MO              10\n",
       " WA              10\n",
       " NC              10\n",
       " OH               9\n",
       " AL               8\n",
       " WI               8\n",
       " OR               7\n",
       " CT               7\n",
       " MI               7\n",
       " KY               5\n",
       " IA               5\n",
       " OK               5\n",
       " VT               3\n",
       " AK               3\n",
       " DE               3\n",
       " NE               2\n",
       " AR               2\n",
       "St Louis Park     2\n",
       " HI               2\n",
       " WY               2\n",
       " NV               2\n",
       " NH               2\n",
       "OK                1\n",
       "VA                1\n",
       " ME               1\n",
       " WV               1\n",
       " MT               1\n",
       " KS               1\n",
       " SC               1\n",
       "Name: state, dtype: int64"
      ]
     },
     "execution_count": 41,
     "metadata": {},
     "output_type": "execute_result"
    }
   ],
   "source": [
    "df.state.value_counts()"
   ]
  },
  {
   "cell_type": "code",
   "execution_count": 42,
   "metadata": {},
   "outputs": [],
   "source": [
    "# St Louis Park is in Minnesota\n",
    "df.state.replace('St Louis Park','MN', inplace=True)"
   ]
  },
  {
   "cell_type": "code",
   "execution_count": 43,
   "metadata": {},
   "outputs": [],
   "source": [
    "# stripping spaces away in state column\n",
    "df.state = df.state.str.strip()"
   ]
  },
  {
   "cell_type": "code",
   "execution_count": 44,
   "metadata": {},
   "outputs": [
    {
     "data": {
      "text/plain": [
       "CA    87\n",
       "NY    74\n",
       "IL    53\n",
       "TX    52\n",
       "VA    49\n",
       "MA    49\n",
       "DC    37\n",
       "FL    35\n",
       "NJ    23\n",
       "GA    21\n",
       "MN    21\n",
       "PA    21\n",
       "CO    19\n",
       "AZ    17\n",
       "IN    15\n",
       "UT    12\n",
       "TN    12\n",
       "MD    11\n",
       "MO    10\n",
       "NC    10\n",
       "WA    10\n",
       "OH     9\n",
       "WI     8\n",
       "AL     8\n",
       "OR     7\n",
       "CT     7\n",
       "MI     7\n",
       "OK     6\n",
       "KY     5\n",
       "IA     5\n",
       "DE     3\n",
       "VT     3\n",
       "AK     3\n",
       "NH     2\n",
       "NE     2\n",
       "WY     2\n",
       "HI     2\n",
       "AR     2\n",
       "NV     2\n",
       "WV     1\n",
       "SC     1\n",
       "MT     1\n",
       "KS     1\n",
       "ME     1\n",
       "Name: state, dtype: int64"
      ]
     },
     "execution_count": 44,
     "metadata": {},
     "output_type": "execute_result"
    }
   ],
   "source": [
    "df.state.value_counts()"
   ]
  },
  {
   "cell_type": "markdown",
   "metadata": {},
   "source": [
    "## Define"
   ]
  },
  {
   "cell_type": "markdown",
   "metadata": {},
   "source": [
    "calculate company age from `founded`"
   ]
  },
  {
   "cell_type": "markdown",
   "metadata": {},
   "source": [
    "## Code"
   ]
  },
  {
   "cell_type": "code",
   "execution_count": 46,
   "metadata": {},
   "outputs": [],
   "source": [
    "df['company_age'] = 2020 - df.founded"
   ]
  },
  {
   "cell_type": "markdown",
   "metadata": {},
   "source": [
    "## Test"
   ]
  },
  {
   "cell_type": "code",
   "execution_count": 47,
   "metadata": {},
   "outputs": [
    {
     "data": {
      "text/html": [
       "<div>\n",
       "<style scoped>\n",
       "    .dataframe tbody tr th:only-of-type {\n",
       "        vertical-align: middle;\n",
       "    }\n",
       "\n",
       "    .dataframe tbody tr th {\n",
       "        vertical-align: top;\n",
       "    }\n",
       "\n",
       "    .dataframe thead th {\n",
       "        text-align: right;\n",
       "    }\n",
       "</style>\n",
       "<table border=\"1\" class=\"dataframe\">\n",
       "  <thead>\n",
       "    <tr style=\"text-align: right;\">\n",
       "      <th></th>\n",
       "      <th>job_title</th>\n",
       "      <th>salary_estimate</th>\n",
       "      <th>location</th>\n",
       "      <th>rating</th>\n",
       "      <th>size</th>\n",
       "      <th>founded</th>\n",
       "      <th>type_of_ownership</th>\n",
       "      <th>industry</th>\n",
       "      <th>sector</th>\n",
       "      <th>revenue</th>\n",
       "      <th>min_salary</th>\n",
       "      <th>max_salary</th>\n",
       "      <th>avg_salary</th>\n",
       "      <th>city</th>\n",
       "      <th>state</th>\n",
       "      <th>company_age</th>\n",
       "    </tr>\n",
       "  </thead>\n",
       "  <tbody>\n",
       "    <tr>\n",
       "      <th>1</th>\n",
       "      <td>Data/Reporting Analyst</td>\n",
       "      <td>40 - 74</td>\n",
       "      <td>Miami Lakes, FL</td>\n",
       "      <td>3.1</td>\n",
       "      <td>1001 to 5000 Employees</td>\n",
       "      <td>2009.0</td>\n",
       "      <td>Company - Public</td>\n",
       "      <td>Banks &amp; Credit Unions</td>\n",
       "      <td>Finance</td>\n",
       "      <td>$10+ billion (USD)</td>\n",
       "      <td>40</td>\n",
       "      <td>74</td>\n",
       "      <td>57.0</td>\n",
       "      <td>Miami Lakes</td>\n",
       "      <td>FL</td>\n",
       "      <td>11.0</td>\n",
       "    </tr>\n",
       "    <tr>\n",
       "      <th>4</th>\n",
       "      <td>Lead Data Analyst</td>\n",
       "      <td>48 - 82</td>\n",
       "      <td>Harrisburg, PA</td>\n",
       "      <td>3.1</td>\n",
       "      <td>1001 to 5000 Employees</td>\n",
       "      <td>1963.0</td>\n",
       "      <td>Nonprofit Organization</td>\n",
       "      <td>Lending</td>\n",
       "      <td>Finance</td>\n",
       "      <td>$500 million to $1 billion (USD)</td>\n",
       "      <td>48</td>\n",
       "      <td>82</td>\n",
       "      <td>65.0</td>\n",
       "      <td>Harrisburg</td>\n",
       "      <td>PA</td>\n",
       "      <td>57.0</td>\n",
       "    </tr>\n",
       "    <tr>\n",
       "      <th>5</th>\n",
       "      <td>Supply Chain Data Analyst</td>\n",
       "      <td>65 - 79</td>\n",
       "      <td>Pleasant Prairie, WI</td>\n",
       "      <td>3.6</td>\n",
       "      <td>5001 to 10000 Employees</td>\n",
       "      <td>1980.0</td>\n",
       "      <td>Company - Private</td>\n",
       "      <td>Industrial Manufacturing</td>\n",
       "      <td>Manufacturing</td>\n",
       "      <td>NaN</td>\n",
       "      <td>65</td>\n",
       "      <td>79</td>\n",
       "      <td>72.0</td>\n",
       "      <td>Pleasant Prairie</td>\n",
       "      <td>WI</td>\n",
       "      <td>40.0</td>\n",
       "    </tr>\n",
       "  </tbody>\n",
       "</table>\n",
       "</div>"
      ],
      "text/plain": [
       "                   job_title salary_estimate              location  rating  \\\n",
       "1     Data/Reporting Analyst        40 - 74        Miami Lakes, FL     3.1   \n",
       "4          Lead Data Analyst        48 - 82         Harrisburg, PA     3.1   \n",
       "5  Supply Chain Data Analyst        65 - 79   Pleasant Prairie, WI     3.6   \n",
       "\n",
       "                      size  founded       type_of_ownership  \\\n",
       "1   1001 to 5000 Employees   2009.0        Company - Public   \n",
       "4   1001 to 5000 Employees   1963.0  Nonprofit Organization   \n",
       "5  5001 to 10000 Employees   1980.0       Company - Private   \n",
       "\n",
       "                   industry         sector                           revenue  \\\n",
       "1     Banks & Credit Unions        Finance                $10+ billion (USD)   \n",
       "4                   Lending        Finance  $500 million to $1 billion (USD)   \n",
       "5  Industrial Manufacturing  Manufacturing                               NaN   \n",
       "\n",
       "   min_salary  max_salary  avg_salary              city state  company_age  \n",
       "1          40          74        57.0       Miami Lakes    FL         11.0  \n",
       "4          48          82        65.0        Harrisburg    PA         57.0  \n",
       "5          65          79        72.0  Pleasant Prairie    WI         40.0  "
      ]
     },
     "execution_count": 47,
     "metadata": {},
     "output_type": "execute_result"
    }
   ],
   "source": [
    "df.head(3)"
   ]
  },
  {
   "cell_type": "markdown",
   "metadata": {},
   "source": [
    "## Define"
   ]
  },
  {
   "cell_type": "markdown",
   "metadata": {},
   "source": [
    "Drop all duplicated jobs"
   ]
  },
  {
   "cell_type": "markdown",
   "metadata": {},
   "source": [
    "## Code"
   ]
  },
  {
   "cell_type": "code",
   "execution_count": 70,
   "metadata": {
    "scrolled": false
   },
   "outputs": [],
   "source": [
    "df.drop_duplicates(inplace=True)"
   ]
  },
  {
   "cell_type": "markdown",
   "metadata": {},
   "source": [
    "## Test"
   ]
  },
  {
   "cell_type": "code",
   "execution_count": 73,
   "metadata": {},
   "outputs": [
    {
     "data": {
      "text/plain": [
       "(0, 13)"
      ]
     },
     "execution_count": 73,
     "metadata": {},
     "output_type": "execute_result"
    }
   ],
   "source": [
    "df[df.duplicated()].shape"
   ]
  },
  {
   "cell_type": "markdown",
   "metadata": {},
   "source": [
    "## Define"
   ]
  },
  {
   "cell_type": "markdown",
   "metadata": {},
   "source": [
    "Drop unnecessary columns"
   ]
  },
  {
   "cell_type": "markdown",
   "metadata": {},
   "source": [
    "## Code"
   ]
  },
  {
   "cell_type": "code",
   "execution_count": 52,
   "metadata": {},
   "outputs": [
    {
     "data": {
      "text/plain": [
       "Index(['job_title', 'salary_estimate', 'location', 'rating', 'size', 'founded',\n",
       "       'type_of_ownership', 'industry', 'sector', 'revenue', 'min_salary',\n",
       "       'max_salary', 'avg_salary', 'city', 'state', 'company_age'],\n",
       "      dtype='object')"
      ]
     },
     "execution_count": 52,
     "metadata": {},
     "output_type": "execute_result"
    }
   ],
   "source": [
    "df.columns"
   ]
  },
  {
   "cell_type": "code",
   "execution_count": 53,
   "metadata": {},
   "outputs": [],
   "source": [
    "df.drop(['salary_estimate', 'location', 'founded'], axis=1, inplace=True)"
   ]
  },
  {
   "cell_type": "markdown",
   "metadata": {},
   "source": [
    "## Test"
   ]
  },
  {
   "cell_type": "code",
   "execution_count": 55,
   "metadata": {},
   "outputs": [
    {
     "data": {
      "text/html": [
       "<div>\n",
       "<style scoped>\n",
       "    .dataframe tbody tr th:only-of-type {\n",
       "        vertical-align: middle;\n",
       "    }\n",
       "\n",
       "    .dataframe tbody tr th {\n",
       "        vertical-align: top;\n",
       "    }\n",
       "\n",
       "    .dataframe thead th {\n",
       "        text-align: right;\n",
       "    }\n",
       "</style>\n",
       "<table border=\"1\" class=\"dataframe\">\n",
       "  <thead>\n",
       "    <tr style=\"text-align: right;\">\n",
       "      <th></th>\n",
       "      <th>job_title</th>\n",
       "      <th>rating</th>\n",
       "      <th>size</th>\n",
       "      <th>type_of_ownership</th>\n",
       "      <th>industry</th>\n",
       "      <th>sector</th>\n",
       "      <th>revenue</th>\n",
       "      <th>min_salary</th>\n",
       "      <th>max_salary</th>\n",
       "      <th>avg_salary</th>\n",
       "      <th>city</th>\n",
       "      <th>state</th>\n",
       "      <th>company_age</th>\n",
       "    </tr>\n",
       "  </thead>\n",
       "  <tbody>\n",
       "    <tr>\n",
       "      <th>443</th>\n",
       "      <td>Counterterrorism Data Exploitation Analyst (Mi...</td>\n",
       "      <td>3.5</td>\n",
       "      <td>1001 to 5000 Employees</td>\n",
       "      <td>Subsidiary or Business Segment</td>\n",
       "      <td>Enterprise Software &amp; Network Solutions</td>\n",
       "      <td>Information Technology</td>\n",
       "      <td>$500 million to $1 billion (USD)</td>\n",
       "      <td>64</td>\n",
       "      <td>109</td>\n",
       "      <td>86.5</td>\n",
       "      <td>McLean</td>\n",
       "      <td>VA</td>\n",
       "      <td>49.0</td>\n",
       "    </tr>\n",
       "  </tbody>\n",
       "</table>\n",
       "</div>"
      ],
      "text/plain": [
       "                                             job_title  rating  \\\n",
       "443  Counterterrorism Data Exploitation Analyst (Mi...     3.5   \n",
       "\n",
       "                       size               type_of_ownership  \\\n",
       "443  1001 to 5000 Employees  Subsidiary or Business Segment   \n",
       "\n",
       "                                    industry                  sector  \\\n",
       "443  Enterprise Software & Network Solutions  Information Technology   \n",
       "\n",
       "                              revenue  min_salary  max_salary  avg_salary  \\\n",
       "443  $500 million to $1 billion (USD)          64         109        86.5   \n",
       "\n",
       "       city state  company_age  \n",
       "443  McLean    VA         49.0  "
      ]
     },
     "execution_count": 55,
     "metadata": {},
     "output_type": "execute_result"
    }
   ],
   "source": [
    "df.sample()"
   ]
  },
  {
   "cell_type": "markdown",
   "metadata": {},
   "source": [
    "# Save Final df"
   ]
  },
  {
   "cell_type": "code",
   "execution_count": 79,
   "metadata": {},
   "outputs": [],
   "source": [
    "df.to_csv('salaries_clean', index=False)"
   ]
  }
 ],
 "metadata": {
  "kernelspec": {
   "display_name": "Python 3",
   "language": "python",
   "name": "python3"
  },
  "language_info": {
   "codemirror_mode": {
    "name": "ipython",
    "version": 3
   },
   "file_extension": ".py",
   "mimetype": "text/x-python",
   "name": "python",
   "nbconvert_exporter": "python",
   "pygments_lexer": "ipython3",
   "version": "3.8.3"
  }
 },
 "nbformat": 4,
 "nbformat_minor": 4
}
