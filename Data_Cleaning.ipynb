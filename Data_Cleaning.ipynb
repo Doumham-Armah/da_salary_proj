{
 "cells": [
  {
   "cell_type": "code",
   "execution_count": 1,
   "metadata": {},
   "outputs": [],
   "source": [
    "import pandas as pd\n",
    "import numpy as np\n",
    "import matplotlib.pyplot as plt\n",
    "import seaborn as sns\n",
    "pd.set_option('display.max_rows', 1000)"
   ]
  },
  {
   "cell_type": "code",
   "execution_count": 2,
   "metadata": {},
   "outputs": [],
   "source": [
    "df1,df2,df3,df4,df5 = pd.read_csv('jobs'),pd.read_csv('jobs2'),pd.read_csv('jobs3'),pd.read_csv('jobs4'),pd.read_csv('jobs5')"
   ]
  },
  {
   "cell_type": "markdown",
   "metadata": {},
   "source": [
    "# Combining the dfs"
   ]
  },
  {
   "cell_type": "code",
   "execution_count": 3,
   "metadata": {},
   "outputs": [
    {
     "data": {
      "text/html": [
       "<div>\n",
       "<style scoped>\n",
       "    .dataframe tbody tr th:only-of-type {\n",
       "        vertical-align: middle;\n",
       "    }\n",
       "\n",
       "    .dataframe tbody tr th {\n",
       "        vertical-align: top;\n",
       "    }\n",
       "\n",
       "    .dataframe thead th {\n",
       "        text-align: right;\n",
       "    }\n",
       "</style>\n",
       "<table border=\"1\" class=\"dataframe\">\n",
       "  <thead>\n",
       "    <tr style=\"text-align: right;\">\n",
       "      <th></th>\n",
       "      <th>company_name</th>\n",
       "      <th>job_title</th>\n",
       "      <th>salary_estimate</th>\n",
       "      <th>location</th>\n",
       "      <th>rating</th>\n",
       "      <th>size</th>\n",
       "      <th>founded</th>\n",
       "      <th>type_of_ownership</th>\n",
       "      <th>industry</th>\n",
       "      <th>sector</th>\n",
       "      <th>revenue</th>\n",
       "    </tr>\n",
       "  </thead>\n",
       "  <tbody>\n",
       "    <tr>\n",
       "      <th>75</th>\n",
       "      <td>NaN</td>\n",
       "      <td>Data Analyst-HEDIS &amp; Star</td>\n",
       "      <td>$80K - $91K (Glassdoor est.)</td>\n",
       "      <td>Long Beach, CA</td>\n",
       "      <td>4.1</td>\n",
       "      <td>501 to 1000 Employees</td>\n",
       "      <td>1977.0</td>\n",
       "      <td>Nonprofit Organization</td>\n",
       "      <td>Insurance Carriers</td>\n",
       "      <td>Insurance</td>\n",
       "      <td>$2 to $5 billion (USD)</td>\n",
       "    </tr>\n",
       "  </tbody>\n",
       "</table>\n",
       "</div>"
      ],
      "text/plain": [
       "    company_name                  job_title               salary_estimate  \\\n",
       "75           NaN  Data Analyst-HEDIS & Star  $80K - $91K (Glassdoor est.)   \n",
       "\n",
       "          location  rating                   size  founded  \\\n",
       "75  Long Beach, CA     4.1  501 to 1000 Employees   1977.0   \n",
       "\n",
       "         type_of_ownership            industry     sector  \\\n",
       "75  Nonprofit Organization  Insurance Carriers  Insurance   \n",
       "\n",
       "                   revenue  \n",
       "75  $2 to $5 billion (USD)  "
      ]
     },
     "execution_count": 3,
     "metadata": {},
     "output_type": "execute_result"
    }
   ],
   "source": [
    "df1.sample()"
   ]
  },
  {
   "cell_type": "code",
   "execution_count": 4,
   "metadata": {},
   "outputs": [
    {
     "data": {
      "text/html": [
       "<div>\n",
       "<style scoped>\n",
       "    .dataframe tbody tr th:only-of-type {\n",
       "        vertical-align: middle;\n",
       "    }\n",
       "\n",
       "    .dataframe tbody tr th {\n",
       "        vertical-align: top;\n",
       "    }\n",
       "\n",
       "    .dataframe thead th {\n",
       "        text-align: right;\n",
       "    }\n",
       "</style>\n",
       "<table border=\"1\" class=\"dataframe\">\n",
       "  <thead>\n",
       "    <tr style=\"text-align: right;\">\n",
       "      <th></th>\n",
       "      <th>company_name</th>\n",
       "      <th>job_title</th>\n",
       "      <th>salary_estimate</th>\n",
       "      <th>location</th>\n",
       "      <th>rating</th>\n",
       "      <th>size</th>\n",
       "      <th>founded</th>\n",
       "      <th>type_of_ownership</th>\n",
       "      <th>industry</th>\n",
       "      <th>sector</th>\n",
       "      <th>revenue</th>\n",
       "    </tr>\n",
       "  </thead>\n",
       "  <tbody>\n",
       "    <tr>\n",
       "      <th>808</th>\n",
       "      <td>NaN</td>\n",
       "      <td>DATA ANALYST</td>\n",
       "      <td>NaN</td>\n",
       "      <td>Chicago, IL</td>\n",
       "      <td>2.8</td>\n",
       "      <td>51 to 200 Employees</td>\n",
       "      <td>NaN</td>\n",
       "      <td>Nonprofit Organization</td>\n",
       "      <td>Health Care Services &amp; Hospitals</td>\n",
       "      <td>Health Care</td>\n",
       "      <td>$50 to $100 million (USD)</td>\n",
       "    </tr>\n",
       "  </tbody>\n",
       "</table>\n",
       "</div>"
      ],
      "text/plain": [
       "     company_name     job_title salary_estimate     location  rating  \\\n",
       "808           NaN  DATA ANALYST             NaN  Chicago, IL     2.8   \n",
       "\n",
       "                    size  founded       type_of_ownership  \\\n",
       "808  51 to 200 Employees      NaN  Nonprofit Organization   \n",
       "\n",
       "                             industry       sector                    revenue  \n",
       "808  Health Care Services & Hospitals  Health Care  $50 to $100 million (USD)  "
      ]
     },
     "execution_count": 4,
     "metadata": {},
     "output_type": "execute_result"
    }
   ],
   "source": [
    "df2.sample()"
   ]
  },
  {
   "cell_type": "code",
   "execution_count": 5,
   "metadata": {},
   "outputs": [
    {
     "data": {
      "text/html": [
       "<div>\n",
       "<style scoped>\n",
       "    .dataframe tbody tr th:only-of-type {\n",
       "        vertical-align: middle;\n",
       "    }\n",
       "\n",
       "    .dataframe tbody tr th {\n",
       "        vertical-align: top;\n",
       "    }\n",
       "\n",
       "    .dataframe thead th {\n",
       "        text-align: right;\n",
       "    }\n",
       "</style>\n",
       "<table border=\"1\" class=\"dataframe\">\n",
       "  <thead>\n",
       "    <tr style=\"text-align: right;\">\n",
       "      <th></th>\n",
       "      <th>job_title</th>\n",
       "      <th>salary_estimate</th>\n",
       "      <th>location</th>\n",
       "      <th>rating</th>\n",
       "      <th>size</th>\n",
       "      <th>founded</th>\n",
       "      <th>type_of_ownership</th>\n",
       "      <th>industry</th>\n",
       "      <th>sector</th>\n",
       "      <th>revenue</th>\n",
       "    </tr>\n",
       "  </thead>\n",
       "  <tbody>\n",
       "    <tr>\n",
       "      <th>46</th>\n",
       "      <td>Data Governance Analyst</td>\n",
       "      <td>$41K - $74K (Glassdoor est.)</td>\n",
       "      <td>Phoenix, AZ</td>\n",
       "      <td>4.5</td>\n",
       "      <td>201 to 500 Employees</td>\n",
       "      <td>1994.0</td>\n",
       "      <td>Company - Private</td>\n",
       "      <td>Staffing &amp; Outsourcing</td>\n",
       "      <td>Business Services</td>\n",
       "      <td>$25 to $50 million (USD)</td>\n",
       "    </tr>\n",
       "  </tbody>\n",
       "</table>\n",
       "</div>"
      ],
      "text/plain": [
       "                  job_title               salary_estimate     location  \\\n",
       "46  Data Governance Analyst  $41K - $74K (Glassdoor est.)  Phoenix, AZ   \n",
       "\n",
       "    rating                  size  founded  type_of_ownership  \\\n",
       "46     4.5  201 to 500 Employees   1994.0  Company - Private   \n",
       "\n",
       "                  industry             sector                   revenue  \n",
       "46  Staffing & Outsourcing  Business Services  $25 to $50 million (USD)  "
      ]
     },
     "execution_count": 5,
     "metadata": {},
     "output_type": "execute_result"
    }
   ],
   "source": [
    "df3.sample()"
   ]
  },
  {
   "cell_type": "code",
   "execution_count": 6,
   "metadata": {},
   "outputs": [
    {
     "data": {
      "text/html": [
       "<div>\n",
       "<style scoped>\n",
       "    .dataframe tbody tr th:only-of-type {\n",
       "        vertical-align: middle;\n",
       "    }\n",
       "\n",
       "    .dataframe tbody tr th {\n",
       "        vertical-align: top;\n",
       "    }\n",
       "\n",
       "    .dataframe thead th {\n",
       "        text-align: right;\n",
       "    }\n",
       "</style>\n",
       "<table border=\"1\" class=\"dataframe\">\n",
       "  <thead>\n",
       "    <tr style=\"text-align: right;\">\n",
       "      <th></th>\n",
       "      <th>job_title</th>\n",
       "      <th>salary_estimate</th>\n",
       "      <th>location</th>\n",
       "      <th>rating</th>\n",
       "      <th>size</th>\n",
       "      <th>founded</th>\n",
       "      <th>type_of_ownership</th>\n",
       "      <th>industry</th>\n",
       "      <th>sector</th>\n",
       "      <th>revenue</th>\n",
       "    </tr>\n",
       "  </thead>\n",
       "  <tbody>\n",
       "    <tr>\n",
       "      <th>19</th>\n",
       "      <td>Regulatory Affairs Data Analyst</td>\n",
       "      <td>$47K - $85K (Glassdoor est.)</td>\n",
       "      <td>Naples, FL</td>\n",
       "      <td>4.0</td>\n",
       "      <td>1001 to 5000 Employees</td>\n",
       "      <td>1981.0</td>\n",
       "      <td>Company - Private</td>\n",
       "      <td>Health Care Products Manufacturing</td>\n",
       "      <td>Manufacturing</td>\n",
       "      <td>$1 to $2 billion (USD)</td>\n",
       "    </tr>\n",
       "  </tbody>\n",
       "</table>\n",
       "</div>"
      ],
      "text/plain": [
       "                          job_title               salary_estimate    location  \\\n",
       "19  Regulatory Affairs Data Analyst  $47K - $85K (Glassdoor est.)  Naples, FL   \n",
       "\n",
       "    rating                    size  founded  type_of_ownership  \\\n",
       "19     4.0  1001 to 5000 Employees   1981.0  Company - Private   \n",
       "\n",
       "                              industry         sector                 revenue  \n",
       "19  Health Care Products Manufacturing  Manufacturing  $1 to $2 billion (USD)  "
      ]
     },
     "execution_count": 6,
     "metadata": {},
     "output_type": "execute_result"
    }
   ],
   "source": [
    "df4.sample()"
   ]
  },
  {
   "cell_type": "code",
   "execution_count": 7,
   "metadata": {},
   "outputs": [
    {
     "data": {
      "text/html": [
       "<div>\n",
       "<style scoped>\n",
       "    .dataframe tbody tr th:only-of-type {\n",
       "        vertical-align: middle;\n",
       "    }\n",
       "\n",
       "    .dataframe tbody tr th {\n",
       "        vertical-align: top;\n",
       "    }\n",
       "\n",
       "    .dataframe thead th {\n",
       "        text-align: right;\n",
       "    }\n",
       "</style>\n",
       "<table border=\"1\" class=\"dataframe\">\n",
       "  <thead>\n",
       "    <tr style=\"text-align: right;\">\n",
       "      <th></th>\n",
       "      <th>job_title</th>\n",
       "      <th>salary_estimate</th>\n",
       "      <th>location</th>\n",
       "      <th>rating</th>\n",
       "      <th>size</th>\n",
       "      <th>founded</th>\n",
       "      <th>type_of_ownership</th>\n",
       "      <th>industry</th>\n",
       "      <th>sector</th>\n",
       "      <th>revenue</th>\n",
       "    </tr>\n",
       "  </thead>\n",
       "  <tbody>\n",
       "    <tr>\n",
       "      <th>13</th>\n",
       "      <td>Data Analyst Internship</td>\n",
       "      <td>NaN</td>\n",
       "      <td>Draper, UT</td>\n",
       "      <td>4.0</td>\n",
       "      <td>201 to 500 Employees</td>\n",
       "      <td>2013.0</td>\n",
       "      <td>Company - Private</td>\n",
       "      <td>Lending</td>\n",
       "      <td>Finance</td>\n",
       "      <td>Unknown / Non-Applicable</td>\n",
       "    </tr>\n",
       "  </tbody>\n",
       "</table>\n",
       "</div>"
      ],
      "text/plain": [
       "                  job_title salary_estimate    location  rating  \\\n",
       "13  Data Analyst Internship             NaN  Draper, UT     4.0   \n",
       "\n",
       "                    size  founded  type_of_ownership industry   sector  \\\n",
       "13  201 to 500 Employees   2013.0  Company - Private  Lending  Finance   \n",
       "\n",
       "                     revenue  \n",
       "13  Unknown / Non-Applicable  "
      ]
     },
     "execution_count": 7,
     "metadata": {},
     "output_type": "execute_result"
    }
   ],
   "source": [
    "df5.sample()"
   ]
  },
  {
   "cell_type": "markdown",
   "metadata": {},
   "source": [
    "First 2 dfs have company_name col which we need to drop to match the rest of the DFs"
   ]
  },
  {
   "cell_type": "code",
   "execution_count": 8,
   "metadata": {},
   "outputs": [],
   "source": [
    "df1.drop(['company_name'], axis=1, inplace=True)"
   ]
  },
  {
   "cell_type": "code",
   "execution_count": 9,
   "metadata": {},
   "outputs": [],
   "source": [
    "df2.drop(['company_name'], axis=1, inplace=True)"
   ]
  },
  {
   "cell_type": "code",
   "execution_count": 10,
   "metadata": {},
   "outputs": [],
   "source": [
    "# appending all dfs into one master df\n",
    "df = df1.append([df2,df3,df4,df5])"
   ]
  },
  {
   "cell_type": "code",
   "execution_count": 11,
   "metadata": {},
   "outputs": [],
   "source": [
    "# reset index after appending dfs \n",
    "df.reset_index(inplace=True)"
   ]
  },
  {
   "cell_type": "code",
   "execution_count": 12,
   "metadata": {},
   "outputs": [
    {
     "name": "stdout",
     "output_type": "stream",
     "text": [
      "<class 'pandas.core.frame.DataFrame'>\n",
      "RangeIndex: 1991 entries, 0 to 1990\n",
      "Data columns (total 11 columns):\n",
      " #   Column             Non-Null Count  Dtype  \n",
      "---  ------             --------------  -----  \n",
      " 0   index              1991 non-null   int64  \n",
      " 1   job_title          1991 non-null   object \n",
      " 2   salary_estimate    741 non-null    object \n",
      " 3   location           1991 non-null   object \n",
      " 4   rating             1850 non-null   float64\n",
      " 5   size               1991 non-null   object \n",
      " 6   founded            1561 non-null   float64\n",
      " 7   type_of_ownership  1883 non-null   object \n",
      " 8   industry           1713 non-null   object \n",
      " 9   sector             1717 non-null   object \n",
      " 10  revenue            1887 non-null   object \n",
      "dtypes: float64(2), int64(1), object(8)\n",
      "memory usage: 171.2+ KB\n"
     ]
    }
   ],
   "source": [
    "df.info()"
   ]
  },
  {
   "cell_type": "code",
   "execution_count": 13,
   "metadata": {},
   "outputs": [],
   "source": [
    "df.drop(['index'], axis=1, inplace=True)"
   ]
  },
  {
   "cell_type": "code",
   "execution_count": 14,
   "metadata": {},
   "outputs": [
    {
     "data": {
      "text/html": [
       "<div>\n",
       "<style scoped>\n",
       "    .dataframe tbody tr th:only-of-type {\n",
       "        vertical-align: middle;\n",
       "    }\n",
       "\n",
       "    .dataframe tbody tr th {\n",
       "        vertical-align: top;\n",
       "    }\n",
       "\n",
       "    .dataframe thead th {\n",
       "        text-align: right;\n",
       "    }\n",
       "</style>\n",
       "<table border=\"1\" class=\"dataframe\">\n",
       "  <thead>\n",
       "    <tr style=\"text-align: right;\">\n",
       "      <th></th>\n",
       "      <th>job_title</th>\n",
       "      <th>salary_estimate</th>\n",
       "      <th>location</th>\n",
       "      <th>rating</th>\n",
       "      <th>size</th>\n",
       "      <th>founded</th>\n",
       "      <th>type_of_ownership</th>\n",
       "      <th>industry</th>\n",
       "      <th>sector</th>\n",
       "      <th>revenue</th>\n",
       "    </tr>\n",
       "  </thead>\n",
       "  <tbody>\n",
       "    <tr>\n",
       "      <th>105</th>\n",
       "      <td>GBSD Sr Data Analyst – Systems Engineer</td>\n",
       "      <td>$64K - $82K (Glassdoor est.)</td>\n",
       "      <td>Roy, UT</td>\n",
       "      <td>4.0</td>\n",
       "      <td>10000+ Employees</td>\n",
       "      <td>1939.0</td>\n",
       "      <td>Company - Public</td>\n",
       "      <td>Aerospace &amp; Defense</td>\n",
       "      <td>Aerospace &amp; Defense</td>\n",
       "      <td>$10+ billion (USD)</td>\n",
       "    </tr>\n",
       "    <tr>\n",
       "      <th>110</th>\n",
       "      <td>Data Engineering Analyst</td>\n",
       "      <td>$67K - $131K (Glassdoor est.)</td>\n",
       "      <td>Waltham, MA</td>\n",
       "      <td>3.4</td>\n",
       "      <td>1001 to 5000 Employees</td>\n",
       "      <td>1841.0</td>\n",
       "      <td>Company - Public</td>\n",
       "      <td>IT Services</td>\n",
       "      <td>Information Technology</td>\n",
       "      <td>$1 to $2 billion (USD)</td>\n",
       "    </tr>\n",
       "    <tr>\n",
       "      <th>160</th>\n",
       "      <td>Marketing Data Analyst</td>\n",
       "      <td>NaN</td>\n",
       "      <td>Odessa, FL</td>\n",
       "      <td>NaN</td>\n",
       "      <td>Unknown</td>\n",
       "      <td>NaN</td>\n",
       "      <td>NaN</td>\n",
       "      <td>NaN</td>\n",
       "      <td>NaN</td>\n",
       "      <td>NaN</td>\n",
       "    </tr>\n",
       "    <tr>\n",
       "      <th>177</th>\n",
       "      <td>AML Data Analyst</td>\n",
       "      <td>NaN</td>\n",
       "      <td>Boston, MA</td>\n",
       "      <td>3.8</td>\n",
       "      <td>1001 to 5000 Employees</td>\n",
       "      <td>1983.0</td>\n",
       "      <td>Subsidiary or Business Segment</td>\n",
       "      <td>Staffing &amp; Outsourcing</td>\n",
       "      <td>Business Services</td>\n",
       "      <td>$2 to $5 billion (USD)</td>\n",
       "    </tr>\n",
       "    <tr>\n",
       "      <th>199</th>\n",
       "      <td>Data Governance Analyst</td>\n",
       "      <td>$38K - $68K (Glassdoor est.)</td>\n",
       "      <td>Kansas City, MO</td>\n",
       "      <td>3.7</td>\n",
       "      <td>10000+ Employees</td>\n",
       "      <td>1885.0</td>\n",
       "      <td>Company - Public</td>\n",
       "      <td>Computer Hardware &amp; Software</td>\n",
       "      <td>Information Technology</td>\n",
       "      <td>$10+ billion (USD)</td>\n",
       "    </tr>\n",
       "    <tr>\n",
       "      <th>...</th>\n",
       "      <td>...</td>\n",
       "      <td>...</td>\n",
       "      <td>...</td>\n",
       "      <td>...</td>\n",
       "      <td>...</td>\n",
       "      <td>...</td>\n",
       "      <td>...</td>\n",
       "      <td>...</td>\n",
       "      <td>...</td>\n",
       "      <td>...</td>\n",
       "    </tr>\n",
       "    <tr>\n",
       "      <th>1984</th>\n",
       "      <td>E-commerce Data Analyst</td>\n",
       "      <td>$44K - $79K (Glassdoor est.)</td>\n",
       "      <td>Chicago, IL</td>\n",
       "      <td>3.6</td>\n",
       "      <td>10000+ Employees</td>\n",
       "      <td>1912.0</td>\n",
       "      <td>Company - Public</td>\n",
       "      <td>Lending</td>\n",
       "      <td>Finance</td>\n",
       "      <td>Unknown / Non-Applicable</td>\n",
       "    </tr>\n",
       "    <tr>\n",
       "      <th>1985</th>\n",
       "      <td>Seat Services Data Analyst (Norfolk)</td>\n",
       "      <td>$49K - $55K (Glassdoor est.)</td>\n",
       "      <td>Norfolk, VA</td>\n",
       "      <td>3.8</td>\n",
       "      <td>10000+ Employees</td>\n",
       "      <td>1969.0</td>\n",
       "      <td>Company - Public</td>\n",
       "      <td>Aerospace &amp; Defense</td>\n",
       "      <td>Aerospace &amp; Defense</td>\n",
       "      <td>$10+ billion (USD)</td>\n",
       "    </tr>\n",
       "    <tr>\n",
       "      <th>1986</th>\n",
       "      <td>Digital Engagement Data Analyst/Admin</td>\n",
       "      <td>$50K - $59K (Glassdoor est.)</td>\n",
       "      <td>Ogden, UT</td>\n",
       "      <td>3.8</td>\n",
       "      <td>1001 to 5000 Employees</td>\n",
       "      <td>1939.0</td>\n",
       "      <td>Nonprofit Organization</td>\n",
       "      <td>Investment Banking &amp; Asset Management</td>\n",
       "      <td>Finance</td>\n",
       "      <td>$100 to $500 million (USD)</td>\n",
       "    </tr>\n",
       "    <tr>\n",
       "      <th>1988</th>\n",
       "      <td>Metrics &amp; Data Analytics Analyst</td>\n",
       "      <td>NaN</td>\n",
       "      <td>Washington, DC</td>\n",
       "      <td>3.8</td>\n",
       "      <td>10000+ Employees</td>\n",
       "      <td>1996.0</td>\n",
       "      <td>Subsidiary or Business Segment</td>\n",
       "      <td>IT Services</td>\n",
       "      <td>Information Technology</td>\n",
       "      <td>$10+ billion (USD)</td>\n",
       "    </tr>\n",
       "    <tr>\n",
       "      <th>1990</th>\n",
       "      <td>Data Analyst</td>\n",
       "      <td>NaN</td>\n",
       "      <td>Indianapolis, IN</td>\n",
       "      <td>3.1</td>\n",
       "      <td>51 to 200 Employees</td>\n",
       "      <td>1994.0</td>\n",
       "      <td>Company - Private</td>\n",
       "      <td>Consulting</td>\n",
       "      <td>Business Services</td>\n",
       "      <td>$100 to $500 million (USD)</td>\n",
       "    </tr>\n",
       "  </tbody>\n",
       "</table>\n",
       "<p>789 rows × 10 columns</p>\n",
       "</div>"
      ],
      "text/plain": [
       "                                    job_title                salary_estimate  \\\n",
       "105   GBSD Sr Data Analyst – Systems Engineer   $64K - $82K (Glassdoor est.)   \n",
       "110                  Data Engineering Analyst  $67K - $131K (Glassdoor est.)   \n",
       "160                    Marketing Data Analyst                            NaN   \n",
       "177                          AML Data Analyst                            NaN   \n",
       "199                   Data Governance Analyst   $38K - $68K (Glassdoor est.)   \n",
       "...                                       ...                            ...   \n",
       "1984                  E-commerce Data Analyst   $44K - $79K (Glassdoor est.)   \n",
       "1985     Seat Services Data Analyst (Norfolk)   $49K - $55K (Glassdoor est.)   \n",
       "1986    Digital Engagement Data Analyst/Admin   $50K - $59K (Glassdoor est.)   \n",
       "1988         Metrics & Data Analytics Analyst                            NaN   \n",
       "1990                             Data Analyst                            NaN   \n",
       "\n",
       "              location  rating                    size  founded  \\\n",
       "105            Roy, UT     4.0        10000+ Employees   1939.0   \n",
       "110        Waltham, MA     3.4  1001 to 5000 Employees   1841.0   \n",
       "160         Odessa, FL     NaN                 Unknown      NaN   \n",
       "177         Boston, MA     3.8  1001 to 5000 Employees   1983.0   \n",
       "199    Kansas City, MO     3.7        10000+ Employees   1885.0   \n",
       "...                ...     ...                     ...      ...   \n",
       "1984       Chicago, IL     3.6        10000+ Employees   1912.0   \n",
       "1985       Norfolk, VA     3.8        10000+ Employees   1969.0   \n",
       "1986         Ogden, UT     3.8  1001 to 5000 Employees   1939.0   \n",
       "1988    Washington, DC     3.8        10000+ Employees   1996.0   \n",
       "1990  Indianapolis, IN     3.1     51 to 200 Employees   1994.0   \n",
       "\n",
       "                   type_of_ownership                               industry  \\\n",
       "105                 Company - Public                    Aerospace & Defense   \n",
       "110                 Company - Public                            IT Services   \n",
       "160                              NaN                                    NaN   \n",
       "177   Subsidiary or Business Segment                 Staffing & Outsourcing   \n",
       "199                 Company - Public           Computer Hardware & Software   \n",
       "...                              ...                                    ...   \n",
       "1984                Company - Public                                Lending   \n",
       "1985                Company - Public                    Aerospace & Defense   \n",
       "1986          Nonprofit Organization  Investment Banking & Asset Management   \n",
       "1988  Subsidiary or Business Segment                            IT Services   \n",
       "1990               Company - Private                             Consulting   \n",
       "\n",
       "                      sector                     revenue  \n",
       "105      Aerospace & Defense          $10+ billion (USD)  \n",
       "110   Information Technology      $1 to $2 billion (USD)  \n",
       "160                      NaN                         NaN  \n",
       "177        Business Services      $2 to $5 billion (USD)  \n",
       "199   Information Technology          $10+ billion (USD)  \n",
       "...                      ...                         ...  \n",
       "1984                 Finance    Unknown / Non-Applicable  \n",
       "1985     Aerospace & Defense          $10+ billion (USD)  \n",
       "1986                 Finance  $100 to $500 million (USD)  \n",
       "1988  Information Technology          $10+ billion (USD)  \n",
       "1990       Business Services  $100 to $500 million (USD)  \n",
       "\n",
       "[789 rows x 10 columns]"
      ]
     },
     "execution_count": 14,
     "metadata": {},
     "output_type": "execute_result"
    }
   ],
   "source": [
    "# checking for duplicated jobs, none found\n",
    "df[df.duplicated()]"
   ]
  },
  {
   "cell_type": "code",
   "execution_count": 15,
   "metadata": {},
   "outputs": [],
   "source": [
    "# save master df \n",
    "df.to_csv('master', index=False)"
   ]
  },
  {
   "cell_type": "code",
   "execution_count": 16,
   "metadata": {},
   "outputs": [
    {
     "data": {
      "text/html": [
       "<div>\n",
       "<style scoped>\n",
       "    .dataframe tbody tr th:only-of-type {\n",
       "        vertical-align: middle;\n",
       "    }\n",
       "\n",
       "    .dataframe tbody tr th {\n",
       "        vertical-align: top;\n",
       "    }\n",
       "\n",
       "    .dataframe thead th {\n",
       "        text-align: right;\n",
       "    }\n",
       "</style>\n",
       "<table border=\"1\" class=\"dataframe\">\n",
       "  <thead>\n",
       "    <tr style=\"text-align: right;\">\n",
       "      <th></th>\n",
       "      <th>job_title</th>\n",
       "      <th>salary_estimate</th>\n",
       "      <th>location</th>\n",
       "      <th>rating</th>\n",
       "      <th>size</th>\n",
       "      <th>founded</th>\n",
       "      <th>type_of_ownership</th>\n",
       "      <th>industry</th>\n",
       "      <th>sector</th>\n",
       "      <th>revenue</th>\n",
       "    </tr>\n",
       "  </thead>\n",
       "  <tbody>\n",
       "    <tr>\n",
       "      <th>513</th>\n",
       "      <td>Data Analyst</td>\n",
       "      <td>NaN</td>\n",
       "      <td>Texas</td>\n",
       "      <td>3.5</td>\n",
       "      <td>501 to 1000 Employees</td>\n",
       "      <td>2014.0</td>\n",
       "      <td>Company - Private</td>\n",
       "      <td>Enterprise Software &amp; Network Solutions</td>\n",
       "      <td>Information Technology</td>\n",
       "      <td>Unknown / Non-Applicable</td>\n",
       "    </tr>\n",
       "  </tbody>\n",
       "</table>\n",
       "</div>"
      ],
      "text/plain": [
       "        job_title salary_estimate location  rating                   size  \\\n",
       "513  Data Analyst             NaN    Texas     3.5  501 to 1000 Employees   \n",
       "\n",
       "     founded  type_of_ownership                                 industry  \\\n",
       "513   2014.0  Company - Private  Enterprise Software & Network Solutions   \n",
       "\n",
       "                     sector                   revenue  \n",
       "513  Information Technology  Unknown / Non-Applicable  "
      ]
     },
     "execution_count": 16,
     "metadata": {},
     "output_type": "execute_result"
    }
   ],
   "source": [
    "df.sample()"
   ]
  },
  {
   "cell_type": "markdown",
   "metadata": {},
   "source": [
    "# Data Wrangling"
   ]
  },
  {
   "cell_type": "markdown",
   "metadata": {},
   "source": [
    "- Parse `salary_estimate` and change its type\n",
    "- split `location` column into `state` and `city`\n",
    "- drop rows with no salary info \n",
    "- deal with **Unknown / Non-Applicable** values in `revenue` column\n",
    "- replace **Unknown** with NaN in `size` column\n",
    "- deal with duplicate rows\n",
    "- create column for average salary\n",
    "- some entries in `location` need to be cleaned\n",
    "- Drop unnecessary columns\n",
    "- calculate company age\n",
    "- Parse `job_title`\n",
    "- Parse `job_title` to extract seniority level\n"
   ]
  },
  {
   "cell_type": "code",
   "execution_count": 17,
   "metadata": {},
   "outputs": [
    {
     "data": {
      "image/png": "[encoded data removed]",
      "text/plain": [
       "<Figure size 864x576 with 2 Axes>"
      ]
     },
     "metadata": {
      "needs_background": "light"
     },
     "output_type": "display_data"
    }
   ],
   "source": [
    "plt.figure(figsize = (12,8))\n",
    "sns.heatmap(df.notna())\n",
    "plt.show()"
   ]
  },
  {
   "cell_type": "markdown",
   "metadata": {},
   "source": [
    "Most of missing values are in `salary_estimate`"
   ]
  },
  {
   "cell_type": "code",
   "execution_count": 18,
   "metadata": {},
   "outputs": [
    {
     "data": {
      "text/plain": [
       "job_title            0.000000\n",
       "salary_estimate      0.627825\n",
       "location             0.000000\n",
       "rating               0.070819\n",
       "size                 0.000000\n",
       "founded              0.215972\n",
       "type_of_ownership    0.054244\n",
       "industry             0.139628\n",
       "sector               0.137619\n",
       "revenue              0.052235\n",
       "dtype: float64"
      ]
     },
     "execution_count": 18,
     "metadata": {},
     "output_type": "execute_result"
    }
   ],
   "source": [
    "df.isna().mean()"
   ]
  },
  {
   "cell_type": "markdown",
   "metadata": {},
   "source": [
    "around 63 percent of the values in `salary_estimate` are missing "
   ]
  },
  {
   "cell_type": "markdown",
   "metadata": {},
   "source": [
    "## Define"
   ]
  },
  {
   "cell_type": "markdown",
   "metadata": {},
   "source": [
    "Drop rows where salary_estimate is null"
   ]
  },
  {
   "cell_type": "markdown",
   "metadata": {},
   "source": [
    "## Code"
   ]
  },
  {
   "cell_type": "code",
   "execution_count": 19,
   "metadata": {},
   "outputs": [],
   "source": [
    "df.dropna(axis=0, subset=['salary_estimate'], inplace=True)"
   ]
  },
  {
   "cell_type": "markdown",
   "metadata": {},
   "source": [
    "## Test"
   ]
  },
  {
   "cell_type": "code",
   "execution_count": 20,
   "metadata": {},
   "outputs": [
    {
     "data": {
      "text/plain": [
       "job_title            0.000000\n",
       "salary_estimate      0.000000\n",
       "location             0.000000\n",
       "rating               0.052632\n",
       "size                 0.000000\n",
       "founded              0.197031\n",
       "type_of_ownership    0.040486\n",
       "industry             0.116059\n",
       "sector               0.116059\n",
       "revenue              0.040486\n",
       "dtype: float64"
      ]
     },
     "execution_count": 20,
     "metadata": {},
     "output_type": "execute_result"
    }
   ],
   "source": [
    "df.isna().mean()"
   ]
  },
  {
   "cell_type": "code",
   "execution_count": 21,
   "metadata": {},
   "outputs": [
    {
     "data": {
      "text/plain": [
       "(741, 10)"
      ]
     },
     "execution_count": 21,
     "metadata": {},
     "output_type": "execute_result"
    }
   ],
   "source": [
    "df.shape"
   ]
  },
  {
   "cell_type": "markdown",
   "metadata": {},
   "source": [
    "## Define"
   ]
  },
  {
   "cell_type": "markdown",
   "metadata": {},
   "source": [
    "remove 'Unknown / Non-Applicable' from `revenue` column"
   ]
  },
  {
   "cell_type": "markdown",
   "metadata": {},
   "source": [
    "## Code"
   ]
  },
  {
   "cell_type": "code",
   "execution_count": 22,
   "metadata": {},
   "outputs": [],
   "source": [
    "df.revenue.replace('Unknown / Non-Applicable', np.nan, inplace=True)"
   ]
  },
  {
   "cell_type": "markdown",
   "metadata": {},
   "source": [
    "## Test"
   ]
  },
  {
   "cell_type": "code",
   "execution_count": 23,
   "metadata": {},
   "outputs": [
    {
     "data": {
      "text/plain": [
       "$10+ billion (USD)                  136\n",
       "$100 to $500 million (USD)           88\n",
       "$1 to $2 billion (USD)               50\n",
       "$2 to $5 billion (USD)               47\n",
       "$500 million to $1 billion (USD)     38\n",
       "$50 to $100 million (USD)            37\n",
       "$25 to $50 million (USD)             31\n",
       "$5 to $10 billion (USD)              31\n",
       "$10 to $25 million (USD)             26\n",
       "$1 to $5 million (USD)               23\n",
       "$5 to $10 million (USD)              15\n",
       "Less than $1 million (USD)           10\n",
       "Name: revenue, dtype: int64"
      ]
     },
     "execution_count": 23,
     "metadata": {},
     "output_type": "execute_result"
    }
   ],
   "source": [
    "df.revenue.value_counts()"
   ]
  },
  {
   "cell_type": "markdown",
   "metadata": {},
   "source": [
    "## Define"
   ]
  },
  {
   "cell_type": "markdown",
   "metadata": {},
   "source": [
    "Replace **Unknown** with np.nan in `size` column"
   ]
  },
  {
   "cell_type": "markdown",
   "metadata": {},
   "source": [
    "## Code"
   ]
  },
  {
   "cell_type": "code",
   "execution_count": 24,
   "metadata": {},
   "outputs": [],
   "source": [
    "df['size'].replace('Unknown', np.nan, inplace=True)"
   ]
  },
  {
   "cell_type": "markdown",
   "metadata": {},
   "source": [
    "## Test"
   ]
  },
  {
   "cell_type": "code",
   "execution_count": 25,
   "metadata": {},
   "outputs": [
    {
     "data": {
      "text/plain": [
       "10000+ Employees           217\n",
       "1001 to 5000 Employees     139\n",
       "5001 to 10000 Employees     91\n",
       "51 to 200 Employees         70\n",
       "201 to 500 Employees        69\n",
       "501 to 1000 Employees       61\n",
       "1 to 50 Employees           58\n",
       "Name: size, dtype: int64"
      ]
     },
     "execution_count": 25,
     "metadata": {},
     "output_type": "execute_result"
    }
   ],
   "source": [
    "df['size'].value_counts()"
   ]
  },
  {
   "cell_type": "markdown",
   "metadata": {},
   "source": [
    "## Define"
   ]
  },
  {
   "cell_type": "markdown",
   "metadata": {},
   "source": [
    "Parse and clean salary_estimate column"
   ]
  },
  {
   "cell_type": "markdown",
   "metadata": {},
   "source": [
    "## Code"
   ]
  },
  {
   "cell_type": "code",
   "execution_count": 26,
   "metadata": {},
   "outputs": [],
   "source": [
    "df.salary_estimate = df.salary_estimate.apply(lambda x: x.split('(')[0])"
   ]
  },
  {
   "cell_type": "code",
   "execution_count": 27,
   "metadata": {},
   "outputs": [],
   "source": [
    "df.salary_estimate = df.salary_estimate.str.replace('$', '').str.replace('K', '').str.replace('Employer Provided Salary:', '').str.replace(' Per Hour', '')\n"
   ]
  },
  {
   "cell_type": "code",
   "execution_count": 28,
   "metadata": {},
   "outputs": [],
   "source": [
    "df['min_salary'] = df.salary_estimate.apply(lambda x: int(x.split('-')[0]))\n",
    "df['max_salary'] = df.salary_estimate.apply(lambda x: int(x.split('-')[-1]))\n"
   ]
  },
  {
   "cell_type": "markdown",
   "metadata": {},
   "source": [
    "## Test"
   ]
  },
  {
   "cell_type": "code",
   "execution_count": 29,
   "metadata": {},
   "outputs": [
    {
     "data": {
      "text/plain": [
       "1       40 - 74 \n",
       "4       48 - 82 \n",
       "5       65 - 79 \n",
       "6       32 - 57 \n",
       "7       38 - 69 \n",
       "          ...   \n",
       "1983    64 - 80 \n",
       "1984    44 - 79 \n",
       "1985    49 - 55 \n",
       "1986    50 - 59 \n",
       "1987    46 - 75 \n",
       "Name: salary_estimate, Length: 741, dtype: object"
      ]
     },
     "execution_count": 29,
     "metadata": {},
     "output_type": "execute_result"
    }
   ],
   "source": [
    "df.salary_estimate"
   ]
  },
  {
   "cell_type": "code",
   "execution_count": 30,
   "metadata": {},
   "outputs": [
    {
     "data": {
      "text/plain": [
       "60 - 90      11\n",
       "67 - 86       9\n",
       "44 - 79       8\n",
       "35 - 64       7\n",
       "45 - 82       7\n",
       "             ..\n",
       "76 - 87       1\n",
       "53 - 98       1\n",
       "19 - 29       1\n",
       "64 - 117      1\n",
       "24 - 43       1\n",
       "Name: salary_estimate, Length: 400, dtype: int64"
      ]
     },
     "execution_count": 30,
     "metadata": {},
     "output_type": "execute_result"
    }
   ],
   "source": [
    "df.salary_estimate.value_counts()"
   ]
  },
  {
   "cell_type": "code",
   "execution_count": 31,
   "metadata": {},
   "outputs": [
    {
     "data": {
      "text/html": [
       "<div>\n",
       "<style scoped>\n",
       "    .dataframe tbody tr th:only-of-type {\n",
       "        vertical-align: middle;\n",
       "    }\n",
       "\n",
       "    .dataframe tbody tr th {\n",
       "        vertical-align: top;\n",
       "    }\n",
       "\n",
       "    .dataframe thead th {\n",
       "        text-align: right;\n",
       "    }\n",
       "</style>\n",
       "<table border=\"1\" class=\"dataframe\">\n",
       "  <thead>\n",
       "    <tr style=\"text-align: right;\">\n",
       "      <th></th>\n",
       "      <th>job_title</th>\n",
       "      <th>salary_estimate</th>\n",
       "      <th>location</th>\n",
       "      <th>rating</th>\n",
       "      <th>size</th>\n",
       "      <th>founded</th>\n",
       "      <th>type_of_ownership</th>\n",
       "      <th>industry</th>\n",
       "      <th>sector</th>\n",
       "      <th>revenue</th>\n",
       "      <th>min_salary</th>\n",
       "      <th>max_salary</th>\n",
       "    </tr>\n",
       "  </thead>\n",
       "  <tbody>\n",
       "    <tr>\n",
       "      <th>448</th>\n",
       "      <td>Data Research Analyst</td>\n",
       "      <td>38 - 78</td>\n",
       "      <td>Parsippany, NJ</td>\n",
       "      <td>3.9</td>\n",
       "      <td>10000+ Employees</td>\n",
       "      <td>2017.0</td>\n",
       "      <td>Company - Public</td>\n",
       "      <td>Biotech &amp; Pharmaceuticals</td>\n",
       "      <td>Biotech &amp; Pharmaceuticals</td>\n",
       "      <td>$10+ billion (USD)</td>\n",
       "      <td>38</td>\n",
       "      <td>78</td>\n",
       "    </tr>\n",
       "    <tr>\n",
       "      <th>793</th>\n",
       "      <td>Data and Reporting Analyst, Strategic Planning...</td>\n",
       "      <td>45 - 65</td>\n",
       "      <td>Springfield, MA</td>\n",
       "      <td>3.9</td>\n",
       "      <td>5001 to 10000 Employees</td>\n",
       "      <td>1851.0</td>\n",
       "      <td>Company - Private</td>\n",
       "      <td>Insurance Carriers</td>\n",
       "      <td>Insurance</td>\n",
       "      <td>$10+ billion (USD)</td>\n",
       "      <td>45</td>\n",
       "      <td>65</td>\n",
       "    </tr>\n",
       "    <tr>\n",
       "      <th>270</th>\n",
       "      <td>Lead Data Analyst, Tax Information Reporting a...</td>\n",
       "      <td>64 - 113</td>\n",
       "      <td>Fairport, NY</td>\n",
       "      <td>3.9</td>\n",
       "      <td>1001 to 5000 Employees</td>\n",
       "      <td>1985.0</td>\n",
       "      <td>Company - Public</td>\n",
       "      <td>Banks &amp; Credit Unions</td>\n",
       "      <td>Finance</td>\n",
       "      <td>$25 to $50 million (USD)</td>\n",
       "      <td>64</td>\n",
       "      <td>113</td>\n",
       "    </tr>\n",
       "  </tbody>\n",
       "</table>\n",
       "</div>"
      ],
      "text/plain": [
       "                                             job_title salary_estimate  \\\n",
       "448                              Data Research Analyst        38 - 78    \n",
       "793  Data and Reporting Analyst, Strategic Planning...        45 - 65    \n",
       "270  Lead Data Analyst, Tax Information Reporting a...       64 - 113    \n",
       "\n",
       "            location  rating                     size  founded  \\\n",
       "448   Parsippany, NJ     3.9         10000+ Employees   2017.0   \n",
       "793  Springfield, MA     3.9  5001 to 10000 Employees   1851.0   \n",
       "270     Fairport, NY     3.9   1001 to 5000 Employees   1985.0   \n",
       "\n",
       "     type_of_ownership                   industry                     sector  \\\n",
       "448   Company - Public  Biotech & Pharmaceuticals  Biotech & Pharmaceuticals   \n",
       "793  Company - Private         Insurance Carriers                  Insurance   \n",
       "270   Company - Public      Banks & Credit Unions                    Finance   \n",
       "\n",
       "                      revenue  min_salary  max_salary  \n",
       "448        $10+ billion (USD)          38          78  \n",
       "793        $10+ billion (USD)          45          65  \n",
       "270  $25 to $50 million (USD)          64         113  "
      ]
     },
     "execution_count": 31,
     "metadata": {},
     "output_type": "execute_result"
    }
   ],
   "source": [
    "df.sample(3)"
   ]
  },
  {
   "cell_type": "markdown",
   "metadata": {},
   "source": [
    "## Define"
   ]
  },
  {
   "cell_type": "markdown",
   "metadata": {},
   "source": [
    "create new column for average salary"
   ]
  },
  {
   "cell_type": "markdown",
   "metadata": {},
   "source": [
    "## Code"
   ]
  },
  {
   "cell_type": "code",
   "execution_count": 32,
   "metadata": {},
   "outputs": [],
   "source": [
    "df['avg_salary'] = (df.max_salary+df.min_salary)/2"
   ]
  },
  {
   "cell_type": "markdown",
   "metadata": {},
   "source": [
    "## Test"
   ]
  },
  {
   "cell_type": "code",
   "execution_count": 33,
   "metadata": {},
   "outputs": [
    {
     "data": {
      "text/html": [
       "<div>\n",
       "<style scoped>\n",
       "    .dataframe tbody tr th:only-of-type {\n",
       "        vertical-align: middle;\n",
       "    }\n",
       "\n",
       "    .dataframe tbody tr th {\n",
       "        vertical-align: top;\n",
       "    }\n",
       "\n",
       "    .dataframe thead th {\n",
       "        text-align: right;\n",
       "    }\n",
       "</style>\n",
       "<table border=\"1\" class=\"dataframe\">\n",
       "  <thead>\n",
       "    <tr style=\"text-align: right;\">\n",
       "      <th></th>\n",
       "      <th>job_title</th>\n",
       "      <th>salary_estimate</th>\n",
       "      <th>location</th>\n",
       "      <th>rating</th>\n",
       "      <th>size</th>\n",
       "      <th>founded</th>\n",
       "      <th>type_of_ownership</th>\n",
       "      <th>industry</th>\n",
       "      <th>sector</th>\n",
       "      <th>revenue</th>\n",
       "      <th>min_salary</th>\n",
       "      <th>max_salary</th>\n",
       "      <th>avg_salary</th>\n",
       "    </tr>\n",
       "  </thead>\n",
       "  <tbody>\n",
       "    <tr>\n",
       "      <th>1919</th>\n",
       "      <td>Senior Benefits Data Analyst - Compliance</td>\n",
       "      <td>42 - 72</td>\n",
       "      <td>North Canton, OH</td>\n",
       "      <td>3.5</td>\n",
       "      <td>10000+ Employees</td>\n",
       "      <td>1899.0</td>\n",
       "      <td>Company - Public</td>\n",
       "      <td>Industrial Manufacturing</td>\n",
       "      <td>Manufacturing</td>\n",
       "      <td>$2 to $5 billion (USD)</td>\n",
       "      <td>42</td>\n",
       "      <td>72</td>\n",
       "      <td>57.0</td>\n",
       "    </tr>\n",
       "  </tbody>\n",
       "</table>\n",
       "</div>"
      ],
      "text/plain": [
       "                                      job_title salary_estimate  \\\n",
       "1919  Senior Benefits Data Analyst - Compliance        42 - 72    \n",
       "\n",
       "              location  rating              size  founded type_of_ownership  \\\n",
       "1919  North Canton, OH     3.5  10000+ Employees   1899.0  Company - Public   \n",
       "\n",
       "                      industry         sector                 revenue  \\\n",
       "1919  Industrial Manufacturing  Manufacturing  $2 to $5 billion (USD)   \n",
       "\n",
       "      min_salary  max_salary  avg_salary  \n",
       "1919          42          72        57.0  "
      ]
     },
     "execution_count": 33,
     "metadata": {},
     "output_type": "execute_result"
    }
   ],
   "source": [
    "df.sample(1)"
   ]
  },
  {
   "cell_type": "markdown",
   "metadata": {},
   "source": [
    "## Define"
   ]
  },
  {
   "cell_type": "markdown",
   "metadata": {},
   "source": [
    "split location into state and city"
   ]
  },
  {
   "cell_type": "markdown",
   "metadata": {},
   "source": [
    "## Code"
   ]
  },
  {
   "cell_type": "code",
   "execution_count": 34,
   "metadata": {},
   "outputs": [
    {
     "name": "stdout",
     "output_type": "stream",
     "text": [
      "New York, NY\n",
      "Chicago, IL\n",
      "Washington, DC\n",
      "Atlanta, GA\n",
      "Boston, MA\n",
      "Austin, TX\n",
      "Dallas, TX\n",
      "Philadelphia, PA\n",
      "San Francisco, CA\n",
      "Arlington, VA\n",
      "Indianapolis, IN\n",
      "Nashville, TN\n",
      "Remote\n",
      "Jersey City, NJ\n",
      "Seattle, WA\n",
      "Tampa, FL\n",
      "Richmond, VA\n",
      "McLean, VA\n",
      "United States\n",
      "Minneapolis, MN\n",
      "Houston, TX\n",
      "San Diego, CA\n",
      "Denver, CO\n",
      "Waltham, MA\n",
      "Los Angeles, CA\n",
      "Saint Louis, MO\n",
      "Birmingham, AL\n",
      "Miami Lakes, FL\n",
      "Stanford, CA\n",
      "Englewood, CO\n",
      "Phoenix, AZ\n",
      "East Boston, MA\n",
      "Roy, UT\n",
      "Herndon, VA\n",
      "Mountain View, CA\n",
      "Scottsdale, AZ\n",
      "Charlotte, NC\n",
      "Ogden, UT\n",
      "Quincy, MA\n",
      "Tempe, AZ\n",
      "Palo Alto, CA\n",
      "Woodbury, MN\n",
      "Santa Cruz, CA\n",
      "Bethesda, MD\n",
      "Fremont, CA\n",
      "Norfolk, VA\n",
      "Northbrook, IL\n",
      "Naples, FL\n",
      "Bronx, NY\n",
      "Danville, KY\n",
      "Jacksonville, FL\n",
      "Woburn, MA\n",
      "Brooklyn, NY\n",
      "Pleasant Prairie, WI\n",
      "Pasadena, CA\n",
      "Wilmington, DE\n",
      "College Station, TX\n",
      "Bellevue, WA\n",
      "Baltimore, MD\n",
      "Malden, MA\n",
      "Huntsville, AL\n",
      "Queens Village, NY\n",
      "Sacramento, CA\n",
      "Parsippany, NJ\n",
      "Bloomington, MN\n",
      "Ashburn, VA\n",
      "Glendale, AZ\n",
      "Anchorage, AK\n",
      "West Palm Beach, FL\n",
      "Pleasanton, CA\n",
      "Cincinnati, OH\n",
      "Albany, NY\n",
      "Warrenton, VA\n",
      "Fort Lauderdale, FL\n",
      "New Haven, CT\n",
      "Beaverton, OR\n",
      "Honolulu, HI\n",
      "Santa Barbara, CA\n",
      "Irving, TX\n",
      "Madison, WI\n",
      "Brentwood, TN\n",
      "San Bernardino, CA\n",
      "Ankeny, IA\n",
      "Bridgeton, MO\n",
      "Coral Gables, FL\n",
      "San Antonio, TX\n",
      "Durham, NC\n",
      "San Jose, CA\n",
      "Leander, TX\n",
      "Dallas, OR\n",
      "Cambridge, MA\n",
      "Omaha, NE\n",
      "Lisle, IL\n",
      "Wellesley, MA\n",
      "Oklahoma City, OK\n",
      "Springfield, VA\n",
      "Falls Church, VA\n",
      "South Plainfield, NJ\n",
      "Laramie, WY\n",
      "Liverpool, NY\n",
      "Florham Park, NJ\n",
      "Milwaukee, WI\n",
      "Quantico, VA\n",
      "Flint, MI\n",
      "North Canton, OH\n",
      "Medford, MA\n",
      "Miami, FL\n",
      "Detroit, MI\n",
      "Urbandale, IA\n",
      "Springfield, MA\n",
      "Livingston, NJ\n",
      "Memphis, TN\n",
      "Carmel, IN\n",
      "Kansas City, MO\n",
      "St Louis Park\n",
      "Garden Grove, CA\n",
      "Loveland, CO\n",
      "Durant, OK\n",
      "Salt Lake City, UT\n",
      "Riverwoods, IL\n",
      "Oakland, CA\n",
      "Waterbury, VT\n",
      "Vienna, VA\n",
      "Plano, TX\n",
      "Portsmouth, NH\n",
      "Highland, CA\n",
      "Arkadelphia, AR\n",
      "Evansville, IN\n",
      "Rancho Cucamonga, CA\n",
      "Wilton, CT\n",
      "Texas City, TX\n",
      "Columbia, MO\n",
      "Provo, UT\n",
      "Bowie, MD\n",
      "Bozeman, MT\n",
      "Burlingame, CA\n",
      "Portland, ME\n",
      "Rosemont, IL\n",
      "Altamonte Springs, FL\n",
      "San Marcos, TX\n",
      "Dublin, CA\n",
      "Laurel, MD\n",
      "Culver City, CA\n",
      "West Valley City, UT\n",
      "Wayne, PA\n",
      "Princeton, NJ\n",
      "Hartford, CT\n",
      "Tallahassee, FL\n",
      "Eugene, OR\n",
      "Palm Beach Gardens, FL\n",
      "Roanoke, VA\n",
      "Industry, CA\n",
      "Boulder, CO\n",
      "Tigard, OR\n",
      "Portland, OR\n",
      "King of Prussia, PA\n",
      "Worthington, OH\n",
      "Eden Prairie, MN\n",
      "Chapel Hill, NC\n",
      "Alameda, CA\n",
      "Chaska, MN\n",
      "Raleigh, NC\n",
      "Greenville, SC\n",
      "Reno, NV\n",
      "Ames, IA\n",
      "Carson, CA\n",
      "Saddle Brook, NJ\n",
      "Newport News, VA\n",
      "Center Valley, PA\n",
      "Lakewood, OH\n",
      "Newark, NJ\n",
      "Erie, PA\n",
      "Ft Carson, CO\n",
      "Perris, CA\n",
      "Tulsa, OK\n",
      "Saint Petersburg, FL\n",
      "Rockville, MD\n",
      "Wake Forest, NC\n",
      "Golden, CO\n",
      "Troy, OH\n",
      "Arlington Heights, IL\n",
      "Virginia\n",
      "Deerfield, IL\n",
      "Harrisburg, PA\n",
      "Grand Rapids, MI\n",
      "Rochester, MN\n",
      "Bloomfield, NJ\n",
      "Santa Monica, CA\n",
      "Garden City, NY\n",
      "Las Vegas, NV\n",
      "Orlando, FL\n",
      "Somerset, NJ\n",
      "Brea, CA\n",
      "Plymouth, MI\n",
      "Fort Worth, TX\n",
      "Victorville, CA\n",
      "Winchester, VA\n",
      "Sheldonville, MA\n",
      "Greensboro, NC\n",
      "Fort Wayne, IN\n",
      "Reading, PA\n",
      "Oklahoma\n",
      "Ladera Ranch, CA\n",
      "California, MD\n",
      "Brooklyn Heights, Cuyahoga, OH\n",
      "Largo, FL\n",
      "Minnetonka, MN\n",
      "Carlsbad, CA\n",
      "Solon, OH\n",
      "Louisville, KY\n",
      "New Britain, CT\n",
      "Gilbert, AZ\n",
      "Colmar, PA\n",
      "Rolling Meadows, IL\n",
      "Long Beach, CA\n",
      "Virginia Beach, VA\n",
      "Sycamore, IL\n",
      "Vernon, CA\n",
      "Roswell, GA\n",
      "Normal, IL\n",
      "Irvine, CA\n",
      "Columbus, IN\n",
      "Chico, CA\n",
      "Lafayette, IN\n",
      "Bala Cynwyd, PA\n",
      "Westminster, CO\n",
      "Grand Prairie, TX\n",
      "Mount Laurel, NJ\n",
      "Westlake Village, Los Angeles, CA\n",
      "Stamford, CT\n",
      "Santa Clara, CA\n",
      "Pittsburgh, PA\n",
      "Lancaster, PA\n",
      "Colorado Springs, CO\n",
      "Gainesville, GA\n",
      "Stevens Point, WI\n",
      "Clarksburg, WV\n",
      "Mundelein, IL\n",
      "Redwood City, CA\n",
      "Greenwood Village, CO\n",
      "Glendale, CA\n",
      "Hayward, CA\n",
      "Alexandria, VA\n",
      "Colchester, VT\n",
      "Costa Mesa, CA\n",
      "Eureka, CA\n",
      "Sellersville, PA\n",
      "Covington, KY\n",
      "Lowell, MA\n",
      "Peabody, MA\n",
      "Richardson, TX\n",
      "Mahwah, NJ\n",
      "Lenexa, KS\n",
      "Fairport, NY\n",
      "Lake Mary, FL\n",
      "Ann Arbor, MI\n",
      "Bonita Springs, FL\n",
      "Plymouth, MN\n"
     ]
    }
   ],
   "source": [
    "for place in df.location.value_counts().index:\n",
    "    print(place)"
   ]
  },
  {
   "cell_type": "code",
   "execution_count": 35,
   "metadata": {},
   "outputs": [
    {
     "data": {
      "text/html": [
       "<div>\n",
       "<style scoped>\n",
       "    .dataframe tbody tr th:only-of-type {\n",
       "        vertical-align: middle;\n",
       "    }\n",
       "\n",
       "    .dataframe tbody tr th {\n",
       "        vertical-align: top;\n",
       "    }\n",
       "\n",
       "    .dataframe thead th {\n",
       "        text-align: right;\n",
       "    }\n",
       "</style>\n",
       "<table border=\"1\" class=\"dataframe\">\n",
       "  <thead>\n",
       "    <tr style=\"text-align: right;\">\n",
       "      <th></th>\n",
       "      <th>job_title</th>\n",
       "      <th>salary_estimate</th>\n",
       "      <th>location</th>\n",
       "      <th>rating</th>\n",
       "      <th>size</th>\n",
       "      <th>founded</th>\n",
       "      <th>type_of_ownership</th>\n",
       "      <th>industry</th>\n",
       "      <th>sector</th>\n",
       "      <th>revenue</th>\n",
       "      <th>min_salary</th>\n",
       "      <th>max_salary</th>\n",
       "      <th>avg_salary</th>\n",
       "    </tr>\n",
       "  </thead>\n",
       "  <tbody>\n",
       "    <tr>\n",
       "      <th>571</th>\n",
       "      <td>Data Analyst II</td>\n",
       "      <td>61 - 103</td>\n",
       "      <td>St Louis Park</td>\n",
       "      <td>3.5</td>\n",
       "      <td>1001 to 5000 Employees</td>\n",
       "      <td>1940.0</td>\n",
       "      <td>Company - Public</td>\n",
       "      <td>Financial Transaction Processing</td>\n",
       "      <td>Finance</td>\n",
       "      <td>$1 to $2 billion (USD)</td>\n",
       "      <td>61</td>\n",
       "      <td>103</td>\n",
       "      <td>82.0</td>\n",
       "    </tr>\n",
       "    <tr>\n",
       "      <th>577</th>\n",
       "      <td>Data Analyst II</td>\n",
       "      <td>61 - 103</td>\n",
       "      <td>St Louis Park</td>\n",
       "      <td>3.5</td>\n",
       "      <td>1001 to 5000 Employees</td>\n",
       "      <td>1940.0</td>\n",
       "      <td>Company - Public</td>\n",
       "      <td>Financial Transaction Processing</td>\n",
       "      <td>Finance</td>\n",
       "      <td>$1 to $2 billion (USD)</td>\n",
       "      <td>61</td>\n",
       "      <td>103</td>\n",
       "      <td>82.0</td>\n",
       "    </tr>\n",
       "  </tbody>\n",
       "</table>\n",
       "</div>"
      ],
      "text/plain": [
       "           job_title salary_estimate       location  rating  \\\n",
       "571  Data Analyst II       61 - 103   St Louis Park     3.5   \n",
       "577  Data Analyst II       61 - 103   St Louis Park     3.5   \n",
       "\n",
       "                       size  founded type_of_ownership  \\\n",
       "571  1001 to 5000 Employees   1940.0  Company - Public   \n",
       "577  1001 to 5000 Employees   1940.0  Company - Public   \n",
       "\n",
       "                             industry   sector                 revenue  \\\n",
       "571  Financial Transaction Processing  Finance  $1 to $2 billion (USD)   \n",
       "577  Financial Transaction Processing  Finance  $1 to $2 billion (USD)   \n",
       "\n",
       "     min_salary  max_salary  avg_salary  \n",
       "571          61         103        82.0  \n",
       "577          61         103        82.0  "
      ]
     },
     "execution_count": 35,
     "metadata": {},
     "output_type": "execute_result"
    }
   ],
   "source": [
    "df[df.location == 'St Louis Park']"
   ]
  },
  {
   "cell_type": "code",
   "execution_count": 36,
   "metadata": {},
   "outputs": [],
   "source": [
    "df['city'] = df.location.apply(lambda x: x.split(',')[0])"
   ]
  },
  {
   "cell_type": "code",
   "execution_count": 37,
   "metadata": {},
   "outputs": [],
   "source": [
    "df['state'] = df.location.apply(lambda x: x.split(',')[-1])"
   ]
  },
  {
   "cell_type": "markdown",
   "metadata": {},
   "source": [
    "## Test"
   ]
  },
  {
   "cell_type": "code",
   "execution_count": 38,
   "metadata": {},
   "outputs": [
    {
     "data": {
      "text/html": [
       "<div>\n",
       "<style scoped>\n",
       "    .dataframe tbody tr th:only-of-type {\n",
       "        vertical-align: middle;\n",
       "    }\n",
       "\n",
       "    .dataframe tbody tr th {\n",
       "        vertical-align: top;\n",
       "    }\n",
       "\n",
       "    .dataframe thead th {\n",
       "        text-align: right;\n",
       "    }\n",
       "</style>\n",
       "<table border=\"1\" class=\"dataframe\">\n",
       "  <thead>\n",
       "    <tr style=\"text-align: right;\">\n",
       "      <th></th>\n",
       "      <th>job_title</th>\n",
       "      <th>salary_estimate</th>\n",
       "      <th>location</th>\n",
       "      <th>rating</th>\n",
       "      <th>size</th>\n",
       "      <th>founded</th>\n",
       "      <th>type_of_ownership</th>\n",
       "      <th>industry</th>\n",
       "      <th>sector</th>\n",
       "      <th>revenue</th>\n",
       "      <th>min_salary</th>\n",
       "      <th>max_salary</th>\n",
       "      <th>avg_salary</th>\n",
       "      <th>city</th>\n",
       "      <th>state</th>\n",
       "    </tr>\n",
       "  </thead>\n",
       "  <tbody>\n",
       "    <tr>\n",
       "      <th>638</th>\n",
       "      <td>Sales Data Analyst ( Strong excel)</td>\n",
       "      <td>48 - 67</td>\n",
       "      <td>Wilmington, DE</td>\n",
       "      <td>4.4</td>\n",
       "      <td>1 to 50 Employees</td>\n",
       "      <td>2003.0</td>\n",
       "      <td>Company - Private</td>\n",
       "      <td>Staffing &amp; Outsourcing</td>\n",
       "      <td>Business Services</td>\n",
       "      <td>$1 to $5 million (USD)</td>\n",
       "      <td>48</td>\n",
       "      <td>67</td>\n",
       "      <td>57.5</td>\n",
       "      <td>Wilmington</td>\n",
       "      <td>DE</td>\n",
       "    </tr>\n",
       "    <tr>\n",
       "      <th>427</th>\n",
       "      <td>DATA ANALYST (TEMPORARY)</td>\n",
       "      <td>48 - 84</td>\n",
       "      <td>Seattle, WA</td>\n",
       "      <td>4.3</td>\n",
       "      <td>10000+ Employees</td>\n",
       "      <td>1861.0</td>\n",
       "      <td>College / University</td>\n",
       "      <td>Colleges &amp; Universities</td>\n",
       "      <td>Education</td>\n",
       "      <td>$2 to $5 billion (USD)</td>\n",
       "      <td>48</td>\n",
       "      <td>84</td>\n",
       "      <td>66.0</td>\n",
       "      <td>Seattle</td>\n",
       "      <td>WA</td>\n",
       "    </tr>\n",
       "    <tr>\n",
       "      <th>797</th>\n",
       "      <td>Data Analyst (Retail Energy)</td>\n",
       "      <td>32 - 59</td>\n",
       "      <td>Dallas, TX</td>\n",
       "      <td>4.4</td>\n",
       "      <td>1 to 50 Employees</td>\n",
       "      <td>2009.0</td>\n",
       "      <td>Company - Private</td>\n",
       "      <td>Energy</td>\n",
       "      <td>Oil, Gas, Energy &amp; Utilities</td>\n",
       "      <td>NaN</td>\n",
       "      <td>32</td>\n",
       "      <td>59</td>\n",
       "      <td>45.5</td>\n",
       "      <td>Dallas</td>\n",
       "      <td>TX</td>\n",
       "    </tr>\n",
       "    <tr>\n",
       "      <th>413</th>\n",
       "      <td>Grants Manager/Data Analyst</td>\n",
       "      <td>106 - 137</td>\n",
       "      <td>Charlotte, NC</td>\n",
       "      <td>1.0</td>\n",
       "      <td>1 to 50 Employees</td>\n",
       "      <td>NaN</td>\n",
       "      <td>Company - Private</td>\n",
       "      <td>NaN</td>\n",
       "      <td>NaN</td>\n",
       "      <td>$1 to $5 million (USD)</td>\n",
       "      <td>106</td>\n",
       "      <td>137</td>\n",
       "      <td>121.5</td>\n",
       "      <td>Charlotte</td>\n",
       "      <td>NC</td>\n",
       "    </tr>\n",
       "    <tr>\n",
       "      <th>426</th>\n",
       "      <td>SHE Data &amp; Analytics Analyst</td>\n",
       "      <td>50 - 86</td>\n",
       "      <td>Loveland, CO</td>\n",
       "      <td>4.0</td>\n",
       "      <td>10000+ Employees</td>\n",
       "      <td>2018.0</td>\n",
       "      <td>Company - Public</td>\n",
       "      <td>Farm Support Services</td>\n",
       "      <td>Agriculture &amp; Forestry</td>\n",
       "      <td>$5 to $10 billion (USD)</td>\n",
       "      <td>50</td>\n",
       "      <td>86</td>\n",
       "      <td>68.0</td>\n",
       "      <td>Loveland</td>\n",
       "      <td>CO</td>\n",
       "    </tr>\n",
       "    <tr>\n",
       "      <th>963</th>\n",
       "      <td>Junior Data Analyst</td>\n",
       "      <td>45 - 70</td>\n",
       "      <td>Greenwood Village, CO</td>\n",
       "      <td>3.6</td>\n",
       "      <td>201 to 500 Employees</td>\n",
       "      <td>NaN</td>\n",
       "      <td>Company - Private</td>\n",
       "      <td>Health Care Services &amp; Hospitals</td>\n",
       "      <td>Health Care</td>\n",
       "      <td>$5 to $10 million (USD)</td>\n",
       "      <td>45</td>\n",
       "      <td>70</td>\n",
       "      <td>57.5</td>\n",
       "      <td>Greenwood Village</td>\n",
       "      <td>CO</td>\n",
       "    </tr>\n",
       "    <tr>\n",
       "      <th>615</th>\n",
       "      <td>Data Analyst Supporting the FBI</td>\n",
       "      <td>51 - 53</td>\n",
       "      <td>Washington, DC</td>\n",
       "      <td>3.5</td>\n",
       "      <td>1001 to 5000 Employees</td>\n",
       "      <td>2004.0</td>\n",
       "      <td>Company - Private</td>\n",
       "      <td>Staffing &amp; Outsourcing</td>\n",
       "      <td>Business Services</td>\n",
       "      <td>$50 to $100 million (USD)</td>\n",
       "      <td>51</td>\n",
       "      <td>53</td>\n",
       "      <td>52.0</td>\n",
       "      <td>Washington</td>\n",
       "      <td>DC</td>\n",
       "    </tr>\n",
       "    <tr>\n",
       "      <th>1943</th>\n",
       "      <td>E-commerce Data Analyst</td>\n",
       "      <td>44 - 79</td>\n",
       "      <td>Chicago, IL</td>\n",
       "      <td>3.6</td>\n",
       "      <td>10000+ Employees</td>\n",
       "      <td>1912.0</td>\n",
       "      <td>Company - Public</td>\n",
       "      <td>Lending</td>\n",
       "      <td>Finance</td>\n",
       "      <td>NaN</td>\n",
       "      <td>44</td>\n",
       "      <td>79</td>\n",
       "      <td>61.5</td>\n",
       "      <td>Chicago</td>\n",
       "      <td>IL</td>\n",
       "    </tr>\n",
       "    <tr>\n",
       "      <th>717</th>\n",
       "      <td>Data Integrity Analyst</td>\n",
       "      <td>41 - 77</td>\n",
       "      <td>Jersey City, NJ</td>\n",
       "      <td>3.5</td>\n",
       "      <td>1 to 50 Employees</td>\n",
       "      <td>1919.0</td>\n",
       "      <td>Company - Private</td>\n",
       "      <td>Health Care Products Manufacturing</td>\n",
       "      <td>Manufacturing</td>\n",
       "      <td>$25 to $50 million (USD)</td>\n",
       "      <td>41</td>\n",
       "      <td>77</td>\n",
       "      <td>59.0</td>\n",
       "      <td>Jersey City</td>\n",
       "      <td>NJ</td>\n",
       "    </tr>\n",
       "    <tr>\n",
       "      <th>1900</th>\n",
       "      <td>Data Analyst</td>\n",
       "      <td>24 - 24</td>\n",
       "      <td>Perris, CA</td>\n",
       "      <td>2.8</td>\n",
       "      <td>501 to 1000 Employees</td>\n",
       "      <td>1971.0</td>\n",
       "      <td>Company - Private</td>\n",
       "      <td>General Merchandise &amp; Superstores</td>\n",
       "      <td>Retail</td>\n",
       "      <td>NaN</td>\n",
       "      <td>24</td>\n",
       "      <td>24</td>\n",
       "      <td>24.0</td>\n",
       "      <td>Perris</td>\n",
       "      <td>CA</td>\n",
       "    </tr>\n",
       "  </tbody>\n",
       "</table>\n",
       "</div>"
      ],
      "text/plain": [
       "                               job_title salary_estimate  \\\n",
       "638   Sales Data Analyst ( Strong excel)        48 - 67    \n",
       "427             DATA ANALYST (TEMPORARY)        48 - 84    \n",
       "797         Data Analyst (Retail Energy)        32 - 59    \n",
       "413          Grants Manager/Data Analyst      106 - 137    \n",
       "426         SHE Data & Analytics Analyst        50 - 86    \n",
       "963                  Junior Data Analyst         45 - 70   \n",
       "615      Data Analyst Supporting the FBI        51 - 53    \n",
       "1943             E-commerce Data Analyst        44 - 79    \n",
       "717               Data Integrity Analyst        41 - 77    \n",
       "1900                        Data Analyst        24 - 24    \n",
       "\n",
       "                   location  rating                    size  founded  \\\n",
       "638          Wilmington, DE     4.4       1 to 50 Employees   2003.0   \n",
       "427             Seattle, WA     4.3        10000+ Employees   1861.0   \n",
       "797              Dallas, TX     4.4       1 to 50 Employees   2009.0   \n",
       "413           Charlotte, NC     1.0       1 to 50 Employees      NaN   \n",
       "426            Loveland, CO     4.0        10000+ Employees   2018.0   \n",
       "963   Greenwood Village, CO     3.6    201 to 500 Employees      NaN   \n",
       "615          Washington, DC     3.5  1001 to 5000 Employees   2004.0   \n",
       "1943            Chicago, IL     3.6        10000+ Employees   1912.0   \n",
       "717         Jersey City, NJ     3.5       1 to 50 Employees   1919.0   \n",
       "1900             Perris, CA     2.8   501 to 1000 Employees   1971.0   \n",
       "\n",
       "         type_of_ownership                            industry  \\\n",
       "638      Company - Private              Staffing & Outsourcing   \n",
       "427   College / University             Colleges & Universities   \n",
       "797      Company - Private                              Energy   \n",
       "413      Company - Private                                 NaN   \n",
       "426       Company - Public               Farm Support Services   \n",
       "963      Company - Private    Health Care Services & Hospitals   \n",
       "615      Company - Private              Staffing & Outsourcing   \n",
       "1943      Company - Public                             Lending   \n",
       "717      Company - Private  Health Care Products Manufacturing   \n",
       "1900     Company - Private   General Merchandise & Superstores   \n",
       "\n",
       "                            sector                    revenue  min_salary  \\\n",
       "638              Business Services     $1 to $5 million (USD)          48   \n",
       "427                      Education     $2 to $5 billion (USD)          48   \n",
       "797   Oil, Gas, Energy & Utilities                        NaN          32   \n",
       "413                            NaN     $1 to $5 million (USD)         106   \n",
       "426         Agriculture & Forestry    $5 to $10 billion (USD)          50   \n",
       "963                    Health Care    $5 to $10 million (USD)          45   \n",
       "615              Business Services  $50 to $100 million (USD)          51   \n",
       "1943                       Finance                        NaN          44   \n",
       "717                  Manufacturing   $25 to $50 million (USD)          41   \n",
       "1900                        Retail                        NaN          24   \n",
       "\n",
       "      max_salary  avg_salary               city state  \n",
       "638           67        57.5         Wilmington    DE  \n",
       "427           84        66.0            Seattle    WA  \n",
       "797           59        45.5             Dallas    TX  \n",
       "413          137       121.5          Charlotte    NC  \n",
       "426           86        68.0           Loveland    CO  \n",
       "963           70        57.5  Greenwood Village    CO  \n",
       "615           53        52.0         Washington    DC  \n",
       "1943          79        61.5            Chicago    IL  \n",
       "717           77        59.0        Jersey City    NJ  \n",
       "1900          24        24.0             Perris    CA  "
      ]
     },
     "execution_count": 38,
     "metadata": {},
     "output_type": "execute_result"
    }
   ],
   "source": [
    "df.sample(10)"
   ]
  },
  {
   "cell_type": "code",
   "execution_count": 39,
   "metadata": {},
   "outputs": [
    {
     "data": {
      "text/plain": [
       " CA              87\n",
       " NY              74\n",
       " IL              53\n",
       " TX              52\n",
       " MA              49\n",
       " VA              48\n",
       " DC              37\n",
       " FL              35\n",
       " NJ              23\n",
       " PA              21\n",
       " GA              21\n",
       " CO              19\n",
       " MN              19\n",
       " AZ              17\n",
       " IN              15\n",
       " TN              12\n",
       " UT              12\n",
       " MD              11\n",
       " WA              10\n",
       " MO              10\n",
       " NC              10\n",
       " OH               9\n",
       " WI               8\n",
       " AL               8\n",
       "Remote            8\n",
       "United States     7\n",
       " CT               7\n",
       " MI               7\n",
       " OR               7\n",
       " KY               5\n",
       " IA               5\n",
       " OK               5\n",
       " AK               3\n",
       " DE               3\n",
       " VT               3\n",
       " NE               2\n",
       "St Louis Park     2\n",
       " AR               2\n",
       " HI               2\n",
       " WY               2\n",
       " NV               2\n",
       " NH               2\n",
       "Virginia          1\n",
       " ME               1\n",
       " WV               1\n",
       "Oklahoma          1\n",
       " KS               1\n",
       " MT               1\n",
       " SC               1\n",
       "Name: state, dtype: int64"
      ]
     },
     "execution_count": 39,
     "metadata": {},
     "output_type": "execute_result"
    }
   ],
   "source": [
    "df.state.value_counts()"
   ]
  },
  {
   "cell_type": "code",
   "execution_count": 40,
   "metadata": {},
   "outputs": [],
   "source": [
    "df.state.replace('Remote', np.nan, inplace=True)\n",
    "df.state.replace('United States', np.nan, inplace=True)\n",
    "df.state.replace('Oklahoma', 'OK', inplace=True)\n",
    "df.state.replace('Virginia', 'VA', inplace=True)"
   ]
  },
  {
   "cell_type": "code",
   "execution_count": 41,
   "metadata": {},
   "outputs": [
    {
     "data": {
      "text/plain": [
       " CA              87\n",
       " NY              74\n",
       " IL              53\n",
       " TX              52\n",
       " MA              49\n",
       " VA              48\n",
       " DC              37\n",
       " FL              35\n",
       " NJ              23\n",
       " PA              21\n",
       " GA              21\n",
       " MN              19\n",
       " CO              19\n",
       " AZ              17\n",
       " IN              15\n",
       " UT              12\n",
       " TN              12\n",
       " MD              11\n",
       " MO              10\n",
       " NC              10\n",
       " WA              10\n",
       " OH               9\n",
       " AL               8\n",
       " WI               8\n",
       " OR               7\n",
       " CT               7\n",
       " MI               7\n",
       " IA               5\n",
       " OK               5\n",
       " KY               5\n",
       " DE               3\n",
       " VT               3\n",
       " AK               3\n",
       " WY               2\n",
       "St Louis Park     2\n",
       " AR               2\n",
       " HI               2\n",
       " NV               2\n",
       " NH               2\n",
       " NE               2\n",
       " ME               1\n",
       " KS               1\n",
       " WV               1\n",
       "VA                1\n",
       " SC               1\n",
       " MT               1\n",
       "OK                1\n",
       "Name: state, dtype: int64"
      ]
     },
     "execution_count": 41,
     "metadata": {},
     "output_type": "execute_result"
    }
   ],
   "source": [
    "df.state.value_counts()"
   ]
  },
  {
   "cell_type": "code",
   "execution_count": 42,
   "metadata": {},
   "outputs": [],
   "source": [
    "# St Louis Park is in Minnesota\n",
    "df.state.replace('St Louis Park','MN', inplace=True)"
   ]
  },
  {
   "cell_type": "code",
   "execution_count": 43,
   "metadata": {},
   "outputs": [],
   "source": [
    "# stripping spaces away in state column\n",
    "df.state = df.state.str.strip()"
   ]
  },
  {
   "cell_type": "code",
   "execution_count": 44,
   "metadata": {},
   "outputs": [
    {
     "data": {
      "text/plain": [
       "CA    87\n",
       "NY    74\n",
       "IL    53\n",
       "TX    52\n",
       "MA    49\n",
       "VA    49\n",
       "DC    37\n",
       "FL    35\n",
       "NJ    23\n",
       "GA    21\n",
       "MN    21\n",
       "PA    21\n",
       "CO    19\n",
       "AZ    17\n",
       "IN    15\n",
       "UT    12\n",
       "TN    12\n",
       "MD    11\n",
       "WA    10\n",
       "MO    10\n",
       "NC    10\n",
       "OH     9\n",
       "AL     8\n",
       "WI     8\n",
       "OR     7\n",
       "CT     7\n",
       "MI     7\n",
       "OK     6\n",
       "IA     5\n",
       "KY     5\n",
       "DE     3\n",
       "VT     3\n",
       "AK     3\n",
       "NH     2\n",
       "HI     2\n",
       "WY     2\n",
       "AR     2\n",
       "NV     2\n",
       "NE     2\n",
       "MT     1\n",
       "ME     1\n",
       "WV     1\n",
       "SC     1\n",
       "KS     1\n",
       "Name: state, dtype: int64"
      ]
     },
     "execution_count": 44,
     "metadata": {},
     "output_type": "execute_result"
    }
   ],
   "source": [
    "df.state.value_counts()"
   ]
  },
  {
   "cell_type": "markdown",
   "metadata": {},
   "source": [
    "## Define"
   ]
  },
  {
   "cell_type": "markdown",
   "metadata": {},
   "source": [
    "calculate company age from `founded`"
   ]
  },
  {
   "cell_type": "markdown",
   "metadata": {},
   "source": [
    "## Code"
   ]
  },
  {
   "cell_type": "code",
   "execution_count": 45,
   "metadata": {},
   "outputs": [],
   "source": [
    "df['company_age'] = 2020 - df.founded"
   ]
  },
  {
   "cell_type": "markdown",
   "metadata": {},
   "source": [
    "## Test"
   ]
  },
  {
   "cell_type": "code",
   "execution_count": 46,
   "metadata": {},
   "outputs": [
    {
     "data": {
      "text/html": [
       "<div>\n",
       "<style scoped>\n",
       "    .dataframe tbody tr th:only-of-type {\n",
       "        vertical-align: middle;\n",
       "    }\n",
       "\n",
       "    .dataframe tbody tr th {\n",
       "        vertical-align: top;\n",
       "    }\n",
       "\n",
       "    .dataframe thead th {\n",
       "        text-align: right;\n",
       "    }\n",
       "</style>\n",
       "<table border=\"1\" class=\"dataframe\">\n",
       "  <thead>\n",
       "    <tr style=\"text-align: right;\">\n",
       "      <th></th>\n",
       "      <th>job_title</th>\n",
       "      <th>salary_estimate</th>\n",
       "      <th>location</th>\n",
       "      <th>rating</th>\n",
       "      <th>size</th>\n",
       "      <th>founded</th>\n",
       "      <th>type_of_ownership</th>\n",
       "      <th>industry</th>\n",
       "      <th>sector</th>\n",
       "      <th>revenue</th>\n",
       "      <th>min_salary</th>\n",
       "      <th>max_salary</th>\n",
       "      <th>avg_salary</th>\n",
       "      <th>city</th>\n",
       "      <th>state</th>\n",
       "      <th>company_age</th>\n",
       "    </tr>\n",
       "  </thead>\n",
       "  <tbody>\n",
       "    <tr>\n",
       "      <th>1</th>\n",
       "      <td>Data/Reporting Analyst</td>\n",
       "      <td>40 - 74</td>\n",
       "      <td>Miami Lakes, FL</td>\n",
       "      <td>3.1</td>\n",
       "      <td>1001 to 5000 Employees</td>\n",
       "      <td>2009.0</td>\n",
       "      <td>Company - Public</td>\n",
       "      <td>Banks &amp; Credit Unions</td>\n",
       "      <td>Finance</td>\n",
       "      <td>$10+ billion (USD)</td>\n",
       "      <td>40</td>\n",
       "      <td>74</td>\n",
       "      <td>57.0</td>\n",
       "      <td>Miami Lakes</td>\n",
       "      <td>FL</td>\n",
       "      <td>11.0</td>\n",
       "    </tr>\n",
       "    <tr>\n",
       "      <th>4</th>\n",
       "      <td>Lead Data Analyst</td>\n",
       "      <td>48 - 82</td>\n",
       "      <td>Harrisburg, PA</td>\n",
       "      <td>3.1</td>\n",
       "      <td>1001 to 5000 Employees</td>\n",
       "      <td>1963.0</td>\n",
       "      <td>Nonprofit Organization</td>\n",
       "      <td>Lending</td>\n",
       "      <td>Finance</td>\n",
       "      <td>$500 million to $1 billion (USD)</td>\n",
       "      <td>48</td>\n",
       "      <td>82</td>\n",
       "      <td>65.0</td>\n",
       "      <td>Harrisburg</td>\n",
       "      <td>PA</td>\n",
       "      <td>57.0</td>\n",
       "    </tr>\n",
       "    <tr>\n",
       "      <th>5</th>\n",
       "      <td>Supply Chain Data Analyst</td>\n",
       "      <td>65 - 79</td>\n",
       "      <td>Pleasant Prairie, WI</td>\n",
       "      <td>3.6</td>\n",
       "      <td>5001 to 10000 Employees</td>\n",
       "      <td>1980.0</td>\n",
       "      <td>Company - Private</td>\n",
       "      <td>Industrial Manufacturing</td>\n",
       "      <td>Manufacturing</td>\n",
       "      <td>NaN</td>\n",
       "      <td>65</td>\n",
       "      <td>79</td>\n",
       "      <td>72.0</td>\n",
       "      <td>Pleasant Prairie</td>\n",
       "      <td>WI</td>\n",
       "      <td>40.0</td>\n",
       "    </tr>\n",
       "  </tbody>\n",
       "</table>\n",
       "</div>"
      ],
      "text/plain": [
       "                   job_title salary_estimate              location  rating  \\\n",
       "1     Data/Reporting Analyst        40 - 74        Miami Lakes, FL     3.1   \n",
       "4          Lead Data Analyst        48 - 82         Harrisburg, PA     3.1   \n",
       "5  Supply Chain Data Analyst        65 - 79   Pleasant Prairie, WI     3.6   \n",
       "\n",
       "                      size  founded       type_of_ownership  \\\n",
       "1   1001 to 5000 Employees   2009.0        Company - Public   \n",
       "4   1001 to 5000 Employees   1963.0  Nonprofit Organization   \n",
       "5  5001 to 10000 Employees   1980.0       Company - Private   \n",
       "\n",
       "                   industry         sector                           revenue  \\\n",
       "1     Banks & Credit Unions        Finance                $10+ billion (USD)   \n",
       "4                   Lending        Finance  $500 million to $1 billion (USD)   \n",
       "5  Industrial Manufacturing  Manufacturing                               NaN   \n",
       "\n",
       "   min_salary  max_salary  avg_salary              city state  company_age  \n",
       "1          40          74        57.0       Miami Lakes    FL         11.0  \n",
       "4          48          82        65.0        Harrisburg    PA         57.0  \n",
       "5          65          79        72.0  Pleasant Prairie    WI         40.0  "
      ]
     },
     "execution_count": 46,
     "metadata": {},
     "output_type": "execute_result"
    }
   ],
   "source": [
    "df.head(3)"
   ]
  },
  {
   "cell_type": "markdown",
   "metadata": {},
   "source": [
    "## Define"
   ]
  },
  {
   "cell_type": "markdown",
   "metadata": {},
   "source": [
    "Drop all duplicated jobs"
   ]
  },
  {
   "cell_type": "markdown",
   "metadata": {},
   "source": [
    "## Code"
   ]
  },
  {
   "cell_type": "code",
   "execution_count": 47,
   "metadata": {
    "scrolled": false
   },
   "outputs": [],
   "source": [
    "df.drop_duplicates(inplace=True)"
   ]
  },
  {
   "cell_type": "markdown",
   "metadata": {},
   "source": [
    "## Test"
   ]
  },
  {
   "cell_type": "code",
   "execution_count": 48,
   "metadata": {},
   "outputs": [
    {
     "data": {
      "text/plain": [
       "(0, 16)"
      ]
     },
     "execution_count": 48,
     "metadata": {},
     "output_type": "execute_result"
    }
   ],
   "source": [
    "df[df.duplicated()].shape"
   ]
  },
  {
   "cell_type": "markdown",
   "metadata": {},
   "source": [
    "## Define"
   ]
  },
  {
   "cell_type": "markdown",
   "metadata": {},
   "source": [
    "Drop unnecessary columns"
   ]
  },
  {
   "cell_type": "markdown",
   "metadata": {},
   "source": [
    "## Code"
   ]
  },
  {
   "cell_type": "code",
   "execution_count": 49,
   "metadata": {},
   "outputs": [
    {
     "data": {
      "text/plain": [
       "Index(['job_title', 'salary_estimate', 'location', 'rating', 'size', 'founded',\n",
       "       'type_of_ownership', 'industry', 'sector', 'revenue', 'min_salary',\n",
       "       'max_salary', 'avg_salary', 'city', 'state', 'company_age'],\n",
       "      dtype='object')"
      ]
     },
     "execution_count": 49,
     "metadata": {},
     "output_type": "execute_result"
    }
   ],
   "source": [
    "df.columns"
   ]
  },
  {
   "cell_type": "code",
   "execution_count": 50,
   "metadata": {},
   "outputs": [],
   "source": [
    "df.drop(['salary_estimate', 'location', 'founded'], axis=1, inplace=True)"
   ]
  },
  {
   "cell_type": "markdown",
   "metadata": {},
   "source": [
    "## Test"
   ]
  },
  {
   "cell_type": "code",
   "execution_count": 51,
   "metadata": {},
   "outputs": [
    {
     "data": {
      "text/html": [
       "<div>\n",
       "<style scoped>\n",
       "    .dataframe tbody tr th:only-of-type {\n",
       "        vertical-align: middle;\n",
       "    }\n",
       "\n",
       "    .dataframe tbody tr th {\n",
       "        vertical-align: top;\n",
       "    }\n",
       "\n",
       "    .dataframe thead th {\n",
       "        text-align: right;\n",
       "    }\n",
       "</style>\n",
       "<table border=\"1\" class=\"dataframe\">\n",
       "  <thead>\n",
       "    <tr style=\"text-align: right;\">\n",
       "      <th></th>\n",
       "      <th>job_title</th>\n",
       "      <th>rating</th>\n",
       "      <th>size</th>\n",
       "      <th>type_of_ownership</th>\n",
       "      <th>industry</th>\n",
       "      <th>sector</th>\n",
       "      <th>revenue</th>\n",
       "      <th>min_salary</th>\n",
       "      <th>max_salary</th>\n",
       "      <th>avg_salary</th>\n",
       "      <th>city</th>\n",
       "      <th>state</th>\n",
       "      <th>company_age</th>\n",
       "    </tr>\n",
       "  </thead>\n",
       "  <tbody>\n",
       "    <tr>\n",
       "      <th>588</th>\n",
       "      <td>Data Technology Analyst (Summer 2021 Start Date)</td>\n",
       "      <td>4.0</td>\n",
       "      <td>1001 to 5000 Employees</td>\n",
       "      <td>Company - Public</td>\n",
       "      <td>IT Services</td>\n",
       "      <td>Information Technology</td>\n",
       "      <td>$100 to $500 million (USD)</td>\n",
       "      <td>44</td>\n",
       "      <td>62</td>\n",
       "      <td>53.0</td>\n",
       "      <td>Washington</td>\n",
       "      <td>DC</td>\n",
       "      <td>24.0</td>\n",
       "    </tr>\n",
       "  </tbody>\n",
       "</table>\n",
       "</div>"
      ],
      "text/plain": [
       "                                            job_title  rating  \\\n",
       "588  Data Technology Analyst (Summer 2021 Start Date)     4.0   \n",
       "\n",
       "                       size type_of_ownership     industry  \\\n",
       "588  1001 to 5000 Employees  Company - Public  IT Services   \n",
       "\n",
       "                     sector                     revenue  min_salary  \\\n",
       "588  Information Technology  $100 to $500 million (USD)          44   \n",
       "\n",
       "     max_salary  avg_salary        city state  company_age  \n",
       "588          62        53.0  Washington    DC         24.0  "
      ]
     },
     "execution_count": 51,
     "metadata": {},
     "output_type": "execute_result"
    }
   ],
   "source": [
    "df.sample()"
   ]
  },
  {
   "cell_type": "markdown",
   "metadata": {},
   "source": [
    "## Define"
   ]
  },
  {
   "cell_type": "markdown",
   "metadata": {},
   "source": [
    "Parse and clean `job_title` based on role and seniority"
   ]
  },
  {
   "cell_type": "markdown",
   "metadata": {},
   "source": [
    "## Code"
   ]
  },
  {
   "cell_type": "code",
   "execution_count": 52,
   "metadata": {},
   "outputs": [],
   "source": [
    "titles = df.job_title.value_counts().index"
   ]
  },
  {
   "cell_type": "code",
   "execution_count": 53,
   "metadata": {
    "scrolled": false
   },
   "outputs": [
    {
     "data": {
      "text/plain": [
       "Index(['Data Analyst', 'Senior Data Analyst', 'Research Data Analyst',\n",
       "       'Junior Data Analyst', 'Data Governance Analyst',\n",
       "       'Business Data Analyst', 'Data Quality Analyst',\n",
       "       'Data Analyst, Business Intelligence', 'Marketing Data Analyst',\n",
       "       'Data Operations Analyst',\n",
       "       ...\n",
       "       'Data Research Analyst', 'Data Analyst - Contract to Perm Role',\n",
       "       'Looker Data Analyst', 'Provider Data Analyst',\n",
       "       'Cybersecurity Data Loss Prevention (DLP) Governance Analyst',\n",
       "       'Field Data Collection Analyst (GIS)', 'Data Analyst, Data Analytics',\n",
       "       'Data Analyst I - Wholesale',\n",
       "       'Business Systems Analyst – Customer Data Analytics',\n",
       "       'Business/Data Analyst'],\n",
       "      dtype='object', length=365)"
      ]
     },
     "execution_count": 53,
     "metadata": {},
     "output_type": "execute_result"
    }
   ],
   "source": [
    "titles"
   ]
  },
  {
   "cell_type": "code",
   "execution_count": 54,
   "metadata": {},
   "outputs": [],
   "source": [
    "def title_simplifier(title):\n",
    "        if 'data analyst' in title.lower():\n",
    "            return 'data analyst'\n",
    "        elif 'data' in title.lower():\n",
    "            return 'data analyst'\n",
    "        else:\n",
    "            return np.nan"
   ]
  },
  {
   "cell_type": "code",
   "execution_count": 79,
   "metadata": {},
   "outputs": [],
   "source": [
    "def seniority (title):\n",
    "        if 'senior' in title.lower() or 'sr' in title.lower() or 'lead' in title.lower() or 'principal' in title.lower():\n",
    "            return 'senior'\n",
    "        elif 'junior' in title.lower() or 'jr' in title.lower() or 'jr.' in title.lower():\n",
    "            return 'junior'\n",
    "        elif 'intern' in title.lower() or 'entry level' in title.lower() or 'student' in title.lower():\n",
    "            return 'intern'\n",
    "        else:\n",
    "            return np.nan\n",
    "        "
   ]
  },
  {
   "cell_type": "code",
   "execution_count": 78,
   "metadata": {},
   "outputs": [
    {
     "data": {
      "text/plain": [
       "Data Analyst                                                                                                                                              51\n",
       "Senior Data Analyst                                                                                                                                       14\n",
       "Research Data Analyst                                                                                                                                      8\n",
       "Junior Data Analyst                                                                                                                                        6\n",
       "Data Governance Analyst                                                                                                                                    6\n",
       "Business Data Analyst                                                                                                                                      5\n",
       "Data Quality Analyst                                                                                                                                       5\n",
       "Data Analyst, Business Intelligence                                                                                                                        5\n",
       "Marketing Data Analyst                                                                                                                                     5\n",
       "Data Operations Analyst                                                                                                                                    4\n",
       "Data Visualization Analyst                                                                                                                                 4\n",
       "Sr Data Analyst                                                                                                                                            4\n",
       "Data Analyst III                                                                                                                                           4\n",
       "Operations Data Analyst                                                                                                                                    4\n",
       "Health Care Data Analyst                                                                                                                                   4\n",
       "Digital Marketing Data Analyst                                                                                                                             3\n",
       "Data Analyst I                                                                                                                                             3\n",
       "Pharmacy Data Analyst                                                                                                                                      3\n",
       "Recruiting Data Analyst                                                                                                                                    3\n",
       "Lead Data Analyst                                                                                                                                          3\n",
       "Data Integrity Analyst                                                                                                                                     3\n",
       "Jr Data Analyst                                                                                                                                            3\n",
       "Supply Chain Data Analyst                                                                                                                                  3\n",
       "Claims Data Analyst                                                                                                                                        3\n",
       "Technical Data Analyst                                                                                                                                     3\n",
       "Scientific Data Analyst                                                                                                                                    3\n",
       "Data Analyst (Entry Level)                                                                                                                                 2\n",
       "Product Data Analyst                                                                                                                                       2\n",
       "Data Analyst, Product                                                                                                                                      2\n",
       "Data and Research Analyst                                                                                                                                  2\n",
       "IT Data Analyst                                                                                                                                            2\n",
       "SQL Data Analyst                                                                                                                                           2\n",
       "Principal Data Solutions Analyst                                                                                                                           2\n",
       "E-commerce Data Analyst                                                                                                                                    2\n",
       "Tableau Data Analyst                                                                                                                                       2\n",
       "Quality Data Analyst                                                                                                                                       2\n",
       "Jr Data Analyst (Freshers Can Also Apply)                                                                                                                  2\n",
       "Data Analyst/Programmer                                                                                                                                    2\n",
       "Data and Technology Analyst                                                                                                                                2\n",
       "Data Conversion Analyst                                                                                                                                    2\n",
       "Epic Clarity Data Analyst                                                                                                                                  2\n",
       "Data Analyst / Driver Messenger Supporting the USMS                                                                                                        1\n",
       "Data Analyst - Supply Chain Solution Specialist - USDC                                                                                                     1\n",
       "DoD Data Analyst - Consultant                                                                                                                              1\n",
       "Investment Data Quality Analyst                                                                                                                            1\n",
       "Contract Data Analyst                                                                                                                                      1\n",
       "Data Analyst, Digital                                                                                                                                      1\n",
       "Data Analyst Fellow                                                                                                                                        1\n",
       "Business Analyst                                                                                                                                           1\n",
       "Analyst, Data Analytics                                                                                                                                    1\n",
       "Data Analyst (Insights and Reporting)                                                                                                                      1\n",
       "Data Scientist and Business Analyst                                                                                                                        1\n",
       "Wealth Management, Client Data Analyst                                                                                                                     1\n",
       "Supply Chain Data Analyst (South of Milwaukee)                                                                                                             1\n",
       "DATA ANALYST (TEMPORARY)                                                                                                                                   1\n",
       "Master Data Coordinator (Master Data Analyst)                                                                                                              1\n",
       "Research Data Analyst (Clinical)                                                                                                                           1\n",
       "Data Analyst Supporting the DEA                                                                                                                            1\n",
       "Data Privacy Analyst - Global Analytics                                                                                                                    1\n",
       "Finance Data Analyst II                                                                                                                                    1\n",
       "Portfolio Operations - Data Science, Product Analyst                                                                                                       1\n",
       "Data Analyst- Cardiac Surgery Services                                                                                                                     1\n",
       "Data & Business Analyst                                                                                                                                    1\n",
       "Senior Crew Data Analyst                                                                                                                                   1\n",
       "Associate Analyst, Data Intelligence                                                                                                                       1\n",
       "Data Visualization Analyst, Operations Strategy & Analytics                                                                                                1\n",
       "Operation Project Analyst-Data Center                                                                                                                      1\n",
       "Data Analyst - Remote                                                                                                                                      1\n",
       "Data/Business Intelligence Analyst                                                                                                                         1\n",
       "Business Intelligence Analyst - Data Scientist                                                                                                             1\n",
       "SQL Data Integration Analyst                                                                                                                               1\n",
       "DATA Analyst - Clinical Statistician @ Minneapolis, MN                                                                                                     1\n",
       "Intern, Statistician-Data Analyst, Summer FIS University Program 2021                                                                                      1\n",
       "IT Technical Data Analyst                                                                                                                                  1\n",
       "Global Process Data Analyst                                                                                                                                1\n",
       "Counterterrorism Data Exploitation Analyst (Mid-Level)                                                                                                     1\n",
       "Call Center Work Force Management- Data Analyst                                                                                                            1\n",
       "Data Analyst- Fortify                                                                                                                                      1\n",
       "Health Data Analyst / Statistician Intermediate                                                                                                            1\n",
       "Senior Benefits Data Analyst - Compliance                                                                                                                  1\n",
       "HCM Data Analyst                                                                                                                                           1\n",
       "City Research Scientist II / Data Analyst, Bureau of HIV                                                                                                   1\n",
       "IT Data Analyst III                                                                                                                                        1\n",
       "Arizona School Data Analyst - (AZVA)                                                                                                                       1\n",
       "Research Data Management Analyst - Kaiser Permanente Bernard J. Tyson School of Medicine                                                                   1\n",
       "Data Analyst, Paid Search                                                                                                                                  1\n",
       "Data Management Analyst IV                                                                                                                                 1\n",
       "Department Data Analyst                                                                                                                                    1\n",
       "Data Warehouse Analyst                                                                                                                                     1\n",
       "Data Analyst I/II - Patient-Centered Research                                                                                                              1\n",
       "Advertising Data Analyst, Business Intelligence                                                                                                            1\n",
       "Analyst, Data Visualization                                                                                                                                1\n",
       "Sr. Data Analyst, BI                                                                                                                                       1\n",
       "ETL, Data Warehouse Test Analyst                                                                                                                           1\n",
       "Analyst, Data Management / Quantitative Analysis                                                                                                           1\n",
       "Data Analyst - Kenra Professional                                                                                                                          1\n",
       "Life Data Analyst                                                                                                                                          1\n",
       "Business Analyst II                                                                                                                                        1\n",
       "Business Intelligence Analyst / Data Scientist                                                                                                             1\n",
       "Analyst – Data Center Operations                                                                                                                           1\n",
       "Data Analyst - Payments                                                                                                                                    1\n",
       "Data Analyst II - Risk Adjustment Analyst - San Antonio, TX                                                                                                1\n",
       "Product Data Analyst / Data Scientist                                                                                                                      1\n",
       "PIM Manager/Data Analyst                                                                                                                                   1\n",
       "Sales Data Analyst                                                                                                                                         1\n",
       "Configuration/Data Management Analyst                                                                                                                      1\n",
       "Data Center Analyst                                                                                                                                        1\n",
       "Data Engineering Analyst, Finance Data and Analytics                                                                                                       1\n",
       "OSSE: Management Analyst (Data Analyst)                                                                                                                    1\n",
       "GME Research Data Developer Analyst                                                                                                                        1\n",
       "Excel Data Analyst                                                                                                                                         1\n",
       "Data Analytics Analyst                                                                                                                                     1\n",
       "Sr Analyst, Business Analytics – Data Analytics Development                                                                                                1\n",
       "Data Quality Analyst (Trinity County, CA)                                                                                                                  1\n",
       "Enterprise Data, Financial Data Analyst - Content Design Specialist Contractor                                                                             1\n",
       "Data Analyst - Eden Prairie, MN or Telecommute                                                                                                             1\n",
       "Banking, Capital Markets and Advisory (BCMA) - Investment Banking, Summer Analyst: Data Science Analyst, M&A Strategic Shareholder Advisory - New York     1\n",
       "Automation Data Analyst                                                                                                                                    1\n",
       "Business Systems Analyst, Data & Analytics                                                                                                                 1\n",
       "Data Science Analyst - Technology Strategic Planning                                                                                                       1\n",
       "Solar Data Analyst                                                                                                                                         1\n",
       "GBSD Sr Data Analyst – Systems Engineer                                                                                                                    1\n",
       "Data Analytics Analyst/Trainer                                                                                                                             1\n",
       "Entry Level Data Solution Analyst                                                                                                                          1\n",
       "Systems and Data Analyst 2                                                                                                                                 1\n",
       "HRIS Data Analyst                                                                                                                                          1\n",
       "Research and Data Systems Analyst 2                                                                                                                        1\n",
       "Data Analyst, Information Systems                                                                                                                          1\n",
       "Safety Data Analyst                                                                                                                                        1\n",
       "Data Analyst (Lab Technician) Supporting the FBI Laboratory                                                                                                1\n",
       "Data Analyst-Business Information Specialist                                                                                                               1\n",
       "Quality Improvement Data Analyst - Nutrition                                                                                                               1\n",
       "Sr. Investments Data Analyst                                                                                                                               1\n",
       "Data Analyst - Performance Assurance                                                                                                                       1\n",
       "Data Privacy Analyst - USA                                                                                                                                 1\n",
       "Metrics & Data Analytics Analyst                                                                                                                           1\n",
       "Lead Data Analyst for Datawarehouse                                                                                                                        1\n",
       "Data Analyst Senior                                                                                                                                        1\n",
       "Senior Financial Analyst-Data Analytics                                                                                                                    1\n",
       "Strategic Data Analyst, Population Health Innovation Institute                                                                                             1\n",
       "Early Childhood Data and Policy Analyst                                                                                                                    1\n",
       "ELINT Data Analyst                                                                                                                                         1\n",
       "Clinical Data Analyst - Patient Experience                                                                                                                 1\n",
       "Data Analyst/Tableau Developer                                                                                                                             1\n",
       "US - Data Analyst                                                                                                                                          1\n",
       "Senior Data and Research Analyst                                                                                                                           1\n",
       "Data Analyst IV (Healthcare Analytics)                                                                                                                     1\n",
       "Data Management Business Analyst-Sourcing Analytics, CT or Remote                                                                                          1\n",
       "Business Analyst - Data Science                                                                                                                            1\n",
       "Salesfore Data Analyst                                                                                                                                     1\n",
       "Data Analyst Coordinator                                                                                                                                   1\n",
       "Data Quality Analyst (Butte County, CA)                                                                                                                    1\n",
       "MASTER DATA ANALYST                                                                                                                                        1\n",
       "Data Analyst, Advanced Analytics                                                                                                                           1\n",
       "Provider Data Analyst - Los Angeles, CA or Columbia, MD                                                                                                    1\n",
       "Sports Science Data Analyst                                                                                                                                1\n",
       "Data Journalist - Visualization Analyst                                                                                                                    1\n",
       "(Senior/ Lead) Product Analyst - Data Intelligence                                                                                                         1\n",
       "Sales Data Analyst ( Strong excel)                                                                                                                         1\n",
       "Senior Quality, Safety, Health Equity Data Analyst / 40 Hours / BWH APSI                                                                                   1\n",
       "Compliance Data Analyst                                                                                                                                    1\n",
       "Data Analyst, Operations (226 Days)                                                                                                                        1\n",
       "Data Quality Analyst I                                                                                                                                     1\n",
       "AVP - Data Analyst - ICG EAP NY                                                                                                                            1\n",
       "HRIS Analyst - Data & Systems Oracle Fusion                                                                                                                1\n",
       "Data Analyst D                                                                                                                                             1\n",
       "Data Analyst Lead, Vice President (Collibra Data Governance Center)                                                                                        1\n",
       "Information Technology Data Analyst                                                                                                                        1\n",
       "Statistician-Data Analyst I, FIS University Program                                                                                                        1\n",
       "Technical Data Analyst -(Pharmacy/Healthcare industry preferred)                                                                                           1\n",
       "Data Transformation Analyst                                                                                                                                1\n",
       "Supply Chain Data Analyst (North of Chicago)                                                                                                               1\n",
       "Data Analyst - Strategy                                                                                                                                    1\n",
       "Market Data Analyst                                                                                                                                        1\n",
       "Sales Data Entry & Analyst (Women's clothing wholesale)                                                                                                    1\n",
       "Data Standard Analyst - Biostatistics Team                                                                                                                 1\n",
       "Senior Business Analyst - Data Solutions                                                                                                                   1\n",
       "Guest Data Analyst                                                                                                                                         1\n",
       "Senior Data Analyst, Data Transformation                                                                                                                   1\n",
       "Junior Data Analyst / Entry Level / Training                                                                                                               1\n",
       "Data Support Analyst                                                                                                                                       1\n",
       "DATA ANALYST PROGRAMMER, DUKE-MARGOLIS CENTER FOR HEALTH POLICY                                                                                            1\n",
       "Analyst - Data Analytics                                                                                                                                   1\n",
       "Data Engineer Analyst / Developer                                                                                                                          1\n",
       "Data Analyst - Heart Transplant/MCS / 40 Hour / Days                                                                                                       1\n",
       "Contract Data Study Analyst                                                                                                                                1\n",
       "Data Analyst III Peri-and-Post Approval Studies                                                                                                            1\n",
       "Product Analyst/Data Scientist (Senior or Midlevel)                                                                                                        1\n",
       "Data Analyst (New York based, relocation required)                                                                                                         1\n",
       "Data Analytics/Algorithm Analyst                                                                                                                           1\n",
       "Digital Engagement Data Analyst/Admin                                                                                                                      1\n",
       "Financial Data Analyst                                                                                                                                     1\n",
       "OSP Data Analyst                                                                                                                                           1\n",
       "Laboratory Data Analyst                                                                                                                                    1\n",
       "Marketing Automation Data Analyst                                                                                                                          1\n",
       "Credit Data Analyst                                                                                                                                        1\n",
       "Senior Analyst, Data & Analytics                                                                                                                           1\n",
       "BSA/AML Data Analytics & Performance Analyst                                                                                                               1\n",
       "Data Technology Analyst (Summer 2021 Start Date)                                                                                                           1\n",
       "Data Analyst Engineering Data & Analytics                                                                                                                  1\n",
       "Planning Data Analyst - Mahwah NJ                                                                                                                          1\n",
       "Entry Level Business Analyst                                                                                                                               1\n",
       "Medicaid Healthcare Data and Statistical Analyst                                                                                                           1\n",
       "Marketing Data Analyst, Portsmouth                                                                                                                         1\n",
       "Data Analyst (Houston)                                                                                                                                     1\n",
       "Sr Business/Data Analyst, Technology                                                                                                                       1\n",
       "Data Privacy Analyst                                                                                                                                       1\n",
       "SHE Data & Analytics Analyst                                                                                                                               1\n",
       "Data Analyst-Technical-Staff                                                                                                                               1\n",
       "Technology Data Management and Reporting Analyst                                                                                                           1\n",
       "Health Policy Data Analyst                                                                                                                                 1\n",
       "Operations Data Analyst - Advisor Commissions (Remote)                                                                                                     1\n",
       "Lead Medical Coding Data Analyst                                                                                                                           1\n",
       "Senior Media Data & Reporting Analyst                                                                                                                      1\n",
       "Public Policy Data Analyst (Community Safety)                                                                                                              1\n",
       "Senior Data Analyst, Marketing                                                                                                                             1\n",
       "Lead Data Analyst, Tax Information Reporting and Control Analytics                                                                                         1\n",
       "Talent Acquisition Data Analyst                                                                                                                            1\n",
       "DATA ANALYST                                                                                                                                               1\n",
       "Data Management Business Analyst                                                                                                                           1\n",
       "Healthcare Payer - Data Analyst                                                                                                                            1\n",
       "Equity Research Data Analyst                                                                                                                               1\n",
       "Health Data Analyst                                                                                                                                        1\n",
       "Data Analyst/Contractor                                                                                                                                    1\n",
       "Wealth Management Reporting and Data Analyst                                                                                                               1\n",
       "Lead Data Science Analyst                                                                                                                                  1\n",
       "Clinical Informatics Analyst- UAB Data Analytics (Full Time)                                                                                               1\n",
       "ERAP Data Analyst                                                                                                                                          1\n",
       "Data Analyst - New York Life Investments                                                                                                                   1\n",
       "Market Intelligence and Data Analytics Analyst II                                                                                                          1\n",
       "Quality Assurance Analyst - Data Warehouse ETL (North of Chicago)                                                                                          1\n",
       "Scientist Level 1 - Data Analyst - US                                                                                                                      1\n",
       "Data Center Logistics Analyst, University Grad                                                                                                             1\n",
       "Data Scientist/Analyst                                                                                                                                     1\n",
       "COLLEGE DATA ANALYST                                                                                                                                       1\n",
       "Data Analyst - Finance                                                                                                                                     1\n",
       "RESEARCH DATA ANALYST, Boston University School of Public Health                                                                                           1\n",
       "Data Quality Assurance Analyst                                                                                                                             1\n",
       "Attendance and Truancy Data Analyst                                                                                                                        1\n",
       "D&I Business/Data Analyst Summer Internship                                                                                                                1\n",
       "Data/Reporting Analyst                                                                                                                                     1\n",
       "Data Analyst Intern                                                                                                                                        1\n",
       "Data Analyst Portland, OR                                                                                                                                  1\n",
       "Data Analyst, Linkage Capabilities Transformation                                                                                                          1\n",
       "Sr. Data Analyst - Insurance Pricing Specialist                                                                                                            1\n",
       "Data Science Analyst - RH                                                                                                                                  1\n",
       "Senior Product & Data Solutions Analyst                                                                                                                    1\n",
       "NAM Card AML Oversight Data Analytics Lead Analyst                                                                                                         1\n",
       "Healthcare Data Analyst (Remote Opportunity)                                                                                                               1\n",
       "Data Analyst (Retail Energy)                                                                                                                               1\n",
       "Summer Intern: Product Data Analyst                                                                                                                        1\n",
       "Investment Data Analyst                                                                                                                                    1\n",
       "Quantitative Data Analyst                                                                                                                                  1\n",
       "DATA INFORMATICS ANALYST                                                                                                                                   1\n",
       "Program Finance & Data Analyst                                                                                                                             1\n",
       "Sales Operations Data Analyst II - Cox Media Inc                                                                                                           1\n",
       "Data Management Analyst                                                                                                                                    1\n",
       "Student Data Analyst                                                                                                                                       1\n",
       "Data and Integrations Analyst - Minnetonka, MN                                                                                                             1\n",
       "Grants Manager/Data Analyst                                                                                                                                1\n",
       "Big Data Analyst                                                                                                                                           1\n",
       "Data Analyst/Data Entry Analyst.                                                                                                                           1\n",
       "Marketing Analyst/ Data Scientist                                                                                                                          1\n",
       "Tableau Admin / Data Analyst                                                                                                                               1\n",
       "Research Analyst - Data Science Division                                                                                                                   1\n",
       "Master Data Reporting Analyst                                                                                                                              1\n",
       "Vendor Master Data Analyst - 6+ Month Contract - $17/hr                                                                                                    1\n",
       "Travel Data Analyst                                                                                                                                        1\n",
       "HR Systems and Data Analyst - Augsburg University                                                                                                          1\n",
       "Test Analyst - ETL/Data Warehouse/BI Reporting/Java/Micro Services                                                                                         1\n",
       "Data Analyst, Retail Media                                                                                                                                 1\n",
       "Market Data Analyst, West Palm Beach, FL                                                                                                                   1\n",
       "Analyst I, Data Analytics                                                                                                                                  1\n",
       "Analyst, Privacy Operations – Data Privacy Office / Data Governance                                                                                        1\n",
       "Data Analyst, Benchmarking (Energy)                                                                                                                        1\n",
       "Senior Data Governance Analyst                                                                                                                             1\n",
       "Data Analyst/Business Systems Analyst                                                                                                                      1\n",
       "Test Analyst - ETL/Data Warehouse/Unix/Report Testing/Analytics                                                                                            1\n",
       "Analyst Master Data                                                                                                                                        1\n",
       "Data Security Analyst                                                                                                                                      1\n",
       "Data Analyst II                                                                                                                                            1\n",
       "Data Link Analyst                                                                                                                                          1\n",
       "Senior Data Science Analyst - Center for Digital Health                                                                                                    1\n",
       "Quality Metrics and Data Analyst                                                                                                                           1\n",
       "Data Analyst, Marketing                                                                                                                                    1\n",
       "Operations Analyst, Master Data Office                                                                                                                     1\n",
       "Quantitative Business Analyst - Strategic Data Solutions                                                                                                   1\n",
       "Business Analyst - Data Operations                                                                                                                         1\n",
       "Data Analyst I - Cox Business Indirect Sales                                                                                                               1\n",
       "Data Insight Analyst                                                                                                                                       1\n",
       "Web and Marketing Data Analyst                                                                                                                             1\n",
       "Quantitative Analyst/Data Scientist                                                                                                                        1\n",
       "Data and Reporting Analyst, Strategic Planning & Delivery-6                                                                                                1\n",
       "Senior Application Analyst - Data Visualization & SQL                                                                                                      1\n",
       "Treasury Data Analyst                                                                                                                                      1\n",
       "Digital Data Analyst                                                                                                                                       1\n",
       "Configuration Data Management Analyst                                                                                                                      1\n",
       "Data Programmer Analyst I                                                                                                                                  1\n",
       "Seasonal Data Capture Analyst                                                                                                                              1\n",
       "Data Analyst (Remote Opportunity)                                                                                                                          1\n",
       "Data Steward, Modeler, Analyst, Scientist, etc.                                                                                                            1\n",
       "Research Assistant/Data Analyst                                                                                                                            1\n",
       "Financial Data Solutions, Sr. Data & Information Reporting Analyst                                                                                         1\n",
       "Data Analyst – Institutional Clients Group Analytics AVP                                                                                                   1\n",
       "Data Analyst II - Healthcare                                                                                                                               1\n",
       "IT Data Analyst - Administration                                                                                                                           1\n",
       "Data Analyst, Compliance                                                                                                                                   1\n",
       "QA Analyst – Data Analytics                                                                                                                                1\n",
       "Variable Data Analyst                                                                                                                                      1\n",
       "Business/ Data Analyst                                                                                                                                     1\n",
       "Data Analyst Manager                                                                                                                                       1\n",
       "Sales Systems and Data Analyst                                                                                                                             1\n",
       "Jr. Data Analyst                                                                                                                                           1\n",
       "Analyst II - Data Analytics                                                                                                                                1\n",
       "Finance Data Analyst                                                                                                                                       1\n",
       "Energy Data Analyst                                                                                                                                        1\n",
       "Data Analyst - Sales Performance                                                                                                                           1\n",
       "Data Analyst Supporting the FBI                                                                                                                            1\n",
       "Data Analyst (GIS)                                                                                                                                         1\n",
       "Data Visualization & Research Analyst                                                                                                                      1\n",
       "Data Analyst-HEDIS & Star                                                                                                                                  1\n",
       "Senior Data / Operations Reporting Analyst                                                                                                                 1\n",
       "Senior Analyst, Data Strategy                                                                                                                              1\n",
       "Data Science Support Analyst (Journeyman)                                                                                                                  1\n",
       "Senior Data Analyst - Credit Risk Mgmt                                                                                                                     1\n",
       "Lead Reporting Data Analyst                                                                                                                                1\n",
       "Data Analyst (Job #1182)                                                                                                                                   1\n",
       "Seat Services Data Analyst (Norfolk)                                                                                                                       1\n",
       "Data Analyst-Power BI Developer                                                                                                                            1\n",
       "Lending Data Analyst                                                                                                                                       1\n",
       "Data Analyst/Data Modeler                                                                                                                                  1\n",
       "Environmental Data Analyst - 1 to 5 Years Experience                                                                                                       1\n",
       "CX Data Analyst                                                                                                                                            1\n",
       "Research Data Analyst- Boston CCBHC                                                                                                                        1\n",
       "Data Analyst, Self-Driving                                                                                                                                 1\n",
       "Regulatory Affairs Data Analyst                                                                                                                            1\n",
       "Content Development Analyst (Data Entry)                                                                                                                   1\n",
       "ETL/ Data Warehouse Test Analyst                                                                                                                           1\n",
       "Forecasting Analyst                                                                                                                                        1\n",
       "Quality Assurance Analyst - Data Warehouse ETL (South of Milwaukee)                                                                                        1\n",
       "Data Engineering Analyst                                                                                                                                   1\n",
       "Master Data Analyst                                                                                                                                        1\n",
       "Data and Policy Analyst, Early Care & Education                                                                                                            1\n",
       "eCommerce/Marketing Data Analyst                                                                                                                           1\n",
       "Data Analyst, High Tech Product & Enablement Platforms                                                                                                     1\n",
       "Data Enhancement Team: Analyst                                                                                                                             1\n",
       "BI Data Analyst                                                                                                                                            1\n",
       "Data Analyst - Organizational Foundations (Data Analyst IV)                                                                                                1\n",
       "Procurement Data Analyst                                                                                                                                   1\n",
       "ERP Analyst, Data Conversion                                                                                                                               1\n",
       "Business System Analyst 3 (Quality Control Data Analyst) - SOM:Cancer Center -Davis                                                                        1\n",
       "CRA Data Analyst                                                                                                                                           1\n",
       "Data Integrity Analyst I                                                                                                                                   1\n",
       "Fixed Term Junior Data Analyst                                                                                                                             1\n",
       "Data Analyst – St. Peter's Hospital – Full Time Days                                                                                                       1\n",
       "Data Research Analyst                                                                                                                                      1\n",
       "Data Analyst - Contract to Perm Role                                                                                                                       1\n",
       "Looker Data Analyst                                                                                                                                        1\n",
       "Provider Data Analyst                                                                                                                                      1\n",
       "Cybersecurity Data Loss Prevention (DLP) Governance Analyst                                                                                                1\n",
       "Field Data Collection Analyst (GIS)                                                                                                                        1\n",
       "Data Analyst, Data Analytics                                                                                                                               1\n",
       "Data Analyst I - Wholesale                                                                                                                                 1\n",
       "Business Systems Analyst – Customer Data Analytics                                                                                                         1\n",
       "Business/Data Analyst                                                                                                                                      1\n",
       "Name: job_title, dtype: int64"
      ]
     },
     "execution_count": 78,
     "metadata": {},
     "output_type": "execute_result"
    }
   ],
   "source": [
    "df.job_title.value_counts()"
   ]
  },
  {
   "cell_type": "code",
   "execution_count": 80,
   "metadata": {},
   "outputs": [],
   "source": [
    "df['job_title_simp'] = df.job_title.apply(title_simplifier)"
   ]
  },
  {
   "cell_type": "code",
   "execution_count": 81,
   "metadata": {},
   "outputs": [],
   "source": [
    "df['seniority'] = df.job_title.apply(seniority)"
   ]
  },
  {
   "cell_type": "markdown",
   "metadata": {},
   "source": [
    "## Test"
   ]
  },
  {
   "cell_type": "code",
   "execution_count": 82,
   "metadata": {},
   "outputs": [
    {
     "data": {
      "text/plain": [
       "data analyst    512\n",
       "Name: job_title_simp, dtype: int64"
      ]
     },
     "execution_count": 82,
     "metadata": {},
     "output_type": "execute_result"
    }
   ],
   "source": [
    "df.job_title_simp.value_counts()"
   ]
  },
  {
   "cell_type": "code",
   "execution_count": 83,
   "metadata": {},
   "outputs": [
    {
     "data": {
      "text/plain": [
       "senior    57\n",
       "junior    14\n",
       "intern     9\n",
       "Name: seniority, dtype: int64"
      ]
     },
     "execution_count": 83,
     "metadata": {},
     "output_type": "execute_result"
    }
   ],
   "source": [
    "df.seniority.value_counts()"
   ]
  },
  {
   "cell_type": "markdown",
   "metadata": {},
   "source": [
    "# Save Final df"
   ]
  },
  {
   "cell_type": "code",
   "execution_count": 85,
   "metadata": {},
   "outputs": [],
   "source": [
    "df.to_csv('salaries_clean', index=False)"
   ]
  }
 ],
 "metadata": {
  "kernelspec": {
   "display_name": "Python 3",
   "language": "python",
   "name": "python3"
  },
  "language_info": {
   "codemirror_mode": {
    "name": "ipython",
    "version": 3
   },
   "file_extension": ".py",
   "mimetype": "text/x-python",
   "name": "python",
   "nbconvert_exporter": "python",
   "pygments_lexer": "ipython3",
   "version": "3.8.5"
  }
 },
 "nbformat": 4,
 "nbformat_minor": 4
}
