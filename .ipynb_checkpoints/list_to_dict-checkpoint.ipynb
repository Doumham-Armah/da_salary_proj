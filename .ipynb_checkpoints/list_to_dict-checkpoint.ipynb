{
 "cells": [
  {
   "cell_type": "code",
   "execution_count": 1,
   "metadata": {},
   "outputs": [],
   "source": [
    "comp_info = ['Size', '1001 to 5000 Employees', 'Founded', '2002', 'Type', 'Company - Private', 'Industry', 'Investment Banking & Asset Management', 'Sector', 'Finance', 'Revenue', '$500 million to $1 billion (USD)']"
   ]
  },
  {
   "cell_type": "code",
   "execution_count": 2,
   "metadata": {},
   "outputs": [],
   "source": [
    "it = iter(comp_info)\n",
    "comp_info = dict(zip(it, it))"
   ]
  },
  {
   "cell_type": "code",
   "execution_count": 3,
   "metadata": {},
   "outputs": [
    {
     "data": {
      "text/plain": [
       "{'Size': '1001 to 5000 Employees',\n",
       " 'Founded': '2002',\n",
       " 'Type': 'Company - Private',\n",
       " 'Industry': 'Investment Banking & Asset Management',\n",
       " 'Sector': 'Finance',\n",
       " 'Revenue': '$500 million to $1 billion (USD)'}"
      ]
     },
     "execution_count": 3,
     "metadata": {},
     "output_type": "execute_result"
    }
   ],
   "source": [
    "comp_info"
   ]
  },
  {
   "cell_type": "code",
   "execution_count": null,
   "metadata": {},
   "outputs": [],
   "source": []
  }
 ],
 "metadata": {
  "kernelspec": {
   "display_name": "Python 3",
   "language": "python",
   "name": "python3"
  },
  "language_info": {
   "codemirror_mode": {
    "name": "ipython",
    "version": 3
   },
   "file_extension": ".py",
   "mimetype": "text/x-python",
   "name": "python",
   "nbconvert_exporter": "python",
   "pygments_lexer": "ipython3",
   "version": "3.8.3"
  }
 },
 "nbformat": 4,
 "nbformat_minor": 4
}
